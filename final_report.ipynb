{
 "cells": [
  {
   "cell_type": "markdown",
   "id": "54d488a7",
   "metadata": {},
   "source": [
    "## Final Report"
   ]
  },
  {
   "cell_type": "code",
   "execution_count": 1,
   "id": "e3d9d1d8",
   "metadata": {},
   "outputs": [],
   "source": [
    "import pandas as pd\n",
    "import numpy as np\n",
    "import wrangle as w\n",
    "\n",
    "import warnings\n",
    "warnings.filterwarnings(\"ignore\")\n",
    "\n",
    "pd.set_option('display.max_rows', 1000)"
   ]
  },
  {
   "cell_type": "code",
   "execution_count": 2,
   "id": "706b0486",
   "metadata": {},
   "outputs": [],
   "source": [
    "#get the data\n",
    "df = w.acquire_anonymized_curriculum_access_data()"
   ]
  },
  {
   "cell_type": "code",
   "execution_count": 3,
   "id": "d4855262",
   "metadata": {},
   "outputs": [
    {
     "data": {
      "text/html": [
       "<div>\n",
       "<style scoped>\n",
       "    .dataframe tbody tr th:only-of-type {\n",
       "        vertical-align: middle;\n",
       "    }\n",
       "\n",
       "    .dataframe tbody tr th {\n",
       "        vertical-align: top;\n",
       "    }\n",
       "\n",
       "    .dataframe thead th {\n",
       "        text-align: right;\n",
       "    }\n",
       "</style>\n",
       "<table border=\"1\" class=\"dataframe\">\n",
       "  <thead>\n",
       "    <tr style=\"text-align: right;\">\n",
       "      <th></th>\n",
       "      <th>date</th>\n",
       "      <th>time</th>\n",
       "      <th>page</th>\n",
       "      <th>user_id</th>\n",
       "      <th>cohort_id</th>\n",
       "      <th>ip</th>\n",
       "      <th>name</th>\n",
       "      <th>start_date</th>\n",
       "      <th>end_date</th>\n",
       "      <th>program_id</th>\n",
       "    </tr>\n",
       "  </thead>\n",
       "  <tbody>\n",
       "    <tr>\n",
       "      <th>0</th>\n",
       "      <td>2018-01-26</td>\n",
       "      <td>09:55:03</td>\n",
       "      <td>/</td>\n",
       "      <td>1</td>\n",
       "      <td>8.0</td>\n",
       "      <td>97.105.19.61</td>\n",
       "      <td>Hampton</td>\n",
       "      <td>2015-09-22</td>\n",
       "      <td>2016-02-06</td>\n",
       "      <td>1.0</td>\n",
       "    </tr>\n",
       "    <tr>\n",
       "      <th>1</th>\n",
       "      <td>2018-01-26</td>\n",
       "      <td>09:56:02</td>\n",
       "      <td>java-ii</td>\n",
       "      <td>1</td>\n",
       "      <td>8.0</td>\n",
       "      <td>97.105.19.61</td>\n",
       "      <td>Hampton</td>\n",
       "      <td>2015-09-22</td>\n",
       "      <td>2016-02-06</td>\n",
       "      <td>1.0</td>\n",
       "    </tr>\n",
       "    <tr>\n",
       "      <th>2</th>\n",
       "      <td>2018-01-26</td>\n",
       "      <td>09:56:05</td>\n",
       "      <td>java-ii/object-oriented-programming</td>\n",
       "      <td>1</td>\n",
       "      <td>8.0</td>\n",
       "      <td>97.105.19.61</td>\n",
       "      <td>Hampton</td>\n",
       "      <td>2015-09-22</td>\n",
       "      <td>2016-02-06</td>\n",
       "      <td>1.0</td>\n",
       "    </tr>\n",
       "    <tr>\n",
       "      <th>3</th>\n",
       "      <td>2018-01-26</td>\n",
       "      <td>09:56:06</td>\n",
       "      <td>slides/object_oriented_programming</td>\n",
       "      <td>1</td>\n",
       "      <td>8.0</td>\n",
       "      <td>97.105.19.61</td>\n",
       "      <td>Hampton</td>\n",
       "      <td>2015-09-22</td>\n",
       "      <td>2016-02-06</td>\n",
       "      <td>1.0</td>\n",
       "    </tr>\n",
       "    <tr>\n",
       "      <th>4</th>\n",
       "      <td>2018-01-26</td>\n",
       "      <td>09:56:24</td>\n",
       "      <td>javascript-i/conditionals</td>\n",
       "      <td>2</td>\n",
       "      <td>22.0</td>\n",
       "      <td>97.105.19.61</td>\n",
       "      <td>Teddy</td>\n",
       "      <td>2018-01-08</td>\n",
       "      <td>2018-05-17</td>\n",
       "      <td>2.0</td>\n",
       "    </tr>\n",
       "    <tr>\n",
       "      <th>...</th>\n",
       "      <td>...</td>\n",
       "      <td>...</td>\n",
       "      <td>...</td>\n",
       "      <td>...</td>\n",
       "      <td>...</td>\n",
       "      <td>...</td>\n",
       "      <td>...</td>\n",
       "      <td>...</td>\n",
       "      <td>...</td>\n",
       "      <td>...</td>\n",
       "    </tr>\n",
       "    <tr>\n",
       "      <th>900218</th>\n",
       "      <td>2021-04-21</td>\n",
       "      <td>16:41:51</td>\n",
       "      <td>jquery/personal-site</td>\n",
       "      <td>64</td>\n",
       "      <td>28.0</td>\n",
       "      <td>71.150.217.33</td>\n",
       "      <td>Staff</td>\n",
       "      <td>2014-02-04</td>\n",
       "      <td>2014-02-04</td>\n",
       "      <td>2.0</td>\n",
       "    </tr>\n",
       "    <tr>\n",
       "      <th>900219</th>\n",
       "      <td>2021-04-21</td>\n",
       "      <td>16:42:02</td>\n",
       "      <td>jquery/mapbox-api</td>\n",
       "      <td>64</td>\n",
       "      <td>28.0</td>\n",
       "      <td>71.150.217.33</td>\n",
       "      <td>Staff</td>\n",
       "      <td>2014-02-04</td>\n",
       "      <td>2014-02-04</td>\n",
       "      <td>2.0</td>\n",
       "    </tr>\n",
       "    <tr>\n",
       "      <th>900220</th>\n",
       "      <td>2021-04-21</td>\n",
       "      <td>16:42:09</td>\n",
       "      <td>jquery/ajax/weather-map</td>\n",
       "      <td>64</td>\n",
       "      <td>28.0</td>\n",
       "      <td>71.150.217.33</td>\n",
       "      <td>Staff</td>\n",
       "      <td>2014-02-04</td>\n",
       "      <td>2014-02-04</td>\n",
       "      <td>2.0</td>\n",
       "    </tr>\n",
       "    <tr>\n",
       "      <th>900221</th>\n",
       "      <td>2021-04-21</td>\n",
       "      <td>16:44:37</td>\n",
       "      <td>anomaly-detection/discrete-probabilistic-methods</td>\n",
       "      <td>744</td>\n",
       "      <td>28.0</td>\n",
       "      <td>24.160.137.86</td>\n",
       "      <td>Staff</td>\n",
       "      <td>2014-02-04</td>\n",
       "      <td>2014-02-04</td>\n",
       "      <td>2.0</td>\n",
       "    </tr>\n",
       "    <tr>\n",
       "      <th>900222</th>\n",
       "      <td>2021-04-21</td>\n",
       "      <td>16:44:39</td>\n",
       "      <td>jquery/mapbox-api</td>\n",
       "      <td>64</td>\n",
       "      <td>28.0</td>\n",
       "      <td>71.150.217.33</td>\n",
       "      <td>Staff</td>\n",
       "      <td>2014-02-04</td>\n",
       "      <td>2014-02-04</td>\n",
       "      <td>2.0</td>\n",
       "    </tr>\n",
       "  </tbody>\n",
       "</table>\n",
       "<p>900223 rows × 10 columns</p>\n",
       "</div>"
      ],
      "text/plain": [
       "              date      time  \\\n",
       "0       2018-01-26  09:55:03   \n",
       "1       2018-01-26  09:56:02   \n",
       "2       2018-01-26  09:56:05   \n",
       "3       2018-01-26  09:56:06   \n",
       "4       2018-01-26  09:56:24   \n",
       "...            ...       ...   \n",
       "900218  2021-04-21  16:41:51   \n",
       "900219  2021-04-21  16:42:02   \n",
       "900220  2021-04-21  16:42:09   \n",
       "900221  2021-04-21  16:44:37   \n",
       "900222  2021-04-21  16:44:39   \n",
       "\n",
       "                                                    page  user_id  cohort_id  \\\n",
       "0                                                      /        1        8.0   \n",
       "1                                                java-ii        1        8.0   \n",
       "2                    java-ii/object-oriented-programming        1        8.0   \n",
       "3                     slides/object_oriented_programming        1        8.0   \n",
       "4                              javascript-i/conditionals        2       22.0   \n",
       "...                                                  ...      ...        ...   \n",
       "900218                              jquery/personal-site       64       28.0   \n",
       "900219                                 jquery/mapbox-api       64       28.0   \n",
       "900220                           jquery/ajax/weather-map       64       28.0   \n",
       "900221  anomaly-detection/discrete-probabilistic-methods      744       28.0   \n",
       "900222                                 jquery/mapbox-api       64       28.0   \n",
       "\n",
       "                   ip     name  start_date    end_date  program_id  \n",
       "0        97.105.19.61  Hampton  2015-09-22  2016-02-06         1.0  \n",
       "1        97.105.19.61  Hampton  2015-09-22  2016-02-06         1.0  \n",
       "2        97.105.19.61  Hampton  2015-09-22  2016-02-06         1.0  \n",
       "3        97.105.19.61  Hampton  2015-09-22  2016-02-06         1.0  \n",
       "4        97.105.19.61    Teddy  2018-01-08  2018-05-17         2.0  \n",
       "...               ...      ...         ...         ...         ...  \n",
       "900218  71.150.217.33    Staff  2014-02-04  2014-02-04         2.0  \n",
       "900219  71.150.217.33    Staff  2014-02-04  2014-02-04         2.0  \n",
       "900220  71.150.217.33    Staff  2014-02-04  2014-02-04         2.0  \n",
       "900221  24.160.137.86    Staff  2014-02-04  2014-02-04         2.0  \n",
       "900222  71.150.217.33    Staff  2014-02-04  2014-02-04         2.0  \n",
       "\n",
       "[900223 rows x 10 columns]"
      ]
     },
     "execution_count": 3,
     "metadata": {},
     "output_type": "execute_result"
    }
   ],
   "source": [
    "#look at the data\n",
    "df"
   ]
  },
  {
   "cell_type": "code",
   "execution_count": 4,
   "id": "aaf6338a",
   "metadata": {},
   "outputs": [
    {
     "name": "stdout",
     "output_type": "stream",
     "text": [
      "<class 'pandas.core.frame.DataFrame'>\n",
      "RangeIndex: 900223 entries, 0 to 900222\n",
      "Data columns (total 10 columns):\n",
      " #   Column      Non-Null Count   Dtype  \n",
      "---  ------      --------------   -----  \n",
      " 0   date        900223 non-null  object \n",
      " 1   time        900223 non-null  object \n",
      " 2   page        900222 non-null  object \n",
      " 3   user_id     900223 non-null  int64  \n",
      " 4   cohort_id   847330 non-null  float64\n",
      " 5   ip          900223 non-null  object \n",
      " 6   name        847330 non-null  object \n",
      " 7   start_date  847330 non-null  object \n",
      " 8   end_date    847330 non-null  object \n",
      " 9   program_id  847330 non-null  float64\n",
      "dtypes: float64(2), int64(1), object(7)\n",
      "memory usage: 68.7+ MB\n"
     ]
    }
   ],
   "source": [
    "#look at the data\n",
    "df.info()"
   ]
  },
  {
   "cell_type": "code",
   "execution_count": 5,
   "id": "6ee0d963",
   "metadata": {},
   "outputs": [],
   "source": [
    "# clean the data\n",
    "df = w.clean_the_data(df)"
   ]
  },
  {
   "cell_type": "markdown",
   "id": "8ed6b761",
   "metadata": {},
   "source": [
    "## 1. Which lesson appears to attract the most traffic consistently across cohorts (per program)?\n",
    "\n",
    "**Findings:**\n",
    "- Data Science accessed classification/overview 1785 times.\n",
    "- Front End accessed content/html-css 2 times.\n",
    "- Java accessed javascript-i 17457 times.\n",
    "- PHP accessed javascript-i 736 times."
   ]
  },
  {
   "cell_type": "code",
   "execution_count": 8,
   "id": "9083e4a8",
   "metadata": {},
   "outputs": [],
   "source": [
    "#Make df for each program\n",
    "ds=df[df.program_id=='Data Science']\n",
    "fe=df[df.program_id=='Front End']\n",
    "jv=df[df.program_id=='Java']\n",
    "php=df[df.program_id=='PHP']"
   ]
  },
  {
   "cell_type": "code",
   "execution_count": 16,
   "id": "343e4308",
   "metadata": {},
   "outputs": [
    {
     "data": {
      "text/plain": [
       "page\n",
       "/                                           8358\n",
       "search/search_index.json                    2203\n",
       "classification/overview                     1785\n",
       "1-fundamentals/modern-data-scientist.jpg    1655\n",
       "1-fundamentals/AI-ML-DL-timeline.jpg        1651\n",
       "                                            ... \n",
       "cli/4-navigating-the-filesystem                1\n",
       "regression/project/null                        1\n",
       "creating-charts                                1\n",
       "curie-statistics-assessment                    1\n",
       "%20https://github.com/RaulCPena                1\n",
       "Name: page, Length: 682, dtype: int64"
      ]
     },
     "execution_count": 16,
     "metadata": {},
     "output_type": "execute_result"
    }
   ],
   "source": [
    "#Look at what page was most viewed for data science\n",
    "ds.groupby(['page'])['page'].count().sort_values(ascending=False)"
   ]
  },
  {
   "cell_type": "code",
   "execution_count": 17,
   "id": "cf0ff0c3",
   "metadata": {},
   "outputs": [
    {
     "data": {
      "text/plain": [
       "page\n",
       "content/html-css                               2\n",
       "/                                              1\n",
       "content/html-css/gitbook/images/favicon.ico    1\n",
       "content/html-css/introduction.html             1\n",
       "Name: page, dtype: int64"
      ]
     },
     "execution_count": 17,
     "metadata": {},
     "output_type": "execute_result"
    }
   ],
   "source": [
    "#Look at what page was most viewed for front end\n",
    "fe.groupby(['page'])['page'].count().sort_values(ascending=False)"
   ]
  },
  {
   "cell_type": "code",
   "execution_count": 18,
   "id": "7c2bc0c2",
   "metadata": {},
   "outputs": [
    {
     "data": {
      "text/plain": [
       "page\n",
       "/                                                                      35814\n",
       "javascript-i                                                           17457\n",
       "toc                                                                    17428\n",
       "search/search_index.json                                               15212\n",
       "java-iii                                                               12683\n",
       "                                                                       ...  \n",
       "content/mysql/relationships/sub-queries.html                               1\n",
       "content/mysql/sample-database/gitbook/images/favicon.ico                   1\n",
       "content/php_iii/classes-and-objects-i/constructors-destructors.html        1\n",
       "content/php_iv/classes-and-objects-ii/late-static-binding.html             1\n",
       "wp-login                                                                   1\n",
       "Name: page, Length: 1913, dtype: int64"
      ]
     },
     "execution_count": 18,
     "metadata": {},
     "output_type": "execute_result"
    }
   ],
   "source": [
    "#Look at what page was viewed the most for java\n",
    "jv.groupby(['page'])['page'].count().sort_values(ascending=False)"
   ]
  },
  {
   "cell_type": "code",
   "execution_count": 19,
   "id": "2ce50280",
   "metadata": {},
   "outputs": [
    {
     "data": {
      "text/plain": [
       "page\n",
       "/                      1681\n",
       "index.html             1011\n",
       "javascript-i            736\n",
       "html-css                542\n",
       "spring                  501\n",
       "                       ... \n",
       "interview-questions       1\n",
       "13.5_Tableau              1\n",
       "interview                 1\n",
       "html/forms                1\n",
       "4.5_imports               1\n",
       "Name: page, Length: 710, dtype: int64"
      ]
     },
     "execution_count": 19,
     "metadata": {},
     "output_type": "execute_result"
    }
   ],
   "source": [
    "#Look at what page was viewed the most for php\n",
    "php.groupby(['page'])['page'].count().sort_values(ascending=False)"
   ]
  },
  {
   "cell_type": "markdown",
   "id": "01383c95",
   "metadata": {},
   "source": [
    "## 2. Is there a cohort that referred to a lesson significantly more than other cohorts seemed to gloss over?\n",
    "\n",
    "**Findings:**\n",
    "- Cohorts **Kings, Quincy, and Joshua** all look at PHP in their top 10 most visited lessons. They also have differently marked pathways to their content which could suggest that they made significant changes before or after these cohorts.\n",
    "- Regression lesson is most viewed for **Curie** with about 600 clicks where as it barely shows up one other time in the top 6 lessons for other data science cohorts"
   ]
  },
  {
   "cell_type": "code",
   "execution_count": 8,
   "id": "49b89a36",
   "metadata": {},
   "outputs": [],
   "source": [
    "#make df of just those in Data Science \n",
    "DS = df[df.program_id == 'Data Science']\n",
    "\n",
    "#make df of just those in WebDev \n",
    "WebDev = df[(df.program_id == 'PHP') | (df.program_id == 'Java') | (df.program_id == 'Front End') ]"
   ]
  },
  {
   "cell_type": "code",
   "execution_count": 12,
   "id": "d7a9ab05",
   "metadata": {},
   "outputs": [],
   "source": [
    "DS_Cohorts = DS.groupby('page')['name'].count().sort_values()"
   ]
  },
  {
   "cell_type": "code",
   "execution_count": 15,
   "id": "a33744c9",
   "metadata": {},
   "outputs": [
    {
     "data": {
      "text/plain": [
       "page\n",
       "%20https://github.com/RaulCPena                      1\n",
       "appendix/open_data/www.census.gov                    1\n",
       "appendix/open_data/www.flickr.com/services/api       1\n",
       "appendix/open_data/www.openstreetmap.org             1\n",
       "appendix/univariate_regression_in_excel              1\n",
       "                                                  ... \n",
       "1-fundamentals/AI-ML-DL-timeline.jpg              1651\n",
       "1-fundamentals/modern-data-scientist.jpg          1655\n",
       "classification/overview                           1785\n",
       "search/search_index.json                          2203\n",
       "/                                                 8358\n",
       "Name: name, Length: 682, dtype: int64"
      ]
     },
     "execution_count": 15,
     "metadata": {},
     "output_type": "execute_result"
    }
   ],
   "source": [
    "DS_Cohorts"
   ]
  },
  {
   "cell_type": "code",
   "execution_count": 13,
   "id": "116d0906",
   "metadata": {},
   "outputs": [],
   "source": [
    "WebDev_Cohorts = WebDev.groupby('page')['name'].count().sort_values()"
   ]
  },
  {
   "cell_type": "code",
   "execution_count": 14,
   "id": "73942db3",
   "metadata": {},
   "outputs": [
    {
     "data": {
      "text/plain": [
       "page\n",
       "'                               1\n",
       "cli-02-listing-files            1\n",
       "cli-03-file-paths               1\n",
       "cli-07-more-topics              1\n",
       "codeup-exercises                1\n",
       "                            ...  \n",
       "java-iii                    13162\n",
       "search/search_index.json    15331\n",
       "toc                         17580\n",
       "javascript-i                18193\n",
       "/                           37496\n",
       "Name: name, Length: 2054, dtype: int64"
      ]
     },
     "execution_count": 14,
     "metadata": {},
     "output_type": "execute_result"
    }
   ],
   "source": [
    "WebDev_Cohorts"
   ]
  },
  {
   "cell_type": "code",
   "execution_count": 17,
   "id": "4a20e9a5",
   "metadata": {},
   "outputs": [],
   "source": [
    "WebDevDict = {}\n",
    "for x in WebDev.name.unique():\n",
    "    WebDevDict[x] = pd.DataFrame(df[df.name == x])"
   ]
  },
  {
   "cell_type": "code",
   "execution_count": 18,
   "id": "ef1090e2",
   "metadata": {},
   "outputs": [],
   "source": [
    "DSDict = {}\n",
    "for x in DS.name.unique():\n",
    "    DSDict[x] = pd.DataFrame(df[df.name == x])"
   ]
  },
  {
   "cell_type": "code",
   "execution_count": 45,
   "id": "ac3ad6aa",
   "metadata": {},
   "outputs": [
    {
     "data": {
      "text/plain": [
       "'Hampton'"
      ]
     },
     "metadata": {},
     "output_type": "display_data"
    },
    {
     "data": {
      "text/plain": [
       "page\n",
       "java-iii/servlets     30\n",
       "mysql                 30\n",
       "javascript-ii         31\n",
       "javascript-i          36\n",
       "spring                43\n",
       "java-i                46\n",
       "java-ii               46\n",
       "appendix              55\n",
       "java-iii              57\n",
       "/                    210\n",
       "Name: name, dtype: int64"
      ]
     },
     "metadata": {},
     "output_type": "display_data"
    },
    {
     "data": {
      "text/plain": [
       "'Teddy'"
      ]
     },
     "metadata": {},
     "output_type": "display_data"
    },
    {
     "data": {
      "text/plain": [
       "page\n",
       "appendix                     505\n",
       "java-ii                      509\n",
       "jquery                       512\n",
       "java-i                       522\n",
       "mkdocs/search_index.json     595\n",
       "javascript-i                 615\n",
       "mysql                        638\n",
       "java-iii                     732\n",
       "spring                       744\n",
       "/                           1828\n",
       "Name: name, dtype: int64"
      ]
     },
     "metadata": {},
     "output_type": "display_data"
    },
    {
     "data": {
      "text/plain": [
       "'Sequoia'"
      ]
     },
     "metadata": {},
     "output_type": "display_data"
    },
    {
     "data": {
      "text/plain": [
       "page\n",
       "spring/fundamentals/form-model-binding    156\n",
       "mkdocs/search_index.json                  168\n",
       "html-css                                  168\n",
       "appendix                                  170\n",
       "spring/fundamentals/repositories          172\n",
       "spring/fundamentals/controllers           190\n",
       "javascript-i                              202\n",
       "spring/fundamentals/views                 207\n",
       "spring                                    364\n",
       "/                                         630\n",
       "Name: name, dtype: int64"
      ]
     },
     "metadata": {},
     "output_type": "display_data"
    },
    {
     "data": {
      "text/plain": [
       "'Arches'"
      ]
     },
     "metadata": {},
     "output_type": "display_data"
    },
    {
     "data": {
      "text/plain": [
       "page\n",
       "java-i           132\n",
       "jquery           133\n",
       "appendix         133\n",
       "java-iii         153\n",
       "java-ii          167\n",
       "spring           192\n",
       "javascript-ii    204\n",
       "html-css         215\n",
       "javascript-i     294\n",
       "/                626\n",
       "Name: name, dtype: int64"
      ]
     },
     "metadata": {},
     "output_type": "display_data"
    },
    {
     "data": {
      "text/plain": [
       "'Niagara'"
      ]
     },
     "metadata": {},
     "output_type": "display_data"
    },
    {
     "data": {
      "text/plain": [
       "page\n",
       "java-ii          17\n",
       "java-i           18\n",
       "appendix         20\n",
       "javascript-ii    21\n",
       "javascript-i     23\n",
       "mysql            24\n",
       "java-iii         29\n",
       "/                37\n",
       "index.html       63\n",
       "spring           65\n",
       "Name: name, dtype: int64"
      ]
     },
     "metadata": {},
     "output_type": "display_data"
    },
    {
     "data": {
      "text/plain": [
       "'Pinnacles'"
      ]
     },
     "metadata": {},
     "output_type": "display_data"
    },
    {
     "data": {
      "text/plain": [
       "page\n",
       "mysql                 39\n",
       "java-iii              45\n",
       "java-ii               50\n",
       "javascript-ii/npm     51\n",
       "java-i                54\n",
       "spring                56\n",
       "html-css              56\n",
       "javascript-ii         58\n",
       "javascript-i          69\n",
       "/                    149\n",
       "Name: name, dtype: int64"
      ]
     },
     "metadata": {},
     "output_type": "display_data"
    },
    {
     "data": {
      "text/plain": [
       "'Quincy'"
      ]
     },
     "metadata": {},
     "output_type": "display_data"
    },
    {
     "data": {
      "text/plain": [
       "page\n",
       "content/appendix                                     14\n",
       "content/php_iii/php-with-html                        15\n",
       "javascript-i/conditionals                            16\n",
       "content/php_iii                                      19\n",
       "content/mysql/intro-to-mysql                         19\n",
       "content/laravel/intro/application-structure.html     20\n",
       "content/laravel/intro/environment.html               31\n",
       "content/html-css                                     33\n",
       "content/laravel/intro                                38\n",
       "/                                                   151\n",
       "Name: name, dtype: int64"
      ]
     },
     "metadata": {},
     "output_type": "display_data"
    },
    {
     "data": {
      "text/plain": [
       "'Kings'"
      ]
     },
     "metadata": {},
     "output_type": "display_data"
    },
    {
     "data": {
      "text/plain": [
       "page\n",
       "content/laravel/quickstart/db-migrations.html        40\n",
       "content/php_ii                                       40\n",
       "content/php_iv                                       42\n",
       "content/html-css                                     45\n",
       "content/php_iii                                      47\n",
       "content/laravel/intro/gitbook/images/favicon.ico     56\n",
       "content/laravel/intro/application-structure.html     63\n",
       "content/laravel/intro                                83\n",
       "index.html                                           84\n",
       "/                                                   219\n",
       "Name: name, dtype: int64"
      ]
     },
     "metadata": {},
     "output_type": "display_data"
    },
    {
     "data": {
      "text/plain": [
       "'Lassen'"
      ]
     },
     "metadata": {},
     "output_type": "display_data"
    },
    {
     "data": {
      "text/plain": [
       "page\n",
       "spring/fundamentals/repositories    115\n",
       "/                                   125\n",
       "java-i                              138\n",
       "java-ii                             160\n",
       "appendix                            170\n",
       "html-css                            174\n",
       "spring                              222\n",
       "java-iii                            224\n",
       "javascript-i                        233\n",
       "index.html                          877\n",
       "Name: name, dtype: int64"
      ]
     },
     "metadata": {},
     "output_type": "display_data"
    },
    {
     "data": {
      "text/plain": [
       "'Mammoth'"
      ]
     },
     "metadata": {},
     "output_type": "display_data"
    },
    {
     "data": {
      "text/plain": [
       "page\n",
       "content/php_i/intro-via-interactive-shell     9\n",
       "appendix                                      9\n",
       "javascript-ii                                10\n",
       "java-ii                                      10\n",
       "spring/fundamentals/views                    11\n",
       "spring                                       12\n",
       "spring/fundamentals/controllers              12\n",
       "java-iii                                     13\n",
       "java-i                                       19\n",
       "/                                            33\n",
       "Name: name, dtype: int64"
      ]
     },
     "metadata": {},
     "output_type": "display_data"
    },
    {
     "data": {
      "text/plain": [
       "'Glacier'"
      ]
     },
     "metadata": {},
     "output_type": "display_data"
    },
    {
     "data": {
      "text/plain": [
       "page\n",
       "javascript-i/javascript-with-html                                            14\n",
       "javascript-i/conditionals                                                    16\n",
       "javascript-i/introduction/operators                                          18\n",
       "javascript-i/introduction/variables                                          19\n",
       "javascript-i/functions                                                       20\n",
       "content/html-css/introduction.html                                           20\n",
       "html-css                                                                     21\n",
       "javascript-i/introduction/working-with-data-types-operators-and-variables    24\n",
       "content/html-css                                                             29\n",
       "/                                                                            51\n",
       "Name: name, dtype: int64"
      ]
     },
     "metadata": {},
     "output_type": "display_data"
    },
    {
     "data": {
      "text/plain": [
       "'Denali'"
      ]
     },
     "metadata": {},
     "output_type": "display_data"
    },
    {
     "data": {
      "text/plain": [
       "page\n",
       "/                            1\n",
       "mkdocs/search_index.json     1\n",
       "prework/databases            1\n",
       "prework/versioning/github    1\n",
       "Name: name, dtype: int64"
      ]
     },
     "metadata": {},
     "output_type": "display_data"
    },
    {
     "data": {
      "text/plain": [
       "'Joshua'"
      ]
     },
     "metadata": {},
     "output_type": "display_data"
    },
    {
     "data": {
      "text/plain": [
       "page\n",
       "content/javascript/primitive-types.html     7\n",
       "content/php_iv                              7\n",
       "content/html-css/forms.html                 7\n",
       "index.html                                  8\n",
       "/                                           8\n",
       "content/html-css/elements.html              9\n",
       "content/mysql/intro-to-mysql               10\n",
       "content/javascript                         12\n",
       "content/html-css/introduction.html         14\n",
       "content/html-css                           19\n",
       "Name: name, dtype: int64"
      ]
     },
     "metadata": {},
     "output_type": "display_data"
    },
    {
     "data": {
      "text/plain": [
       "'Olympic'"
      ]
     },
     "metadata": {},
     "output_type": "display_data"
    },
    {
     "data": {
      "text/plain": [
       "page\n",
       "javascript-i/bom-and-dom/bom                                                  60\n",
       "java-i/console-io                                                             60\n",
       "javascript-i/javascript-with-html                                             63\n",
       "javascript-i/introduction/working-with-data-types-operators-and-variables     65\n",
       "html-css                                                                      69\n",
       "java-i/methods                                                                69\n",
       "jquery                                                                        71\n",
       "java-i                                                                        76\n",
       "javascript-i                                                                 128\n",
       "/                                                                            249\n",
       "Name: name, dtype: int64"
      ]
     },
     "metadata": {},
     "output_type": "display_data"
    },
    {
     "data": {
      "text/plain": [
       "'Ulysses'"
      ]
     },
     "metadata": {},
     "output_type": "display_data"
    },
    {
     "data": {
      "text/plain": [
       "page\n",
       "jquery                       364\n",
       "mysql                        367\n",
       "java-i                       377\n",
       "spring                       409\n",
       "java-iii                     412\n",
       "java-ii                      425\n",
       "javascript-i                 526\n",
       "html-css                     562\n",
       "mkdocs/search_index.json     721\n",
       "/                           1641\n",
       "Name: name, dtype: int64"
      ]
     },
     "metadata": {},
     "output_type": "display_data"
    },
    {
     "data": {
      "text/plain": [
       "'Badlands'"
      ]
     },
     "metadata": {},
     "output_type": "display_data"
    },
    {
     "data": {
      "text/plain": [
       "page\n",
       "content/php_i/intro-via-interactive-shell/hello-world-and-other-strings.html     2\n",
       "content/php_i/intro-to-operators                                                 2\n",
       "content/laravel/intro                                                            2\n",
       "content/php_i/intro-via-interactive-shell                                        3\n",
       "content/php_ii                                                                   4\n",
       "content/php_ii/command-line/io-streams.html                                      5\n",
       "content/php_i                                                                    5\n",
       "content/php_ii/control-structures-i                                              5\n",
       "content/php_ii/command-line                                                      6\n",
       "/                                                                               17\n",
       "Name: name, dtype: int64"
      ]
     },
     "metadata": {},
     "output_type": "display_data"
    },
    {
     "data": {
      "text/plain": [
       "'Apollo'"
      ]
     },
     "metadata": {},
     "output_type": "display_data"
    },
    {
     "data": {
      "text/plain": [
       "page\n",
       "/                                              1\n",
       "content/html-css/gitbook/images/favicon.ico    1\n",
       "content/html-css/introduction.html             1\n",
       "content/html-css                               2\n",
       "Name: name, dtype: int64"
      ]
     },
     "metadata": {},
     "output_type": "display_data"
    },
    {
     "data": {
      "text/plain": [
       "'Ike'"
      ]
     },
     "metadata": {},
     "output_type": "display_data"
    },
    {
     "data": {
      "text/plain": [
       "page\n",
       "toc                       6\n",
       "index.html                6\n",
       "html-css/css-i            6\n",
       "javascript-i              7\n",
       "html-css/forms            8\n",
       "content/html-css          9\n",
       "html-css/introduction    10\n",
       "html-css/elements        11\n",
       "html-css                 12\n",
       "/                        19\n",
       "Name: name, dtype: int64"
      ]
     },
     "metadata": {},
     "output_type": "display_data"
    },
    {
     "data": {
      "text/plain": [
       "'Voyageurs'"
      ]
     },
     "metadata": {},
     "output_type": "display_data"
    },
    {
     "data": {
      "text/plain": [
       "page\n",
       "html-css          528\n",
       "jquery            583\n",
       "javascript-ii     584\n",
       "java-i            641\n",
       "spring            650\n",
       "mysql             663\n",
       "java-ii           756\n",
       "java-iii          770\n",
       "javascript-i      884\n",
       "/                2101\n",
       "Name: name, dtype: int64"
      ]
     },
     "metadata": {},
     "output_type": "display_data"
    },
    {
     "data": {
      "text/plain": [
       "'Wrangell'"
      ]
     },
     "metadata": {},
     "output_type": "display_data"
    },
    {
     "data": {
      "text/plain": [
       "page\n",
       "html-css/css-ii/bootstrap-grid-system     313\n",
       "java-ii                                   325\n",
       "java-iii                                  337\n",
       "jquery                                    377\n",
       "java-i                                    406\n",
       "html-css                                  411\n",
       "search/search_index.json                  504\n",
       "javascript-i                              560\n",
       "toc                                       991\n",
       "/                                        1132\n",
       "Name: name, dtype: int64"
      ]
     },
     "metadata": {},
     "output_type": "display_data"
    },
    {
     "data": {
      "text/plain": [
       "'Xanadu'"
      ]
     },
     "metadata": {},
     "output_type": "display_data"
    },
    {
     "data": {
      "text/plain": [
       "page\n",
       "java-i                      484\n",
       "javascript-ii               496\n",
       "java-iii                    497\n",
       "java-ii                     502\n",
       "mysql                       509\n",
       "jquery                      544\n",
       "search/search_index.json    577\n",
       "html-css                    597\n",
       "javascript-i                722\n",
       "/                           924\n",
       "Name: name, dtype: int64"
      ]
     },
     "metadata": {},
     "output_type": "display_data"
    },
    {
     "data": {
      "text/plain": [
       "'Franklin'"
      ]
     },
     "metadata": {},
     "output_type": "display_data"
    },
    {
     "data": {
      "text/plain": [
       "page\n",
       "spring/setup                    2\n",
       "javascript-ii                   2\n",
       "javascript-i/coffee-project     2\n",
       "javascript-i                    2\n",
       "java-iii/user-input             3\n",
       "java-iii                        3\n",
       "java-ii                         3\n",
       "java-i                          3\n",
       "/                               4\n",
       "javascript-ii/es6              10\n",
       "Name: name, dtype: int64"
      ]
     },
     "metadata": {},
     "output_type": "display_data"
    },
    {
     "data": {
      "text/plain": [
       "'Yosemite'"
      ]
     },
     "metadata": {},
     "output_type": "display_data"
    },
    {
     "data": {
      "text/plain": [
       "page\n",
       "javascript-ii/map-filter-reduce    299\n",
       "mysql                              331\n",
       "javascript-ii                      337\n",
       "java-iii                           351\n",
       "search/search_index.json           361\n",
       "spring                             381\n",
       "html-css                           384\n",
       "javascript-i                       452\n",
       "toc                                697\n",
       "/                                  981\n",
       "Name: name, dtype: int64"
      ]
     },
     "metadata": {},
     "output_type": "display_data"
    },
    {
     "data": {
      "text/plain": [
       "'Staff'"
      ]
     },
     "metadata": {},
     "output_type": "display_data"
    },
    {
     "data": {
      "text/plain": [
       "page\n",
       "javascript-ii                993\n",
       "jquery/ajax/weather-map     1050\n",
       "java-ii                     1260\n",
       "html-css                    1284\n",
       "appendix                    1288\n",
       "search/search_index.json    1349\n",
       "java-iii                    1393\n",
       "spring                      1403\n",
       "javascript-i                1817\n",
       "/                           6340\n",
       "Name: name, dtype: int64"
      ]
     },
     "metadata": {},
     "output_type": "display_data"
    },
    {
     "data": {
      "text/plain": [
       "'Zion'"
      ]
     },
     "metadata": {},
     "output_type": "display_data"
    },
    {
     "data": {
      "text/plain": [
       "page\n",
       "java-i                       605\n",
       "java-ii                      624\n",
       "javascript-ii                647\n",
       "spring                       672\n",
       "html-css                     675\n",
       "search/search_index.json     700\n",
       "java-iii                     753\n",
       "javascript-i                 897\n",
       "toc                         1465\n",
       "/                           1798\n",
       "Name: name, dtype: int64"
      ]
     },
     "metadata": {},
     "output_type": "display_data"
    },
    {
     "data": {
      "text/plain": [
       "'Andromeda'"
      ]
     },
     "metadata": {},
     "output_type": "display_data"
    },
    {
     "data": {
      "text/plain": [
       "page\n",
       "java-i           338\n",
       "jquery           338\n",
       "mysql            355\n",
       "html-css         375\n",
       "java-ii          398\n",
       "java-iii         433\n",
       "spring           487\n",
       "javascript-i     516\n",
       "toc              638\n",
       "/               1174\n",
       "Name: name, dtype: int64"
      ]
     },
     "metadata": {},
     "output_type": "display_data"
    },
    {
     "data": {
      "text/plain": [
       "'Betelgeuse'"
      ]
     },
     "metadata": {},
     "output_type": "display_data"
    },
    {
     "data": {
      "text/plain": [
       "page\n",
       "html-css                    457\n",
       "java-iii                    472\n",
       "java-ii                     481\n",
       "java-i                      482\n",
       "html-css/elements           495\n",
       "jquery                      542\n",
       "toc                         610\n",
       "javascript-i                717\n",
       "search/search_index.json    761\n",
       "/                           955\n",
       "Name: name, dtype: int64"
      ]
     },
     "metadata": {},
     "output_type": "display_data"
    },
    {
     "data": {
      "text/plain": [
       "'Ceres'"
      ]
     },
     "metadata": {},
     "output_type": "display_data"
    },
    {
     "data": {
      "text/plain": [
       "page\n",
       "spring                       562\n",
       "mysql                        622\n",
       "jquery                       637\n",
       "java-ii                      681\n",
       "java-iii                     682\n",
       "html-css                     766\n",
       "toc                          911\n",
       "javascript-i                1003\n",
       "search/search_index.json    1380\n",
       "/                           1653\n",
       "Name: name, dtype: int64"
      ]
     },
     "metadata": {},
     "output_type": "display_data"
    },
    {
     "data": {
      "text/plain": [
       "'Deimos'"
      ]
     },
     "metadata": {},
     "output_type": "display_data"
    },
    {
     "data": {
      "text/plain": [
       "page\n",
       "java-ii                      511\n",
       "mysql                        517\n",
       "java-iii                     523\n",
       "spring                       533\n",
       "jquery                       563\n",
       "search/search_index.json     746\n",
       "toc                          750\n",
       "html-css                     773\n",
       "javascript-i                 896\n",
       "/                           1467\n",
       "Name: name, dtype: int64"
      ]
     },
     "metadata": {},
     "output_type": "display_data"
    },
    {
     "data": {
      "text/plain": [
       "'Europa'"
      ]
     },
     "metadata": {},
     "output_type": "display_data"
    },
    {
     "data": {
      "text/plain": [
       "page\n",
       "html-css                     353\n",
       "jquery                       370\n",
       "mysql                        372\n",
       "java-ii                      375\n",
       "html-css/elements            430\n",
       "java-iii                     451\n",
       "javascript-i                 506\n",
       "search/search_index.json     742\n",
       "toc                          964\n",
       "/                           1295\n",
       "Name: name, dtype: int64"
      ]
     },
     "metadata": {},
     "output_type": "display_data"
    },
    {
     "data": {
      "text/plain": [
       "'Fortuna'"
      ]
     },
     "metadata": {},
     "output_type": "display_data"
    },
    {
     "data": {
      "text/plain": [
       "page\n",
       "java-i                       555\n",
       "html-css                     585\n",
       "mysql                        591\n",
       "spring                       636\n",
       "java-ii                      657\n",
       "javascript-i                 785\n",
       "java-iii                     786\n",
       "search/search_index.json    1020\n",
       "toc                         1293\n",
       "/                           2038\n",
       "Name: name, dtype: int64"
      ]
     },
     "metadata": {},
     "output_type": "display_data"
    },
    {
     "data": {
      "text/plain": [
       "'Apex'"
      ]
     },
     "metadata": {},
     "output_type": "display_data"
    },
    {
     "data": {
      "text/plain": [
       "page\n",
       "mysql                        483\n",
       "java-i                       590\n",
       "spring                       600\n",
       "java-iii                     663\n",
       "java-ii                      666\n",
       "javascript-i                 669\n",
       "html-css                     738\n",
       "toc                          810\n",
       "/                           1346\n",
       "search/search_index.json    1497\n",
       "Name: name, dtype: int64"
      ]
     },
     "metadata": {},
     "output_type": "display_data"
    },
    {
     "data": {
      "text/plain": [
       "'Ganymede'"
      ]
     },
     "metadata": {},
     "output_type": "display_data"
    },
    {
     "data": {
      "text/plain": [
       "page\n",
       "java-i                       515\n",
       "javascript-ii                525\n",
       "jquery                       536\n",
       "appendix                     561\n",
       "java-ii                      641\n",
       "java-iii                     651\n",
       "javascript-i                 760\n",
       "toc                          822\n",
       "search/search_index.json    1095\n",
       "/                           1727\n",
       "Name: name, dtype: int64"
      ]
     },
     "metadata": {},
     "output_type": "display_data"
    },
    {
     "data": {
      "text/plain": [
       "'Everglades'"
      ]
     },
     "metadata": {},
     "output_type": "display_data"
    },
    {
     "data": {
      "text/plain": [
       "page\n",
       "/    1\n",
       "Name: name, dtype: int64"
      ]
     },
     "metadata": {},
     "output_type": "display_data"
    },
    {
     "data": {
      "text/plain": [
       "'Hyperion'"
      ]
     },
     "metadata": {},
     "output_type": "display_data"
    },
    {
     "data": {
      "text/plain": [
       "page\n",
       "java-i                       489\n",
       "jquery                       497\n",
       "spring                       526\n",
       "mysql                        553\n",
       "search/search_index.json     670\n",
       "java-ii                      688\n",
       "java-iii                     701\n",
       "javascript-i                 910\n",
       "toc                         1022\n",
       "/                           1365\n",
       "Name: name, dtype: int64"
      ]
     },
     "metadata": {},
     "output_type": "display_data"
    },
    {
     "data": {
      "text/plain": [
       "'Bash'"
      ]
     },
     "metadata": {},
     "output_type": "display_data"
    },
    {
     "data": {
      "text/plain": [
       "page\n",
       "javascript-i/introduction    256\n",
       "jquery                       262\n",
       "html-css                     265\n",
       "java-ii                      268\n",
       "spring                       311\n",
       "java-iii                     324\n",
       "javascript-i                 374\n",
       "toc                          404\n",
       "search/search_index.json     660\n",
       "/                            772\n",
       "Name: name, dtype: int64"
      ]
     },
     "metadata": {},
     "output_type": "display_data"
    },
    {
     "data": {
      "text/plain": [
       "'Jupiter'"
      ]
     },
     "metadata": {},
     "output_type": "display_data"
    },
    {
     "data": {
      "text/plain": [
       "page\n",
       "java-i                       503\n",
       "mysql                        564\n",
       "spring                       621\n",
       "java-ii                      755\n",
       "html-css                     784\n",
       "java-iii                     795\n",
       "javascript-i                 926\n",
       "search/search_index.json     998\n",
       "/                           1696\n",
       "toc                         1866\n",
       "Name: name, dtype: int64"
      ]
     },
     "metadata": {},
     "output_type": "display_data"
    },
    {
     "data": {
      "text/plain": [
       "'Kalypso'"
      ]
     },
     "metadata": {},
     "output_type": "display_data"
    },
    {
     "data": {
      "text/plain": [
       "page\n",
       "java-i                      408\n",
       "java-ii                     417\n",
       "javascript-ii               440\n",
       "java-iii                    456\n",
       "search/search_index.json    467\n",
       "jquery                      470\n",
       "html-css                    495\n",
       "toc                         495\n",
       "javascript-i                631\n",
       "/                           939\n",
       "Name: name, dtype: int64"
      ]
     },
     "metadata": {},
     "output_type": "display_data"
    },
    {
     "data": {
      "text/plain": [
       "'Luna'"
      ]
     },
     "metadata": {},
     "output_type": "display_data"
    },
    {
     "data": {
      "text/plain": [
       "page\n",
       "javascript-ii                                                                247\n",
       "java-ii                                                                      255\n",
       "java-iii                                                                     259\n",
       "jquery                                                                       301\n",
       "html-css                                                                     307\n",
       "javascript-i/introduction/working-with-data-types-operators-and-variables    315\n",
       "toc                                                                          373\n",
       "search/search_index.json                                                     405\n",
       "/                                                                            491\n",
       "javascript-i                                                                 676\n",
       "Name: name, dtype: int64"
      ]
     },
     "metadata": {},
     "output_type": "display_data"
    },
    {
     "data": {
      "text/plain": [
       "'Marco'"
      ]
     },
     "metadata": {},
     "output_type": "display_data"
    },
    {
     "data": {
      "text/plain": [
       "page\n",
       "javascript-i/conditionals                                                    292\n",
       "javascript-i/loops                                                           312\n",
       "javascript-i/functions                                                       382\n",
       "jquery                                                                       405\n",
       "javascript-i/javascript-with-html                                            411\n",
       "html-css                                                                     479\n",
       "javascript-i/introduction/working-with-data-types-operators-and-variables    505\n",
       "/                                                                            699\n",
       "javascript-i                                                                 907\n",
       "toc                                                                          910\n",
       "Name: name, dtype: int64"
      ]
     },
     "metadata": {},
     "output_type": "display_data"
    },
    {
     "data": {
      "text/plain": [
       "'Neptune'"
      ]
     },
     "metadata": {},
     "output_type": "display_data"
    },
    {
     "data": {
      "text/plain": [
       "page\n",
       "javascript-i/functions                                                       217\n",
       "javascript-i/loops                                                           226\n",
       "html-css/css-ii/bootstrap-introduction                                       227\n",
       "html-css/css-ii/bootstrap-grid-system                                        256\n",
       "javascript-i                                                                 272\n",
       "javascript-i/javascript-with-html                                            311\n",
       "html-css                                                                     313\n",
       "javascript-i/introduction/working-with-data-types-operators-and-variables    329\n",
       "toc                                                                          451\n",
       "/                                                                            472\n",
       "Name: name, dtype: int64"
      ]
     },
     "metadata": {},
     "output_type": "display_data"
    },
    {
     "data": {
      "text/plain": [
       "'Oberon'"
      ]
     },
     "metadata": {},
     "output_type": "display_data"
    },
    {
     "data": {
      "text/plain": [
       "page\n",
       "javascript-i/introduction/variables                                           95\n",
       "toc                                                                          101\n",
       "javascript-i/javascript-with-html                                            125\n",
       "/                                                                            131\n",
       "javascript-i                                                                 136\n",
       "javascript-i/conditionals                                                    144\n",
       "javascript-i/introduction/working-with-data-types-operators-and-variables    146\n",
       "javascript-i/functions                                                       171\n",
       "javascript-i/introduction/primitive-types                                    177\n",
       "javascript-i/introduction/operators                                          179\n",
       "Name: name, dtype: int64"
      ]
     },
     "metadata": {},
     "output_type": "display_data"
    }
   ],
   "source": [
    "#cohorts Kings, quincy, and joshua all look at PHP in their top 10 most visited lessons. they also have differently marked pathways to their content which could suggest that they made significant changes before or after these cohorts.\n",
    "for x in WebDevDict:\n",
    "    display(x, WebDevDict[x].groupby('page')['name'].count().sort_values(ascending=False).head(10))\n"
   ]
  },
  {
   "cell_type": "code",
   "execution_count": 46,
   "id": "561fd32c",
   "metadata": {},
   "outputs": [
    {
     "data": {
      "text/plain": [
       "'Bayes'"
      ]
     },
     "metadata": {},
     "output_type": "display_data"
    },
    {
     "data": {
      "text/plain": [
       "page\n",
       "10-anomaly-detection/AnomalyDetectionCartoon.jpeg     387\n",
       "6-regression/1-overview                               521\n",
       "search/search_index.json                              588\n",
       "1-fundamentals/1.1-intro-to-data-science              640\n",
       "1-fundamentals/AI-ML-DL-timeline.jpg                  648\n",
       "1-fundamentals/modern-data-scientist.jpg              650\n",
       "/                                                    1967\n",
       "Name: name, dtype: int64"
      ]
     },
     "metadata": {},
     "output_type": "display_data"
    },
    {
     "data": {
      "text/plain": [
       "'Curie'"
      ]
     },
     "metadata": {},
     "output_type": "display_data"
    },
    {
     "data": {
      "text/plain": [
       "page\n",
       "3-sql/1-mysql-overview                       441\n",
       "1-fundamentals/1.1-intro-to-data-science     461\n",
       "1-fundamentals/AI-ML-DL-timeline.jpg         465\n",
       "1-fundamentals/modern-data-scientist.jpg     467\n",
       "search/search_index.json                     538\n",
       "6-regression/1-overview                      595\n",
       "/                                           1712\n",
       "Name: name, dtype: int64"
      ]
     },
     "metadata": {},
     "output_type": "display_data"
    },
    {
     "data": {
      "text/plain": [
       "'Darden'"
      ]
     },
     "metadata": {},
     "output_type": "display_data"
    },
    {
     "data": {
      "text/plain": [
       "page\n",
       "anomaly-detection/overview                         592\n",
       "anomaly-detection/AnomalyDetectionCartoon.jpeg     612\n",
       "search/search_index.json                           664\n",
       "sql/mysql-overview                                 774\n",
       "classification/scale_features_or_not.svg           943\n",
       "classification/overview                           1109\n",
       "/                                                 2980\n",
       "Name: name, dtype: int64"
      ]
     },
     "metadata": {},
     "output_type": "display_data"
    },
    {
     "data": {
      "text/plain": [
       "'Easley'"
      ]
     },
     "metadata": {},
     "output_type": "display_data"
    },
    {
     "data": {
      "text/plain": [
       "page\n",
       "fundamentals/intro-to-data-science                                372\n",
       "fundamentals/modern-data-scientist.jpg                            379\n",
       "fundamentals/AI-ML-DL-timeline.jpg                                381\n",
       "classification/classical_programming_vs_machine_learning.jpeg     432\n",
       "classification/overview                                           445\n",
       "classification/scale_features_or_not.svg                          463\n",
       "/                                                                1115\n",
       "Name: name, dtype: int64"
      ]
     },
     "metadata": {},
     "output_type": "display_data"
    },
    {
     "data": {
      "text/plain": [
       "'Florence'"
      ]
     },
     "metadata": {},
     "output_type": "display_data"
    },
    {
     "data": {
      "text/plain": [
       "page\n",
       "sql/mysql-overview                        203\n",
       "fundamentals/DataToAction_v2.jpg          208\n",
       "python/data-types-and-variables           258\n",
       "/                                         584\n",
       "fundamentals/intro-to-data-science        615\n",
       "fundamentals/AI-ML-DL-timeline.jpg        624\n",
       "fundamentals/modern-data-scientist.jpg    627\n",
       "Name: name, dtype: int64"
      ]
     },
     "metadata": {},
     "output_type": "display_data"
    }
   ],
   "source": [
    "# Regression lesson in most viewed for Curie  with ab 600 clicks where as it barely shows up one other time in the top 6 lessons for other data science cohorts\n",
    "for x in DSDict:\n",
    "    display(x, DSDict[x].groupby('page')['name'].count().sort_values(ascending=False).head(7))\n"
   ]
  },
  {
   "cell_type": "markdown",
   "id": "748bdf22",
   "metadata": {},
   "source": [
    "## 3. Are there students who, when active, hardly access the curriculum? If so, what information do you have about these students?\n",
    "\n",
    "**Findings:**\n",
    "- There are 233 users that didn't access the curriculum during their cohort timeframe, but some of those don't have a cohort listed (78)\n",
    "- I defined \"hardly active\" as those students who accessed less than or equal to 10% of the average usage (pages viewed)\n",
    "- 54 users accessed less than or equal to 10% of the average number of pages viewed per user.\n",
    "- All but one user was from the Java program, user_id 679 was data science(assumed quit the course)\n",
    "- **Oberon** and **Sequoia** cohorts only had students access the curriculum up through the first month of the course. ***This might mean that these cohorts used a different curriculum platform or there is something wrong with the start and end dates in the db***\n",
    "- user_ids 24, 41, 371, 741, 56, 57, 45, 36, 250, 65, 52, 33, 253, 278 only started accessing the curriculum when the cohort was almost finished \n",
    "- user_ids 879, 832,  388, 572, 772, 529, 543, 46, 13, 702, 806 accessed the curriculum on the first day (or first week) and then stopped. ***I assume these are students who dropped out.***\n",
    "\n",
    "\n",
    "\n",
    "Below is the code that helped me discover these finidings."
   ]
  },
  {
   "cell_type": "code",
   "execution_count": 7,
   "id": "37825f0b",
   "metadata": {},
   "outputs": [],
   "source": [
    "#only look at students\n",
    "students = df[df['name'] != 'Staff']"
   ]
  },
  {
   "cell_type": "code",
   "execution_count": 8,
   "id": "ec263baf",
   "metadata": {
    "scrolled": true
   },
   "outputs": [],
   "source": [
    "#find those who accessed the curriculum during their class\n",
    "active_student_access = students.query('start_date < date < end_date')"
   ]
  },
  {
   "cell_type": "code",
   "execution_count": 13,
   "id": "e5c0743c",
   "metadata": {},
   "outputs": [],
   "source": [
    "usage = active_student_access.user_id.value_counts().sort_values()"
   ]
  },
  {
   "cell_type": "code",
   "execution_count": 14,
   "id": "5877494c",
   "metadata": {},
   "outputs": [
    {
     "data": {
      "text/plain": [
       "89.00359116022099"
      ]
     },
     "execution_count": 14,
     "metadata": {},
     "output_type": "execute_result"
    }
   ],
   "source": [
    "#I defined \"hardly active\" as those students who accessed less than or equal to 10% of the average usage (pages viewed)\n",
    "usage.mean() * .10"
   ]
  },
  {
   "cell_type": "code",
   "execution_count": 15,
   "id": "b4db4303",
   "metadata": {},
   "outputs": [
    {
     "data": {
      "text/plain": [
       "879     1\n",
       "679     3\n",
       "832     3\n",
       "278     4\n",
       "956     5\n",
       "812     7\n",
       "388     8\n",
       "572    12\n",
       "889    16\n",
       "968    16\n",
       "487    17\n",
       "963    17\n",
       "961    18\n",
       "772    20\n",
       "49     25\n",
       "64     25\n",
       "976    25\n",
       "24     26\n",
       "41     28\n",
       "972    31\n",
       "973    32\n",
       "967    33\n",
       "529    35\n",
       "959    38\n",
       "971    41\n",
       "964    42\n",
       "371    42\n",
       "981    42\n",
       "960    45\n",
       "741    47\n",
       "978    49\n",
       "965    51\n",
       "56     52\n",
       "962    52\n",
       "543    53\n",
       "46     54\n",
       "57     62\n",
       "969    62\n",
       "858    63\n",
       "45     65\n",
       "36     65\n",
       "975    66\n",
       "250    67\n",
       "65     73\n",
       "52     75\n",
       "977    76\n",
       "974    76\n",
       "13     79\n",
       "33     79\n",
       "955    80\n",
       "702    85\n",
       "806    88\n",
       "954    88\n",
       "253    89\n",
       "Name: user_id, dtype: int64"
      ]
     },
     "execution_count": 15,
     "metadata": {},
     "output_type": "execute_result"
    }
   ],
   "source": [
    "#how many accessed less than 10% of the average -- 54\n",
    "usage[usage <= 89]"
   ]
  },
  {
   "cell_type": "code",
   "execution_count": 17,
   "id": "dd97c4e3",
   "metadata": {
    "scrolled": true
   },
   "outputs": [
    {
     "data": {
      "text/html": [
       "<div>\n",
       "<style scoped>\n",
       "    .dataframe tbody tr th:only-of-type {\n",
       "        vertical-align: middle;\n",
       "    }\n",
       "\n",
       "    .dataframe tbody tr th {\n",
       "        vertical-align: top;\n",
       "    }\n",
       "\n",
       "    .dataframe thead th {\n",
       "        text-align: right;\n",
       "    }\n",
       "</style>\n",
       "<table border=\"1\" class=\"dataframe\">\n",
       "  <thead>\n",
       "    <tr style=\"text-align: right;\">\n",
       "      <th></th>\n",
       "      <th>date</th>\n",
       "      <th>time</th>\n",
       "      <th>page</th>\n",
       "      <th>user_id</th>\n",
       "      <th>cohort_id</th>\n",
       "      <th>ip</th>\n",
       "      <th>name</th>\n",
       "      <th>start_date</th>\n",
       "      <th>end_date</th>\n",
       "      <th>program_id</th>\n",
       "    </tr>\n",
       "    <tr>\n",
       "      <th>date</th>\n",
       "      <th></th>\n",
       "      <th></th>\n",
       "      <th></th>\n",
       "      <th></th>\n",
       "      <th></th>\n",
       "      <th></th>\n",
       "      <th></th>\n",
       "      <th></th>\n",
       "      <th></th>\n",
       "      <th></th>\n",
       "    </tr>\n",
       "  </thead>\n",
       "  <tbody>\n",
       "    <tr>\n",
       "      <th>2018-01-26</th>\n",
       "      <td>2018-01-26</td>\n",
       "      <td>11:24:17</td>\n",
       "      <td>appendix</td>\n",
       "      <td>24</td>\n",
       "      <td>21.0</td>\n",
       "      <td>97.105.19.61</td>\n",
       "      <td>Sequoia</td>\n",
       "      <td>2017-09-27</td>\n",
       "      <td>2018-02-15</td>\n",
       "      <td>Java</td>\n",
       "    </tr>\n",
       "    <tr>\n",
       "      <th>2018-01-26</th>\n",
       "      <td>2018-01-26</td>\n",
       "      <td>11:24:29</td>\n",
       "      <td>appendix/capstone-workbook</td>\n",
       "      <td>24</td>\n",
       "      <td>21.0</td>\n",
       "      <td>97.105.19.61</td>\n",
       "      <td>Sequoia</td>\n",
       "      <td>2017-09-27</td>\n",
       "      <td>2018-02-15</td>\n",
       "      <td>Java</td>\n",
       "    </tr>\n",
       "    <tr>\n",
       "      <th>2018-01-29</th>\n",
       "      <td>2018-01-29</td>\n",
       "      <td>11:25:49</td>\n",
       "      <td>/</td>\n",
       "      <td>24</td>\n",
       "      <td>21.0</td>\n",
       "      <td>97.105.19.61</td>\n",
       "      <td>Sequoia</td>\n",
       "      <td>2017-09-27</td>\n",
       "      <td>2018-02-15</td>\n",
       "      <td>Java</td>\n",
       "    </tr>\n",
       "    <tr>\n",
       "      <th>2018-01-29</th>\n",
       "      <td>2018-01-29</td>\n",
       "      <td>11:25:54</td>\n",
       "      <td>spring</td>\n",
       "      <td>24</td>\n",
       "      <td>21.0</td>\n",
       "      <td>97.105.19.61</td>\n",
       "      <td>Sequoia</td>\n",
       "      <td>2017-09-27</td>\n",
       "      <td>2018-02-15</td>\n",
       "      <td>Java</td>\n",
       "    </tr>\n",
       "    <tr>\n",
       "      <th>2018-01-29</th>\n",
       "      <td>2018-01-29</td>\n",
       "      <td>11:25:59</td>\n",
       "      <td>spring/fundamentals/views</td>\n",
       "      <td>24</td>\n",
       "      <td>21.0</td>\n",
       "      <td>97.105.19.61</td>\n",
       "      <td>Sequoia</td>\n",
       "      <td>2017-09-27</td>\n",
       "      <td>2018-02-15</td>\n",
       "      <td>Java</td>\n",
       "    </tr>\n",
       "    <tr>\n",
       "      <th>2018-01-29</th>\n",
       "      <td>2018-01-29</td>\n",
       "      <td>13:28:23</td>\n",
       "      <td>mkdocs/search_index.json</td>\n",
       "      <td>24</td>\n",
       "      <td>21.0</td>\n",
       "      <td>97.105.19.61</td>\n",
       "      <td>Sequoia</td>\n",
       "      <td>2017-09-27</td>\n",
       "      <td>2018-02-15</td>\n",
       "      <td>Java</td>\n",
       "    </tr>\n",
       "    <tr>\n",
       "      <th>2018-01-29</th>\n",
       "      <td>2018-01-29</td>\n",
       "      <td>13:28:33</td>\n",
       "      <td>html-css</td>\n",
       "      <td>24</td>\n",
       "      <td>21.0</td>\n",
       "      <td>97.105.19.61</td>\n",
       "      <td>Sequoia</td>\n",
       "      <td>2017-09-27</td>\n",
       "      <td>2018-02-15</td>\n",
       "      <td>Java</td>\n",
       "    </tr>\n",
       "    <tr>\n",
       "      <th>2018-01-29</th>\n",
       "      <td>2018-01-29</td>\n",
       "      <td>13:28:41</td>\n",
       "      <td>html-css/css-ii/bootstrap-introduction</td>\n",
       "      <td>24</td>\n",
       "      <td>21.0</td>\n",
       "      <td>97.105.19.61</td>\n",
       "      <td>Sequoia</td>\n",
       "      <td>2017-09-27</td>\n",
       "      <td>2018-02-15</td>\n",
       "      <td>Java</td>\n",
       "    </tr>\n",
       "    <tr>\n",
       "      <th>2018-01-29</th>\n",
       "      <td>2018-01-29</td>\n",
       "      <td>13:29:50</td>\n",
       "      <td>/</td>\n",
       "      <td>24</td>\n",
       "      <td>21.0</td>\n",
       "      <td>97.105.19.61</td>\n",
       "      <td>Sequoia</td>\n",
       "      <td>2017-09-27</td>\n",
       "      <td>2018-02-15</td>\n",
       "      <td>Java</td>\n",
       "    </tr>\n",
       "    <tr>\n",
       "      <th>2018-01-29</th>\n",
       "      <td>2018-01-29</td>\n",
       "      <td>13:29:53</td>\n",
       "      <td>html-css</td>\n",
       "      <td>24</td>\n",
       "      <td>21.0</td>\n",
       "      <td>97.105.19.61</td>\n",
       "      <td>Sequoia</td>\n",
       "      <td>2017-09-27</td>\n",
       "      <td>2018-02-15</td>\n",
       "      <td>Java</td>\n",
       "    </tr>\n",
       "    <tr>\n",
       "      <th>2018-01-29</th>\n",
       "      <td>2018-01-29</td>\n",
       "      <td>13:29:56</td>\n",
       "      <td>html-css/css-ii/bootstrap-introduction</td>\n",
       "      <td>24</td>\n",
       "      <td>21.0</td>\n",
       "      <td>97.105.19.61</td>\n",
       "      <td>Sequoia</td>\n",
       "      <td>2017-09-27</td>\n",
       "      <td>2018-02-15</td>\n",
       "      <td>Java</td>\n",
       "    </tr>\n",
       "    <tr>\n",
       "      <th>2018-01-30</th>\n",
       "      <td>2018-01-30</td>\n",
       "      <td>09:30:44</td>\n",
       "      <td>javascript-i</td>\n",
       "      <td>24</td>\n",
       "      <td>21.0</td>\n",
       "      <td>97.105.19.61</td>\n",
       "      <td>Sequoia</td>\n",
       "      <td>2017-09-27</td>\n",
       "      <td>2018-02-15</td>\n",
       "      <td>Java</td>\n",
       "    </tr>\n",
       "    <tr>\n",
       "      <th>2018-01-30</th>\n",
       "      <td>2018-01-30</td>\n",
       "      <td>09:30:49</td>\n",
       "      <td>javascript-i/google-maps-api</td>\n",
       "      <td>24</td>\n",
       "      <td>21.0</td>\n",
       "      <td>97.105.19.61</td>\n",
       "      <td>Sequoia</td>\n",
       "      <td>2017-09-27</td>\n",
       "      <td>2018-02-15</td>\n",
       "      <td>Java</td>\n",
       "    </tr>\n",
       "    <tr>\n",
       "      <th>2018-01-30</th>\n",
       "      <td>2018-01-30</td>\n",
       "      <td>09:32:13</td>\n",
       "      <td>mkdocs/search_index.json</td>\n",
       "      <td>24</td>\n",
       "      <td>21.0</td>\n",
       "      <td>97.105.19.61</td>\n",
       "      <td>Sequoia</td>\n",
       "      <td>2017-09-27</td>\n",
       "      <td>2018-02-15</td>\n",
       "      <td>Java</td>\n",
       "    </tr>\n",
       "    <tr>\n",
       "      <th>2018-01-30</th>\n",
       "      <td>2018-01-30</td>\n",
       "      <td>09:32:21</td>\n",
       "      <td>mkdocs/search_index.json</td>\n",
       "      <td>24</td>\n",
       "      <td>21.0</td>\n",
       "      <td>97.105.19.61</td>\n",
       "      <td>Sequoia</td>\n",
       "      <td>2017-09-27</td>\n",
       "      <td>2018-02-15</td>\n",
       "      <td>Java</td>\n",
       "    </tr>\n",
       "    <tr>\n",
       "      <th>2018-02-01</th>\n",
       "      <td>2018-02-01</td>\n",
       "      <td>10:21:40</td>\n",
       "      <td>spring</td>\n",
       "      <td>24</td>\n",
       "      <td>21.0</td>\n",
       "      <td>97.105.19.61</td>\n",
       "      <td>Sequoia</td>\n",
       "      <td>2017-09-27</td>\n",
       "      <td>2018-02-15</td>\n",
       "      <td>Java</td>\n",
       "    </tr>\n",
       "    <tr>\n",
       "      <th>2018-02-01</th>\n",
       "      <td>2018-02-01</td>\n",
       "      <td>10:21:45</td>\n",
       "      <td>spring/fundamentals/controllers</td>\n",
       "      <td>24</td>\n",
       "      <td>21.0</td>\n",
       "      <td>97.105.19.61</td>\n",
       "      <td>Sequoia</td>\n",
       "      <td>2017-09-27</td>\n",
       "      <td>2018-02-15</td>\n",
       "      <td>Java</td>\n",
       "    </tr>\n",
       "    <tr>\n",
       "      <th>2018-02-01</th>\n",
       "      <td>2018-02-01</td>\n",
       "      <td>10:22:10</td>\n",
       "      <td>java-iii</td>\n",
       "      <td>24</td>\n",
       "      <td>21.0</td>\n",
       "      <td>97.105.19.61</td>\n",
       "      <td>Sequoia</td>\n",
       "      <td>2017-09-27</td>\n",
       "      <td>2018-02-15</td>\n",
       "      <td>Java</td>\n",
       "    </tr>\n",
       "    <tr>\n",
       "      <th>2018-02-01</th>\n",
       "      <td>2018-02-01</td>\n",
       "      <td>10:22:16</td>\n",
       "      <td>java-iii/deployment-and-dependencies</td>\n",
       "      <td>24</td>\n",
       "      <td>21.0</td>\n",
       "      <td>97.105.19.61</td>\n",
       "      <td>Sequoia</td>\n",
       "      <td>2017-09-27</td>\n",
       "      <td>2018-02-15</td>\n",
       "      <td>Java</td>\n",
       "    </tr>\n",
       "    <tr>\n",
       "      <th>2018-02-01</th>\n",
       "      <td>2018-02-01</td>\n",
       "      <td>10:22:38</td>\n",
       "      <td>slides/deployment_and_dependencies</td>\n",
       "      <td>24</td>\n",
       "      <td>21.0</td>\n",
       "      <td>97.105.19.61</td>\n",
       "      <td>Sequoia</td>\n",
       "      <td>2017-09-27</td>\n",
       "      <td>2018-02-15</td>\n",
       "      <td>Java</td>\n",
       "    </tr>\n",
       "    <tr>\n",
       "      <th>2018-02-01</th>\n",
       "      <td>2018-02-01</td>\n",
       "      <td>10:22:46</td>\n",
       "      <td>slides/deployment_and_dependencies</td>\n",
       "      <td>24</td>\n",
       "      <td>21.0</td>\n",
       "      <td>97.105.19.61</td>\n",
       "      <td>Sequoia</td>\n",
       "      <td>2017-09-27</td>\n",
       "      <td>2018-02-15</td>\n",
       "      <td>Java</td>\n",
       "    </tr>\n",
       "    <tr>\n",
       "      <th>2018-02-01</th>\n",
       "      <td>2018-02-01</td>\n",
       "      <td>10:22:51</td>\n",
       "      <td>java-iii/servlets</td>\n",
       "      <td>24</td>\n",
       "      <td>21.0</td>\n",
       "      <td>97.105.19.61</td>\n",
       "      <td>Sequoia</td>\n",
       "      <td>2017-09-27</td>\n",
       "      <td>2018-02-15</td>\n",
       "      <td>Java</td>\n",
       "    </tr>\n",
       "    <tr>\n",
       "      <th>2018-02-01</th>\n",
       "      <td>2018-02-01</td>\n",
       "      <td>10:22:56</td>\n",
       "      <td>slides/servlets</td>\n",
       "      <td>24</td>\n",
       "      <td>21.0</td>\n",
       "      <td>97.105.19.61</td>\n",
       "      <td>Sequoia</td>\n",
       "      <td>2017-09-27</td>\n",
       "      <td>2018-02-15</td>\n",
       "      <td>Java</td>\n",
       "    </tr>\n",
       "    <tr>\n",
       "      <th>2018-02-01</th>\n",
       "      <td>2018-02-01</td>\n",
       "      <td>10:22:59</td>\n",
       "      <td>slides/servlets</td>\n",
       "      <td>24</td>\n",
       "      <td>21.0</td>\n",
       "      <td>97.105.19.61</td>\n",
       "      <td>Sequoia</td>\n",
       "      <td>2017-09-27</td>\n",
       "      <td>2018-02-15</td>\n",
       "      <td>Java</td>\n",
       "    </tr>\n",
       "    <tr>\n",
       "      <th>2018-02-07</th>\n",
       "      <td>2018-02-07</td>\n",
       "      <td>11:07:28</td>\n",
       "      <td>appendix</td>\n",
       "      <td>24</td>\n",
       "      <td>21.0</td>\n",
       "      <td>97.105.19.61</td>\n",
       "      <td>Sequoia</td>\n",
       "      <td>2017-09-27</td>\n",
       "      <td>2018-02-15</td>\n",
       "      <td>Java</td>\n",
       "    </tr>\n",
       "    <tr>\n",
       "      <th>2018-02-07</th>\n",
       "      <td>2018-02-07</td>\n",
       "      <td>11:07:31</td>\n",
       "      <td>appendix/capstone-workbook</td>\n",
       "      <td>24</td>\n",
       "      <td>21.0</td>\n",
       "      <td>97.105.19.61</td>\n",
       "      <td>Sequoia</td>\n",
       "      <td>2017-09-27</td>\n",
       "      <td>2018-02-15</td>\n",
       "      <td>Java</td>\n",
       "    </tr>\n",
       "  </tbody>\n",
       "</table>\n",
       "</div>"
      ],
      "text/plain": [
       "                 date      time                                    page  \\\n",
       "date                                                                      \n",
       "2018-01-26 2018-01-26  11:24:17                                appendix   \n",
       "2018-01-26 2018-01-26  11:24:29              appendix/capstone-workbook   \n",
       "2018-01-29 2018-01-29  11:25:49                                       /   \n",
       "2018-01-29 2018-01-29  11:25:54                                  spring   \n",
       "2018-01-29 2018-01-29  11:25:59               spring/fundamentals/views   \n",
       "2018-01-29 2018-01-29  13:28:23                mkdocs/search_index.json   \n",
       "2018-01-29 2018-01-29  13:28:33                                html-css   \n",
       "2018-01-29 2018-01-29  13:28:41  html-css/css-ii/bootstrap-introduction   \n",
       "2018-01-29 2018-01-29  13:29:50                                       /   \n",
       "2018-01-29 2018-01-29  13:29:53                                html-css   \n",
       "2018-01-29 2018-01-29  13:29:56  html-css/css-ii/bootstrap-introduction   \n",
       "2018-01-30 2018-01-30  09:30:44                            javascript-i   \n",
       "2018-01-30 2018-01-30  09:30:49            javascript-i/google-maps-api   \n",
       "2018-01-30 2018-01-30  09:32:13                mkdocs/search_index.json   \n",
       "2018-01-30 2018-01-30  09:32:21                mkdocs/search_index.json   \n",
       "2018-02-01 2018-02-01  10:21:40                                  spring   \n",
       "2018-02-01 2018-02-01  10:21:45         spring/fundamentals/controllers   \n",
       "2018-02-01 2018-02-01  10:22:10                                java-iii   \n",
       "2018-02-01 2018-02-01  10:22:16    java-iii/deployment-and-dependencies   \n",
       "2018-02-01 2018-02-01  10:22:38      slides/deployment_and_dependencies   \n",
       "2018-02-01 2018-02-01  10:22:46      slides/deployment_and_dependencies   \n",
       "2018-02-01 2018-02-01  10:22:51                       java-iii/servlets   \n",
       "2018-02-01 2018-02-01  10:22:56                         slides/servlets   \n",
       "2018-02-01 2018-02-01  10:22:59                         slides/servlets   \n",
       "2018-02-07 2018-02-07  11:07:28                                appendix   \n",
       "2018-02-07 2018-02-07  11:07:31              appendix/capstone-workbook   \n",
       "\n",
       "            user_id  cohort_id            ip     name start_date   end_date  \\\n",
       "date                                                                          \n",
       "2018-01-26       24       21.0  97.105.19.61  Sequoia 2017-09-27 2018-02-15   \n",
       "2018-01-26       24       21.0  97.105.19.61  Sequoia 2017-09-27 2018-02-15   \n",
       "2018-01-29       24       21.0  97.105.19.61  Sequoia 2017-09-27 2018-02-15   \n",
       "2018-01-29       24       21.0  97.105.19.61  Sequoia 2017-09-27 2018-02-15   \n",
       "2018-01-29       24       21.0  97.105.19.61  Sequoia 2017-09-27 2018-02-15   \n",
       "2018-01-29       24       21.0  97.105.19.61  Sequoia 2017-09-27 2018-02-15   \n",
       "2018-01-29       24       21.0  97.105.19.61  Sequoia 2017-09-27 2018-02-15   \n",
       "2018-01-29       24       21.0  97.105.19.61  Sequoia 2017-09-27 2018-02-15   \n",
       "2018-01-29       24       21.0  97.105.19.61  Sequoia 2017-09-27 2018-02-15   \n",
       "2018-01-29       24       21.0  97.105.19.61  Sequoia 2017-09-27 2018-02-15   \n",
       "2018-01-29       24       21.0  97.105.19.61  Sequoia 2017-09-27 2018-02-15   \n",
       "2018-01-30       24       21.0  97.105.19.61  Sequoia 2017-09-27 2018-02-15   \n",
       "2018-01-30       24       21.0  97.105.19.61  Sequoia 2017-09-27 2018-02-15   \n",
       "2018-01-30       24       21.0  97.105.19.61  Sequoia 2017-09-27 2018-02-15   \n",
       "2018-01-30       24       21.0  97.105.19.61  Sequoia 2017-09-27 2018-02-15   \n",
       "2018-02-01       24       21.0  97.105.19.61  Sequoia 2017-09-27 2018-02-15   \n",
       "2018-02-01       24       21.0  97.105.19.61  Sequoia 2017-09-27 2018-02-15   \n",
       "2018-02-01       24       21.0  97.105.19.61  Sequoia 2017-09-27 2018-02-15   \n",
       "2018-02-01       24       21.0  97.105.19.61  Sequoia 2017-09-27 2018-02-15   \n",
       "2018-02-01       24       21.0  97.105.19.61  Sequoia 2017-09-27 2018-02-15   \n",
       "2018-02-01       24       21.0  97.105.19.61  Sequoia 2017-09-27 2018-02-15   \n",
       "2018-02-01       24       21.0  97.105.19.61  Sequoia 2017-09-27 2018-02-15   \n",
       "2018-02-01       24       21.0  97.105.19.61  Sequoia 2017-09-27 2018-02-15   \n",
       "2018-02-01       24       21.0  97.105.19.61  Sequoia 2017-09-27 2018-02-15   \n",
       "2018-02-07       24       21.0  97.105.19.61  Sequoia 2017-09-27 2018-02-15   \n",
       "2018-02-07       24       21.0  97.105.19.61  Sequoia 2017-09-27 2018-02-15   \n",
       "\n",
       "           program_id  \n",
       "date                   \n",
       "2018-01-26       Java  \n",
       "2018-01-26       Java  \n",
       "2018-01-29       Java  \n",
       "2018-01-29       Java  \n",
       "2018-01-29       Java  \n",
       "2018-01-29       Java  \n",
       "2018-01-29       Java  \n",
       "2018-01-29       Java  \n",
       "2018-01-29       Java  \n",
       "2018-01-29       Java  \n",
       "2018-01-29       Java  \n",
       "2018-01-30       Java  \n",
       "2018-01-30       Java  \n",
       "2018-01-30       Java  \n",
       "2018-01-30       Java  \n",
       "2018-02-01       Java  \n",
       "2018-02-01       Java  \n",
       "2018-02-01       Java  \n",
       "2018-02-01       Java  \n",
       "2018-02-01       Java  \n",
       "2018-02-01       Java  \n",
       "2018-02-01       Java  \n",
       "2018-02-01       Java  \n",
       "2018-02-01       Java  \n",
       "2018-02-07       Java  \n",
       "2018-02-07       Java  "
      ]
     },
     "execution_count": 17,
     "metadata": {},
     "output_type": "execute_result"
    }
   ],
   "source": [
    "#test oddities of those who didn't view many times during cohort\n",
    "active_student_access[active_student_access.user_id == 24]"
   ]
  },
  {
   "cell_type": "markdown",
   "id": "4253d763",
   "metadata": {},
   "source": [
    "## 4. Is there any suspicious activity, such as users/machines/etc accessing the curriculum who shouldn’t be? Does it appear that any web-scraping is happening? Are there any suspicious IP addresses?"
   ]
  },
  {
   "cell_type": "markdown",
   "id": "623e2057",
   "metadata": {},
   "source": [
    "## 5. At some point in 2019, the ability for students and alumni to access both curriculums (web dev to ds, ds to web dev) should have been shut off. Do you see any evidence of that happening? Did it happen before?"
   ]
  },
  {
   "cell_type": "markdown",
   "id": "a7ae9cfe",
   "metadata": {},
   "source": [
    "## 6. What topics are grads continuing to reference after graduation and into their jobs (for each program)?"
   ]
  },
  {
   "cell_type": "markdown",
   "id": "7d566076",
   "metadata": {},
   "source": [
    "<div class=\"alert alert-info\">\n",
    "\n",
    "    \n",
    "# Q#6 \n",
    "# ANSWER:\n",
    "\n",
    "## 1. Data Science\n",
    "    \n",
    "|Curriculum        |Click Count|Student Count|\n",
    "|:-----------------|:-:|:-:|\n",
    "|sql/mysql-overview|275|38|\n",
    "|classification/overview|266|39|\n",
    "|anomaly-detection/overview|191|31|\n",
    "|fundamentals/intro-to-data-science|184|36|\n",
    "\n",
    "## 2. PHP\n",
    "\n",
    "|Curriculum        |Click Count|Student Count|\n",
    "|:-----------------|:-:|:-:|\n",
    "|javascript-i\t|736|\t35|\n",
    "|html-css\t|542|\t40|\n",
    "|spring\t|501|\t25|\n",
    "|java-iii\t|479|\t20|\n",
    "    \n",
    "## 3. Java\n",
    "    \n",
    "|Curriculum        |Click Count|Student Count|\n",
    "|:-----------------|:-:|:-:|    \n",
    "|javascript-i\t|4229|\t300|\n",
    "|spring\t|3760|\t306|\n",
    "|html-css\t|3136|\t296|\n",
    "|java-iii\t|3058|\t273|\n",
    "    \n",
    "## 4. Front End    \n",
    "    \n",
    "|Curriculum        |Click Count|Student Count|\n",
    "|:-----------------|:-:|:-:|    \n",
    "|content/html-css\t|2\t|1|\n",
    "|content/html-css/introduction.html\t|1\t|1|    "
   ]
  },
  {
   "cell_type": "markdown",
   "id": "45c053f5",
   "metadata": {},
   "source": [
    "# Grad Users"
   ]
  },
  {
   "cell_type": "code",
   "execution_count": 6,
   "id": "01325422",
   "metadata": {},
   "outputs": [],
   "source": [
    "# Create DataFrame for users that have accessed the curriculum past there graduation date\n",
    "grad_users = df[df.date > df.end_date]"
   ]
  },
  {
   "cell_type": "code",
   "execution_count": 7,
   "id": "ce463c29",
   "metadata": {},
   "outputs": [
    {
     "data": {
      "text/html": [
       "<div>\n",
       "<style scoped>\n",
       "    .dataframe tbody tr th:only-of-type {\n",
       "        vertical-align: middle;\n",
       "    }\n",
       "\n",
       "    .dataframe tbody tr th {\n",
       "        vertical-align: top;\n",
       "    }\n",
       "\n",
       "    .dataframe thead th {\n",
       "        text-align: right;\n",
       "    }\n",
       "</style>\n",
       "<table border=\"1\" class=\"dataframe\">\n",
       "  <thead>\n",
       "    <tr style=\"text-align: right;\">\n",
       "      <th>date</th>\n",
       "      <th>2018-01-26</th>\n",
       "      <th>2018-01-26</th>\n",
       "      <th>2018-01-26</th>\n",
       "      <th>2018-01-26</th>\n",
       "      <th>2018-01-26</th>\n",
       "      <th>2018-01-26</th>\n",
       "      <th>2018-01-26</th>\n",
       "      <th>2018-01-26</th>\n",
       "      <th>2018-01-26</th>\n",
       "      <th>2018-01-26</th>\n",
       "      <th>...</th>\n",
       "      <th>2021-04-21</th>\n",
       "      <th>2021-04-21</th>\n",
       "      <th>2021-04-21</th>\n",
       "      <th>2021-04-21</th>\n",
       "      <th>2021-04-21</th>\n",
       "      <th>2021-04-21</th>\n",
       "      <th>2021-04-21</th>\n",
       "      <th>2021-04-21</th>\n",
       "      <th>2021-04-21</th>\n",
       "      <th>2021-04-21</th>\n",
       "    </tr>\n",
       "  </thead>\n",
       "  <tbody>\n",
       "    <tr>\n",
       "      <th>date</th>\n",
       "      <td>2018-01-26 00:00:00</td>\n",
       "      <td>2018-01-26 00:00:00</td>\n",
       "      <td>2018-01-26 00:00:00</td>\n",
       "      <td>2018-01-26 00:00:00</td>\n",
       "      <td>2018-01-26 00:00:00</td>\n",
       "      <td>2018-01-26 00:00:00</td>\n",
       "      <td>2018-01-26 00:00:00</td>\n",
       "      <td>2018-01-26 00:00:00</td>\n",
       "      <td>2018-01-26 00:00:00</td>\n",
       "      <td>2018-01-26 00:00:00</td>\n",
       "      <td>...</td>\n",
       "      <td>2021-04-21 00:00:00</td>\n",
       "      <td>2021-04-21 00:00:00</td>\n",
       "      <td>2021-04-21 00:00:00</td>\n",
       "      <td>2021-04-21 00:00:00</td>\n",
       "      <td>2021-04-21 00:00:00</td>\n",
       "      <td>2021-04-21 00:00:00</td>\n",
       "      <td>2021-04-21 00:00:00</td>\n",
       "      <td>2021-04-21 00:00:00</td>\n",
       "      <td>2021-04-21 00:00:00</td>\n",
       "      <td>2021-04-21 00:00:00</td>\n",
       "    </tr>\n",
       "    <tr>\n",
       "      <th>time</th>\n",
       "      <td>09:55:03</td>\n",
       "      <td>09:56:02</td>\n",
       "      <td>09:56:05</td>\n",
       "      <td>09:56:06</td>\n",
       "      <td>10:14:47</td>\n",
       "      <td>10:14:51</td>\n",
       "      <td>10:15:02</td>\n",
       "      <td>10:40:15</td>\n",
       "      <td>10:59:02</td>\n",
       "      <td>10:59:06</td>\n",
       "      <td>...</td>\n",
       "      <td>16:07:17</td>\n",
       "      <td>16:30:30</td>\n",
       "      <td>16:41:29</td>\n",
       "      <td>16:41:31</td>\n",
       "      <td>16:41:49</td>\n",
       "      <td>16:41:51</td>\n",
       "      <td>16:42:02</td>\n",
       "      <td>16:42:09</td>\n",
       "      <td>16:44:37</td>\n",
       "      <td>16:44:39</td>\n",
       "    </tr>\n",
       "    <tr>\n",
       "      <th>page</th>\n",
       "      <td>/</td>\n",
       "      <td>java-ii</td>\n",
       "      <td>java-ii/object-oriented-programming</td>\n",
       "      <td>slides/object_oriented_programming</td>\n",
       "      <td>/</td>\n",
       "      <td>javascript-i</td>\n",
       "      <td>javascript-i/functions</td>\n",
       "      <td>javascript-i/functions</td>\n",
       "      <td>index.html</td>\n",
       "      <td>java-i</td>\n",
       "      <td>...</td>\n",
       "      <td>javascript-ii/RESTful-api</td>\n",
       "      <td>appendix</td>\n",
       "      <td>javascript-i</td>\n",
       "      <td>javascript-ii</td>\n",
       "      <td>jquery</td>\n",
       "      <td>jquery/personal-site</td>\n",
       "      <td>jquery/mapbox-api</td>\n",
       "      <td>jquery/ajax/weather-map</td>\n",
       "      <td>anomaly-detection/discrete-probabilistic-methods</td>\n",
       "      <td>jquery/mapbox-api</td>\n",
       "    </tr>\n",
       "    <tr>\n",
       "      <th>user_id</th>\n",
       "      <td>1</td>\n",
       "      <td>1</td>\n",
       "      <td>1</td>\n",
       "      <td>1</td>\n",
       "      <td>11</td>\n",
       "      <td>11</td>\n",
       "      <td>11</td>\n",
       "      <td>1</td>\n",
       "      <td>21</td>\n",
       "      <td>21</td>\n",
       "      <td>...</td>\n",
       "      <td>64</td>\n",
       "      <td>771</td>\n",
       "      <td>64</td>\n",
       "      <td>64</td>\n",
       "      <td>64</td>\n",
       "      <td>64</td>\n",
       "      <td>64</td>\n",
       "      <td>64</td>\n",
       "      <td>744</td>\n",
       "      <td>64</td>\n",
       "    </tr>\n",
       "    <tr>\n",
       "      <th>cohort_id</th>\n",
       "      <td>8.0</td>\n",
       "      <td>8.0</td>\n",
       "      <td>8.0</td>\n",
       "      <td>8.0</td>\n",
       "      <td>1.0</td>\n",
       "      <td>1.0</td>\n",
       "      <td>1.0</td>\n",
       "      <td>8.0</td>\n",
       "      <td>16.0</td>\n",
       "      <td>16.0</td>\n",
       "      <td>...</td>\n",
       "      <td>28.0</td>\n",
       "      <td>62.0</td>\n",
       "      <td>28.0</td>\n",
       "      <td>28.0</td>\n",
       "      <td>28.0</td>\n",
       "      <td>28.0</td>\n",
       "      <td>28.0</td>\n",
       "      <td>28.0</td>\n",
       "      <td>28.0</td>\n",
       "      <td>28.0</td>\n",
       "    </tr>\n",
       "    <tr>\n",
       "      <th>ip</th>\n",
       "      <td>97.105.19.61</td>\n",
       "      <td>97.105.19.61</td>\n",
       "      <td>97.105.19.61</td>\n",
       "      <td>97.105.19.61</td>\n",
       "      <td>97.105.19.61</td>\n",
       "      <td>97.105.19.61</td>\n",
       "      <td>97.105.19.61</td>\n",
       "      <td>97.105.19.61</td>\n",
       "      <td>71.137.146.71</td>\n",
       "      <td>71.137.146.71</td>\n",
       "      <td>...</td>\n",
       "      <td>71.150.217.33</td>\n",
       "      <td>172.125.226.175</td>\n",
       "      <td>71.150.217.33</td>\n",
       "      <td>71.150.217.33</td>\n",
       "      <td>71.150.217.33</td>\n",
       "      <td>71.150.217.33</td>\n",
       "      <td>71.150.217.33</td>\n",
       "      <td>71.150.217.33</td>\n",
       "      <td>24.160.137.86</td>\n",
       "      <td>71.150.217.33</td>\n",
       "    </tr>\n",
       "    <tr>\n",
       "      <th>name</th>\n",
       "      <td>Hampton</td>\n",
       "      <td>Hampton</td>\n",
       "      <td>Hampton</td>\n",
       "      <td>Hampton</td>\n",
       "      <td>Arches</td>\n",
       "      <td>Arches</td>\n",
       "      <td>Arches</td>\n",
       "      <td>Hampton</td>\n",
       "      <td>Niagara</td>\n",
       "      <td>Niagara</td>\n",
       "      <td>...</td>\n",
       "      <td>Staff</td>\n",
       "      <td>Jupiter</td>\n",
       "      <td>Staff</td>\n",
       "      <td>Staff</td>\n",
       "      <td>Staff</td>\n",
       "      <td>Staff</td>\n",
       "      <td>Staff</td>\n",
       "      <td>Staff</td>\n",
       "      <td>Staff</td>\n",
       "      <td>Staff</td>\n",
       "    </tr>\n",
       "    <tr>\n",
       "      <th>start_date</th>\n",
       "      <td>2015-09-22 00:00:00</td>\n",
       "      <td>2015-09-22 00:00:00</td>\n",
       "      <td>2015-09-22 00:00:00</td>\n",
       "      <td>2015-09-22 00:00:00</td>\n",
       "      <td>2014-02-04 00:00:00</td>\n",
       "      <td>2014-02-04 00:00:00</td>\n",
       "      <td>2014-02-04 00:00:00</td>\n",
       "      <td>2015-09-22 00:00:00</td>\n",
       "      <td>2016-10-26 00:00:00</td>\n",
       "      <td>2016-10-26 00:00:00</td>\n",
       "      <td>...</td>\n",
       "      <td>2014-02-04 00:00:00</td>\n",
       "      <td>2020-09-21 00:00:00</td>\n",
       "      <td>2014-02-04 00:00:00</td>\n",
       "      <td>2014-02-04 00:00:00</td>\n",
       "      <td>2014-02-04 00:00:00</td>\n",
       "      <td>2014-02-04 00:00:00</td>\n",
       "      <td>2014-02-04 00:00:00</td>\n",
       "      <td>2014-02-04 00:00:00</td>\n",
       "      <td>2014-02-04 00:00:00</td>\n",
       "      <td>2014-02-04 00:00:00</td>\n",
       "    </tr>\n",
       "    <tr>\n",
       "      <th>end_date</th>\n",
       "      <td>2016-02-06 00:00:00</td>\n",
       "      <td>2016-02-06 00:00:00</td>\n",
       "      <td>2016-02-06 00:00:00</td>\n",
       "      <td>2016-02-06 00:00:00</td>\n",
       "      <td>2014-04-22 00:00:00</td>\n",
       "      <td>2014-04-22 00:00:00</td>\n",
       "      <td>2014-04-22 00:00:00</td>\n",
       "      <td>2016-02-06 00:00:00</td>\n",
       "      <td>2017-03-09 00:00:00</td>\n",
       "      <td>2017-03-09 00:00:00</td>\n",
       "      <td>...</td>\n",
       "      <td>2014-02-04 00:00:00</td>\n",
       "      <td>2021-03-30 00:00:00</td>\n",
       "      <td>2014-02-04 00:00:00</td>\n",
       "      <td>2014-02-04 00:00:00</td>\n",
       "      <td>2014-02-04 00:00:00</td>\n",
       "      <td>2014-02-04 00:00:00</td>\n",
       "      <td>2014-02-04 00:00:00</td>\n",
       "      <td>2014-02-04 00:00:00</td>\n",
       "      <td>2014-02-04 00:00:00</td>\n",
       "      <td>2014-02-04 00:00:00</td>\n",
       "    </tr>\n",
       "    <tr>\n",
       "      <th>program_id</th>\n",
       "      <td>PHP</td>\n",
       "      <td>PHP</td>\n",
       "      <td>PHP</td>\n",
       "      <td>PHP</td>\n",
       "      <td>PHP</td>\n",
       "      <td>PHP</td>\n",
       "      <td>PHP</td>\n",
       "      <td>PHP</td>\n",
       "      <td>Java</td>\n",
       "      <td>Java</td>\n",
       "      <td>...</td>\n",
       "      <td>Java</td>\n",
       "      <td>Java</td>\n",
       "      <td>Java</td>\n",
       "      <td>Java</td>\n",
       "      <td>Java</td>\n",
       "      <td>Java</td>\n",
       "      <td>Java</td>\n",
       "      <td>Java</td>\n",
       "      <td>Java</td>\n",
       "      <td>Java</td>\n",
       "    </tr>\n",
       "  </tbody>\n",
       "</table>\n",
       "<p>10 rows × 199834 columns</p>\n",
       "</div>"
      ],
      "text/plain": [
       "date                 2018-01-26           2018-01-26  \\\n",
       "date        2018-01-26 00:00:00  2018-01-26 00:00:00   \n",
       "time                   09:55:03             09:56:02   \n",
       "page                          /              java-ii   \n",
       "user_id                       1                    1   \n",
       "cohort_id                   8.0                  8.0   \n",
       "ip                 97.105.19.61         97.105.19.61   \n",
       "name                    Hampton              Hampton   \n",
       "start_date  2015-09-22 00:00:00  2015-09-22 00:00:00   \n",
       "end_date    2016-02-06 00:00:00  2016-02-06 00:00:00   \n",
       "program_id                  PHP                  PHP   \n",
       "\n",
       "date                                 2018-01-26  \\\n",
       "date                        2018-01-26 00:00:00   \n",
       "time                                   09:56:05   \n",
       "page        java-ii/object-oriented-programming   \n",
       "user_id                                       1   \n",
       "cohort_id                                   8.0   \n",
       "ip                                 97.105.19.61   \n",
       "name                                    Hampton   \n",
       "start_date                  2015-09-22 00:00:00   \n",
       "end_date                    2016-02-06 00:00:00   \n",
       "program_id                                  PHP   \n",
       "\n",
       "date                                2018-01-26           2018-01-26  \\\n",
       "date                       2018-01-26 00:00:00  2018-01-26 00:00:00   \n",
       "time                                  09:56:06             10:14:47   \n",
       "page        slides/object_oriented_programming                    /   \n",
       "user_id                                      1                   11   \n",
       "cohort_id                                  8.0                  1.0   \n",
       "ip                                97.105.19.61         97.105.19.61   \n",
       "name                                   Hampton               Arches   \n",
       "start_date                 2015-09-22 00:00:00  2014-02-04 00:00:00   \n",
       "end_date                   2016-02-06 00:00:00  2014-04-22 00:00:00   \n",
       "program_id                                 PHP                  PHP   \n",
       "\n",
       "date                 2018-01-26              2018-01-26  \\\n",
       "date        2018-01-26 00:00:00     2018-01-26 00:00:00   \n",
       "time                   10:14:51                10:15:02   \n",
       "page               javascript-i  javascript-i/functions   \n",
       "user_id                      11                      11   \n",
       "cohort_id                   1.0                     1.0   \n",
       "ip                 97.105.19.61            97.105.19.61   \n",
       "name                     Arches                  Arches   \n",
       "start_date  2014-02-04 00:00:00     2014-02-04 00:00:00   \n",
       "end_date    2014-04-22 00:00:00     2014-04-22 00:00:00   \n",
       "program_id                  PHP                     PHP   \n",
       "\n",
       "date                    2018-01-26           2018-01-26           2018-01-26  \\\n",
       "date           2018-01-26 00:00:00  2018-01-26 00:00:00  2018-01-26 00:00:00   \n",
       "time                      10:40:15             10:59:02             10:59:06   \n",
       "page        javascript-i/functions           index.html               java-i   \n",
       "user_id                          1                   21                   21   \n",
       "cohort_id                      8.0                 16.0                 16.0   \n",
       "ip                    97.105.19.61        71.137.146.71        71.137.146.71   \n",
       "name                       Hampton              Niagara              Niagara   \n",
       "start_date     2015-09-22 00:00:00  2016-10-26 00:00:00  2016-10-26 00:00:00   \n",
       "end_date       2016-02-06 00:00:00  2017-03-09 00:00:00  2017-03-09 00:00:00   \n",
       "program_id                     PHP                 Java                 Java   \n",
       "\n",
       "date        ...                 2021-04-21           2021-04-21  \\\n",
       "date        ...        2021-04-21 00:00:00  2021-04-21 00:00:00   \n",
       "time        ...                   16:07:17             16:30:30   \n",
       "page        ...  javascript-ii/RESTful-api             appendix   \n",
       "user_id     ...                         64                  771   \n",
       "cohort_id   ...                       28.0                 62.0   \n",
       "ip          ...              71.150.217.33      172.125.226.175   \n",
       "name        ...                      Staff              Jupiter   \n",
       "start_date  ...        2014-02-04 00:00:00  2020-09-21 00:00:00   \n",
       "end_date    ...        2014-02-04 00:00:00  2021-03-30 00:00:00   \n",
       "program_id  ...                       Java                 Java   \n",
       "\n",
       "date                 2021-04-21           2021-04-21           2021-04-21  \\\n",
       "date        2021-04-21 00:00:00  2021-04-21 00:00:00  2021-04-21 00:00:00   \n",
       "time                   16:41:29             16:41:31             16:41:49   \n",
       "page               javascript-i        javascript-ii               jquery   \n",
       "user_id                      64                   64                   64   \n",
       "cohort_id                  28.0                 28.0                 28.0   \n",
       "ip                71.150.217.33        71.150.217.33        71.150.217.33   \n",
       "name                      Staff                Staff                Staff   \n",
       "start_date  2014-02-04 00:00:00  2014-02-04 00:00:00  2014-02-04 00:00:00   \n",
       "end_date    2014-02-04 00:00:00  2014-02-04 00:00:00  2014-02-04 00:00:00   \n",
       "program_id                 Java                 Java                 Java   \n",
       "\n",
       "date                  2021-04-21           2021-04-21  \\\n",
       "date         2021-04-21 00:00:00  2021-04-21 00:00:00   \n",
       "time                    16:41:51             16:42:02   \n",
       "page        jquery/personal-site    jquery/mapbox-api   \n",
       "user_id                       64                   64   \n",
       "cohort_id                   28.0                 28.0   \n",
       "ip                 71.150.217.33        71.150.217.33   \n",
       "name                       Staff                Staff   \n",
       "start_date   2014-02-04 00:00:00  2014-02-04 00:00:00   \n",
       "end_date     2014-02-04 00:00:00  2014-02-04 00:00:00   \n",
       "program_id                  Java                 Java   \n",
       "\n",
       "date                     2021-04-21  \\\n",
       "date            2021-04-21 00:00:00   \n",
       "time                       16:42:09   \n",
       "page        jquery/ajax/weather-map   \n",
       "user_id                          64   \n",
       "cohort_id                      28.0   \n",
       "ip                    71.150.217.33   \n",
       "name                          Staff   \n",
       "start_date      2014-02-04 00:00:00   \n",
       "end_date        2014-02-04 00:00:00   \n",
       "program_id                     Java   \n",
       "\n",
       "date                                              2021-04-21  \\\n",
       "date                                     2021-04-21 00:00:00   \n",
       "time                                                16:44:37   \n",
       "page        anomaly-detection/discrete-probabilistic-methods   \n",
       "user_id                                                  744   \n",
       "cohort_id                                               28.0   \n",
       "ip                                             24.160.137.86   \n",
       "name                                                   Staff   \n",
       "start_date                               2014-02-04 00:00:00   \n",
       "end_date                                 2014-02-04 00:00:00   \n",
       "program_id                                              Java   \n",
       "\n",
       "date                 2021-04-21  \n",
       "date        2021-04-21 00:00:00  \n",
       "time                   16:44:39  \n",
       "page          jquery/mapbox-api  \n",
       "user_id                      64  \n",
       "cohort_id                  28.0  \n",
       "ip                71.150.217.33  \n",
       "name                      Staff  \n",
       "start_date  2014-02-04 00:00:00  \n",
       "end_date    2014-02-04 00:00:00  \n",
       "program_id                 Java  \n",
       "\n",
       "[10 rows x 199834 columns]"
      ]
     },
     "execution_count": 7,
     "metadata": {},
     "output_type": "execute_result"
    }
   ],
   "source": [
    "grad_users.T"
   ]
  },
  {
   "cell_type": "code",
   "execution_count": 13,
   "id": "5b763250",
   "metadata": {},
   "outputs": [
    {
     "data": {
      "text/html": [
       "<div>\n",
       "<style scoped>\n",
       "    .dataframe tbody tr th:only-of-type {\n",
       "        vertical-align: middle;\n",
       "    }\n",
       "\n",
       "    .dataframe tbody tr th {\n",
       "        vertical-align: top;\n",
       "    }\n",
       "\n",
       "    .dataframe thead th {\n",
       "        text-align: right;\n",
       "    }\n",
       "</style>\n",
       "<table border=\"1\" class=\"dataframe\">\n",
       "  <thead>\n",
       "    <tr style=\"text-align: right;\">\n",
       "      <th></th>\n",
       "      <th>count</th>\n",
       "      <th>nunique</th>\n",
       "    </tr>\n",
       "    <tr>\n",
       "      <th>program_id</th>\n",
       "      <th></th>\n",
       "      <th></th>\n",
       "    </tr>\n",
       "  </thead>\n",
       "  <tbody>\n",
       "    <tr>\n",
       "      <th>Java</th>\n",
       "      <td>157786</td>\n",
       "      <td>1656</td>\n",
       "    </tr>\n",
       "    <tr>\n",
       "      <th>PHP</th>\n",
       "      <td>30548</td>\n",
       "      <td>710</td>\n",
       "    </tr>\n",
       "    <tr>\n",
       "      <th>Data Science</th>\n",
       "      <td>11495</td>\n",
       "      <td>437</td>\n",
       "    </tr>\n",
       "    <tr>\n",
       "      <th>Front End</th>\n",
       "      <td>5</td>\n",
       "      <td>4</td>\n",
       "    </tr>\n",
       "  </tbody>\n",
       "</table>\n",
       "</div>"
      ],
      "text/plain": [
       "               count  nunique\n",
       "program_id                   \n",
       "Java          157786     1656\n",
       "PHP            30548      710\n",
       "Data Science   11495      437\n",
       "Front End          5        4"
      ]
     },
     "execution_count": 13,
     "metadata": {},
     "output_type": "execute_result"
    }
   ],
   "source": [
    "# LOOK AT GRAD USERS\n",
    "grad_program_views = grad_users.groupby(['program_id'])['page'].agg(['count', 'nunique'])\n",
    "grad_program_views.sort_values(by='count', ascending=False)"
   ]
  },
  {
   "cell_type": "code",
   "execution_count": 14,
   "id": "f2c12810",
   "metadata": {
    "scrolled": true
   },
   "outputs": [
    {
     "data": {
      "text/html": [
       "<div>\n",
       "<style scoped>\n",
       "    .dataframe tbody tr th:only-of-type {\n",
       "        vertical-align: middle;\n",
       "    }\n",
       "\n",
       "    .dataframe tbody tr th {\n",
       "        vertical-align: top;\n",
       "    }\n",
       "\n",
       "    .dataframe thead th {\n",
       "        text-align: right;\n",
       "    }\n",
       "</style>\n",
       "<table border=\"1\" class=\"dataframe\">\n",
       "  <thead>\n",
       "    <tr style=\"text-align: right;\">\n",
       "      <th></th>\n",
       "      <th>count</th>\n",
       "      <th>nunique</th>\n",
       "    </tr>\n",
       "    <tr>\n",
       "      <th>program_id</th>\n",
       "      <th></th>\n",
       "      <th></th>\n",
       "    </tr>\n",
       "  </thead>\n",
       "  <tbody>\n",
       "    <tr>\n",
       "      <th>Java</th>\n",
       "      <td>713365</td>\n",
       "      <td>1913</td>\n",
       "    </tr>\n",
       "    <tr>\n",
       "      <th>Data Science</th>\n",
       "      <td>103411</td>\n",
       "      <td>682</td>\n",
       "    </tr>\n",
       "    <tr>\n",
       "      <th>nan</th>\n",
       "      <td>52893</td>\n",
       "      <td>1112</td>\n",
       "    </tr>\n",
       "    <tr>\n",
       "      <th>PHP</th>\n",
       "      <td>30548</td>\n",
       "      <td>710</td>\n",
       "    </tr>\n",
       "    <tr>\n",
       "      <th>Front End</th>\n",
       "      <td>5</td>\n",
       "      <td>4</td>\n",
       "    </tr>\n",
       "  </tbody>\n",
       "</table>\n",
       "</div>"
      ],
      "text/plain": [
       "               count  nunique\n",
       "program_id                   \n",
       "Java          713365     1913\n",
       "Data Science  103411      682\n",
       "nan            52893     1112\n",
       "PHP            30548      710\n",
       "Front End          5        4"
      ]
     },
     "execution_count": 14,
     "metadata": {},
     "output_type": "execute_result"
    }
   ],
   "source": [
    "# LOOK AT WHOLE DF\n",
    "df_program_views = df.groupby(['program_id'])['page'].agg(['count', 'nunique'])\n",
    "df_program_views.sort_values(by='count', ascending=False)"
   ]
  },
  {
   "cell_type": "code",
   "execution_count": 15,
   "id": "72c78332",
   "metadata": {
    "scrolled": true
   },
   "outputs": [
    {
     "data": {
      "text/plain": [
       "program_id    page                                    \n",
       "Data Science  /                                           1436\n",
       "              search/search_index.json                     493\n",
       "              sql/mysql-overview                           275\n",
       "              classification/overview                      266\n",
       "              classification/scale_features_or_not.svg     219\n",
       "                                                          ... \n",
       "PHP           students                                       1\n",
       "              students/468/notes                             1\n",
       "              students/units/75/sub_units/268                1\n",
       "              teams/13                                       1\n",
       "              uploads/58a217a705bde.jpg                      1\n",
       "Name: page, Length: 2807, dtype: int64"
      ]
     },
     "execution_count": 15,
     "metadata": {},
     "output_type": "execute_result"
    }
   ],
   "source": [
    "grad_users.groupby('program_id')['page'].value_counts()"
   ]
  },
  {
   "cell_type": "markdown",
   "id": "af168053",
   "metadata": {},
   "source": [
    "# Data Science"
   ]
  },
  {
   "cell_type": "code",
   "execution_count": 16,
   "id": "f25d06f8",
   "metadata": {},
   "outputs": [],
   "source": [
    "# Create DataFrame for Data Science users that have accessed the curriculum past there graduation date\n",
    "ds_grad_users = grad_users[grad_users.program_id == 'Data Science']"
   ]
  },
  {
   "cell_type": "code",
   "execution_count": 18,
   "id": "68c25c46",
   "metadata": {
    "scrolled": true
   },
   "outputs": [
    {
     "data": {
      "text/plain": [
       "/                                                 1436\n",
       "search/search_index.json                           493\n",
       "sql/mysql-overview                                 275\n",
       "classification/overview                            266\n",
       "classification/scale_features_or_not.svg           219\n",
       "anomaly-detection/AnomalyDetectionCartoon.jpeg     193\n",
       "anomaly-detection/overview                         191\n",
       "fundamentals/AI-ML-DL-timeline.jpg                 189\n",
       "fundamentals/modern-data-scientist.jpg             187\n",
       "fundamentals/intro-to-data-science                 184\n",
       "Name: page, dtype: int64"
      ]
     },
     "execution_count": 18,
     "metadata": {},
     "output_type": "execute_result"
    }
   ],
   "source": [
    "# Count how many times each page was accessed\n",
    "ds_grad_users.page.value_counts().head(10)"
   ]
  },
  {
   "cell_type": "code",
   "execution_count": 19,
   "id": "487f33ce",
   "metadata": {
    "scrolled": false
   },
   "outputs": [
    {
     "data": {
      "text/html": [
       "<div>\n",
       "<style scoped>\n",
       "    .dataframe tbody tr th:only-of-type {\n",
       "        vertical-align: middle;\n",
       "    }\n",
       "\n",
       "    .dataframe tbody tr th {\n",
       "        vertical-align: top;\n",
       "    }\n",
       "\n",
       "    .dataframe thead th {\n",
       "        text-align: right;\n",
       "    }\n",
       "</style>\n",
       "<table border=\"1\" class=\"dataframe\">\n",
       "  <thead>\n",
       "    <tr style=\"text-align: right;\">\n",
       "      <th></th>\n",
       "      <th>count</th>\n",
       "      <th>nunique</th>\n",
       "    </tr>\n",
       "    <tr>\n",
       "      <th>page</th>\n",
       "      <th></th>\n",
       "      <th></th>\n",
       "    </tr>\n",
       "  </thead>\n",
       "  <tbody>\n",
       "    <tr>\n",
       "      <th>/</th>\n",
       "      <td>1436</td>\n",
       "      <td>57</td>\n",
       "    </tr>\n",
       "    <tr>\n",
       "      <th>search/search_index.json</th>\n",
       "      <td>493</td>\n",
       "      <td>42</td>\n",
       "    </tr>\n",
       "    <tr>\n",
       "      <th>sql/mysql-overview</th>\n",
       "      <td>275</td>\n",
       "      <td>38</td>\n",
       "    </tr>\n",
       "    <tr>\n",
       "      <th>classification/overview</th>\n",
       "      <td>266</td>\n",
       "      <td>39</td>\n",
       "    </tr>\n",
       "    <tr>\n",
       "      <th>classification/scale_features_or_not.svg</th>\n",
       "      <td>219</td>\n",
       "      <td>36</td>\n",
       "    </tr>\n",
       "    <tr>\n",
       "      <th>anomaly-detection/AnomalyDetectionCartoon.jpeg</th>\n",
       "      <td>193</td>\n",
       "      <td>31</td>\n",
       "    </tr>\n",
       "    <tr>\n",
       "      <th>anomaly-detection/overview</th>\n",
       "      <td>191</td>\n",
       "      <td>31</td>\n",
       "    </tr>\n",
       "    <tr>\n",
       "      <th>fundamentals/AI-ML-DL-timeline.jpg</th>\n",
       "      <td>189</td>\n",
       "      <td>36</td>\n",
       "    </tr>\n",
       "    <tr>\n",
       "      <th>fundamentals/modern-data-scientist.jpg</th>\n",
       "      <td>187</td>\n",
       "      <td>35</td>\n",
       "    </tr>\n",
       "    <tr>\n",
       "      <th>fundamentals/intro-to-data-science</th>\n",
       "      <td>184</td>\n",
       "      <td>36</td>\n",
       "    </tr>\n",
       "  </tbody>\n",
       "</table>\n",
       "</div>"
      ],
      "text/plain": [
       "                                                count  nunique\n",
       "page                                                          \n",
       "/                                                1436       57\n",
       "search/search_index.json                          493       42\n",
       "sql/mysql-overview                                275       38\n",
       "classification/overview                           266       39\n",
       "classification/scale_features_or_not.svg          219       36\n",
       "anomaly-detection/AnomalyDetectionCartoon.jpeg    193       31\n",
       "anomaly-detection/overview                        191       31\n",
       "fundamentals/AI-ML-DL-timeline.jpg                189       36\n",
       "fundamentals/modern-data-scientist.jpg            187       35\n",
       "fundamentals/intro-to-data-science                184       36"
      ]
     },
     "execution_count": 19,
     "metadata": {},
     "output_type": "execute_result"
    }
   ],
   "source": [
    "# Look at curriculum by click count and student nunique\n",
    "ds_program_views = ds_grad_users.groupby(['page'])['user_id'].agg(['count', 'nunique'])\n",
    "ds_program_views.sort_values(by='count', ascending=False).head(10)"
   ]
  },
  {
   "cell_type": "markdown",
   "id": "05c08d02",
   "metadata": {},
   "source": [
    "## Check the min/max Graduation Dates."
   ]
  },
  {
   "cell_type": "code",
   "execution_count": 20,
   "id": "46c09e65",
   "metadata": {},
   "outputs": [],
   "source": [
    "# Create Java for DS users\n",
    "DS_users = df[df.program_id == 'Data Science']"
   ]
  },
  {
   "cell_type": "code",
   "execution_count": 21,
   "id": "236e198a",
   "metadata": {},
   "outputs": [
    {
     "data": {
      "text/plain": [
       "Timestamp('2020-01-30 00:00:00')"
      ]
     },
     "execution_count": 21,
     "metadata": {},
     "output_type": "execute_result"
    }
   ],
   "source": [
    "# show max end date for DS users\n",
    "DS_users.end_date.min()"
   ]
  },
  {
   "cell_type": "code",
   "execution_count": 22,
   "id": "b2fdccdd",
   "metadata": {},
   "outputs": [
    {
     "data": {
      "text/plain": [
       "Timestamp('2021-09-03 00:00:00')"
      ]
     },
     "execution_count": 22,
     "metadata": {},
     "output_type": "execute_result"
    }
   ],
   "source": [
    "# show max end date for DS users\n",
    "DS_users.end_date.max()"
   ]
  },
  {
   "cell_type": "code",
   "execution_count": 23,
   "id": "727aecc3",
   "metadata": {},
   "outputs": [
    {
     "data": {
      "text/plain": [
       "Timestamp('2018-01-26 00:00:00')"
      ]
     },
     "execution_count": 23,
     "metadata": {},
     "output_type": "execute_result"
    }
   ],
   "source": [
    "# show min access date for df\n",
    "df.date.min()"
   ]
  },
  {
   "cell_type": "markdown",
   "id": "fdfe2ebd",
   "metadata": {},
   "source": [
    "# PHP"
   ]
  },
  {
   "cell_type": "code",
   "execution_count": 24,
   "id": "4d931c74",
   "metadata": {},
   "outputs": [],
   "source": [
    "# Create DataFrame for PHP users that have accessed the curriculum past there graduation date\n",
    "php_grad_users = grad_users[grad_users.program_id == 'PHP']"
   ]
  },
  {
   "cell_type": "code",
   "execution_count": 27,
   "id": "b63a8045",
   "metadata": {
    "scrolled": false
   },
   "outputs": [
    {
     "data": {
      "text/html": [
       "<div>\n",
       "<style scoped>\n",
       "    .dataframe tbody tr th:only-of-type {\n",
       "        vertical-align: middle;\n",
       "    }\n",
       "\n",
       "    .dataframe tbody tr th {\n",
       "        vertical-align: top;\n",
       "    }\n",
       "\n",
       "    .dataframe thead th {\n",
       "        text-align: right;\n",
       "    }\n",
       "</style>\n",
       "<table border=\"1\" class=\"dataframe\">\n",
       "  <thead>\n",
       "    <tr style=\"text-align: right;\">\n",
       "      <th></th>\n",
       "      <th>count</th>\n",
       "      <th>nunique</th>\n",
       "    </tr>\n",
       "    <tr>\n",
       "      <th>page</th>\n",
       "      <th></th>\n",
       "      <th></th>\n",
       "    </tr>\n",
       "  </thead>\n",
       "  <tbody>\n",
       "    <tr>\n",
       "      <th>/</th>\n",
       "      <td>1681</td>\n",
       "      <td>90</td>\n",
       "    </tr>\n",
       "    <tr>\n",
       "      <th>index.html</th>\n",
       "      <td>1011</td>\n",
       "      <td>20</td>\n",
       "    </tr>\n",
       "    <tr>\n",
       "      <th>javascript-i</th>\n",
       "      <td>736</td>\n",
       "      <td>35</td>\n",
       "    </tr>\n",
       "    <tr>\n",
       "      <th>html-css</th>\n",
       "      <td>542</td>\n",
       "      <td>40</td>\n",
       "    </tr>\n",
       "    <tr>\n",
       "      <th>spring</th>\n",
       "      <td>501</td>\n",
       "      <td>25</td>\n",
       "    </tr>\n",
       "    <tr>\n",
       "      <th>java-iii</th>\n",
       "      <td>479</td>\n",
       "      <td>20</td>\n",
       "    </tr>\n",
       "    <tr>\n",
       "      <th>java-ii</th>\n",
       "      <td>454</td>\n",
       "      <td>24</td>\n",
       "    </tr>\n",
       "    <tr>\n",
       "      <th>java-i</th>\n",
       "      <td>444</td>\n",
       "      <td>40</td>\n",
       "    </tr>\n",
       "    <tr>\n",
       "      <th>javascript-ii</th>\n",
       "      <td>429</td>\n",
       "      <td>33</td>\n",
       "    </tr>\n",
       "    <tr>\n",
       "      <th>appendix</th>\n",
       "      <td>409</td>\n",
       "      <td>25</td>\n",
       "    </tr>\n",
       "  </tbody>\n",
       "</table>\n",
       "</div>"
      ],
      "text/plain": [
       "               count  nunique\n",
       "page                         \n",
       "/               1681       90\n",
       "index.html      1011       20\n",
       "javascript-i     736       35\n",
       "html-css         542       40\n",
       "spring           501       25\n",
       "java-iii         479       20\n",
       "java-ii          454       24\n",
       "java-i           444       40\n",
       "javascript-ii    429       33\n",
       "appendix         409       25"
      ]
     },
     "execution_count": 27,
     "metadata": {},
     "output_type": "execute_result"
    }
   ],
   "source": [
    "# Look at curriculum by click count and student nunique\n",
    "php_program_views = php_grad_users.groupby(['page'])['user_id'].agg(['count', 'nunique'])\n",
    "php_program_views.sort_values(by='count', ascending=False).head(10)"
   ]
  },
  {
   "cell_type": "markdown",
   "id": "4c438ac2",
   "metadata": {},
   "source": [
    "## Why are Curriculum access counts the same for PHP during and after graduation?"
   ]
  },
  {
   "cell_type": "code",
   "execution_count": 28,
   "id": "8dd993ab",
   "metadata": {},
   "outputs": [],
   "source": [
    "# Create DataFrame for PHP users\n",
    "php_users = df[df.program_id == 'PHP']"
   ]
  },
  {
   "cell_type": "code",
   "execution_count": 29,
   "id": "e7652476",
   "metadata": {},
   "outputs": [
    {
     "data": {
      "text/plain": [
       "Timestamp('2017-09-22 00:00:00')"
      ]
     },
     "execution_count": 29,
     "metadata": {},
     "output_type": "execute_result"
    }
   ],
   "source": [
    "# show max end date for Front End users\n",
    "php_users.end_date.max()"
   ]
  },
  {
   "cell_type": "code",
   "execution_count": 30,
   "id": "68172a82",
   "metadata": {},
   "outputs": [
    {
     "data": {
      "text/plain": [
       "Timestamp('2018-01-26 00:00:00')"
      ]
     },
     "execution_count": 30,
     "metadata": {},
     "output_type": "execute_result"
    }
   ],
   "source": [
    "# show min access date for df\n",
    "df.date.min()"
   ]
  },
  {
   "cell_type": "code",
   "execution_count": 31,
   "id": "0e5a1287",
   "metadata": {
    "scrolled": false
   },
   "outputs": [
    {
     "data": {
      "text/plain": [
       "/                1681\n",
       "index.html       1011\n",
       "javascript-i      736\n",
       "html-css          542\n",
       "spring            501\n",
       "java-iii          479\n",
       "java-ii           454\n",
       "java-i            444\n",
       "javascript-ii     429\n",
       "appendix          409\n",
       "Name: page, dtype: int64"
      ]
     },
     "execution_count": 31,
     "metadata": {},
     "output_type": "execute_result"
    }
   ],
   "source": [
    "# Count how many times each page was accessed\n",
    "php_users.page.value_counts().head(10)"
   ]
  },
  {
   "cell_type": "markdown",
   "id": "c9b9ca68",
   "metadata": {},
   "source": [
    "## ANSWER: Because the last of the PHP users graduated in 2017, before the start date of our data access collection which begins in 2018."
   ]
  },
  {
   "cell_type": "markdown",
   "id": "5f264c4a",
   "metadata": {},
   "source": [
    "# JAVA"
   ]
  },
  {
   "cell_type": "code",
   "execution_count": 32,
   "id": "e4f7ad10",
   "metadata": {},
   "outputs": [],
   "source": [
    "# Create DataFrame for Java users that have accessed the curriculum past there graduation date\n",
    "java_grad_users = grad_users[grad_users.program_id == 'Java']"
   ]
  },
  {
   "cell_type": "code",
   "execution_count": 34,
   "id": "4837897c",
   "metadata": {
    "scrolled": true
   },
   "outputs": [
    {
     "data": {
      "text/plain": [
       "/                           12406\n",
       "javascript-i                 4229\n",
       "spring                       3760\n",
       "search/search_index.json     3562\n",
       "html-css                     3136\n",
       "java-iii                     3058\n",
       "java-ii                      2985\n",
       "java-i                       2679\n",
       "appendix                     2662\n",
       "javascript-ii                2549\n",
       "Name: page, dtype: int64"
      ]
     },
     "execution_count": 34,
     "metadata": {},
     "output_type": "execute_result"
    }
   ],
   "source": [
    "# Count how many times each page was accessed\n",
    "java_grad_users.page.value_counts().head(10)"
   ]
  },
  {
   "cell_type": "code",
   "execution_count": 35,
   "id": "ac9b3f61",
   "metadata": {
    "scrolled": true
   },
   "outputs": [
    {
     "data": {
      "text/html": [
       "<div>\n",
       "<style scoped>\n",
       "    .dataframe tbody tr th:only-of-type {\n",
       "        vertical-align: middle;\n",
       "    }\n",
       "\n",
       "    .dataframe tbody tr th {\n",
       "        vertical-align: top;\n",
       "    }\n",
       "\n",
       "    .dataframe thead th {\n",
       "        text-align: right;\n",
       "    }\n",
       "</style>\n",
       "<table border=\"1\" class=\"dataframe\">\n",
       "  <thead>\n",
       "    <tr style=\"text-align: right;\">\n",
       "      <th></th>\n",
       "      <th>count</th>\n",
       "      <th>nunique</th>\n",
       "    </tr>\n",
       "    <tr>\n",
       "      <th>page</th>\n",
       "      <th></th>\n",
       "      <th></th>\n",
       "    </tr>\n",
       "  </thead>\n",
       "  <tbody>\n",
       "    <tr>\n",
       "      <th>/</th>\n",
       "      <td>12406</td>\n",
       "      <td>406</td>\n",
       "    </tr>\n",
       "    <tr>\n",
       "      <th>javascript-i</th>\n",
       "      <td>4229</td>\n",
       "      <td>300</td>\n",
       "    </tr>\n",
       "    <tr>\n",
       "      <th>spring</th>\n",
       "      <td>3760</td>\n",
       "      <td>306</td>\n",
       "    </tr>\n",
       "    <tr>\n",
       "      <th>search/search_index.json</th>\n",
       "      <td>3562</td>\n",
       "      <td>262</td>\n",
       "    </tr>\n",
       "    <tr>\n",
       "      <th>html-css</th>\n",
       "      <td>3136</td>\n",
       "      <td>296</td>\n",
       "    </tr>\n",
       "    <tr>\n",
       "      <th>java-iii</th>\n",
       "      <td>3058</td>\n",
       "      <td>273</td>\n",
       "    </tr>\n",
       "    <tr>\n",
       "      <th>java-ii</th>\n",
       "      <td>2985</td>\n",
       "      <td>274</td>\n",
       "    </tr>\n",
       "    <tr>\n",
       "      <th>java-i</th>\n",
       "      <td>2679</td>\n",
       "      <td>300</td>\n",
       "    </tr>\n",
       "    <tr>\n",
       "      <th>appendix</th>\n",
       "      <td>2662</td>\n",
       "      <td>279</td>\n",
       "    </tr>\n",
       "    <tr>\n",
       "      <th>javascript-ii</th>\n",
       "      <td>2549</td>\n",
       "      <td>264</td>\n",
       "    </tr>\n",
       "  </tbody>\n",
       "</table>\n",
       "</div>"
      ],
      "text/plain": [
       "                          count  nunique\n",
       "page                                    \n",
       "/                         12406      406\n",
       "javascript-i               4229      300\n",
       "spring                     3760      306\n",
       "search/search_index.json   3562      262\n",
       "html-css                   3136      296\n",
       "java-iii                   3058      273\n",
       "java-ii                    2985      274\n",
       "java-i                     2679      300\n",
       "appendix                   2662      279\n",
       "javascript-ii              2549      264"
      ]
     },
     "execution_count": 35,
     "metadata": {},
     "output_type": "execute_result"
    }
   ],
   "source": [
    "# Look at curriculum by click count and student nunique\n",
    "java_program_views = java_grad_users.groupby(['page'])['user_id'].agg(['count', 'nunique'])\n",
    "java_program_views.sort_values(by='count', ascending=False).head(10)"
   ]
  },
  {
   "cell_type": "markdown",
   "id": "4884ce95",
   "metadata": {},
   "source": [
    "## Check the min/max Graduation Dates."
   ]
  },
  {
   "cell_type": "code",
   "execution_count": 36,
   "id": "d8230d4d",
   "metadata": {},
   "outputs": [],
   "source": [
    "# Create Java for PHP users\n",
    "java_users = df[df.program_id == 'Java']"
   ]
  },
  {
   "cell_type": "code",
   "execution_count": 37,
   "id": "e8f4ae6c",
   "metadata": {},
   "outputs": [
    {
     "data": {
      "text/plain": [
       "Timestamp('2014-02-04 00:00:00')"
      ]
     },
     "execution_count": 37,
     "metadata": {},
     "output_type": "execute_result"
    }
   ],
   "source": [
    "# show max end date for Java users\n",
    "java_users.end_date.min()"
   ]
  },
  {
   "cell_type": "code",
   "execution_count": 38,
   "id": "f4cbae66",
   "metadata": {},
   "outputs": [
    {
     "data": {
      "text/plain": [
       "Timestamp('2021-10-01 00:00:00')"
      ]
     },
     "execution_count": 38,
     "metadata": {},
     "output_type": "execute_result"
    }
   ],
   "source": [
    "# show max end date for Java users\n",
    "java_users.end_date.max()"
   ]
  },
  {
   "cell_type": "code",
   "execution_count": 39,
   "id": "fb229e96",
   "metadata": {},
   "outputs": [
    {
     "data": {
      "text/plain": [
       "Timestamp('2018-01-26 00:00:00')"
      ]
     },
     "execution_count": 39,
     "metadata": {},
     "output_type": "execute_result"
    }
   ],
   "source": [
    "# show min access date for df\n",
    "df.date.min()"
   ]
  },
  {
   "cell_type": "markdown",
   "id": "ba6c02fe",
   "metadata": {},
   "source": [
    "# Front End"
   ]
  },
  {
   "cell_type": "code",
   "execution_count": 40,
   "id": "67227cff",
   "metadata": {},
   "outputs": [],
   "source": [
    "# Create DataFrame for Front End users that have accessed the curriculum past there graduation date\n",
    "fe_grad_users = grad_users[grad_users.program_id == 'Front End']"
   ]
  },
  {
   "cell_type": "code",
   "execution_count": 42,
   "id": "640cff53",
   "metadata": {
    "scrolled": true
   },
   "outputs": [
    {
     "data": {
      "text/plain": [
       "content/html-css                               2\n",
       "/                                              1\n",
       "content/html-css/gitbook/images/favicon.ico    1\n",
       "content/html-css/introduction.html             1\n",
       "Name: page, dtype: int64"
      ]
     },
     "execution_count": 42,
     "metadata": {},
     "output_type": "execute_result"
    }
   ],
   "source": [
    "# Count how many times each page was accessed\n",
    "fe_grad_users.page.value_counts().head(10)"
   ]
  },
  {
   "cell_type": "code",
   "execution_count": 43,
   "id": "d372e13f",
   "metadata": {
    "scrolled": false
   },
   "outputs": [
    {
     "data": {
      "text/html": [
       "<div>\n",
       "<style scoped>\n",
       "    .dataframe tbody tr th:only-of-type {\n",
       "        vertical-align: middle;\n",
       "    }\n",
       "\n",
       "    .dataframe tbody tr th {\n",
       "        vertical-align: top;\n",
       "    }\n",
       "\n",
       "    .dataframe thead th {\n",
       "        text-align: right;\n",
       "    }\n",
       "</style>\n",
       "<table border=\"1\" class=\"dataframe\">\n",
       "  <thead>\n",
       "    <tr style=\"text-align: right;\">\n",
       "      <th></th>\n",
       "      <th>count</th>\n",
       "      <th>nunique</th>\n",
       "    </tr>\n",
       "    <tr>\n",
       "      <th>page</th>\n",
       "      <th></th>\n",
       "      <th></th>\n",
       "    </tr>\n",
       "  </thead>\n",
       "  <tbody>\n",
       "    <tr>\n",
       "      <th>content/html-css</th>\n",
       "      <td>2</td>\n",
       "      <td>1</td>\n",
       "    </tr>\n",
       "    <tr>\n",
       "      <th>/</th>\n",
       "      <td>1</td>\n",
       "      <td>1</td>\n",
       "    </tr>\n",
       "    <tr>\n",
       "      <th>content/html-css/gitbook/images/favicon.ico</th>\n",
       "      <td>1</td>\n",
       "      <td>1</td>\n",
       "    </tr>\n",
       "    <tr>\n",
       "      <th>content/html-css/introduction.html</th>\n",
       "      <td>1</td>\n",
       "      <td>1</td>\n",
       "    </tr>\n",
       "  </tbody>\n",
       "</table>\n",
       "</div>"
      ],
      "text/plain": [
       "                                             count  nunique\n",
       "page                                                       \n",
       "content/html-css                                 2        1\n",
       "/                                                1        1\n",
       "content/html-css/gitbook/images/favicon.ico      1        1\n",
       "content/html-css/introduction.html               1        1"
      ]
     },
     "execution_count": 43,
     "metadata": {},
     "output_type": "execute_result"
    }
   ],
   "source": [
    "# Look at curriculum by click count and student nunique\n",
    "fe_program_views = fe_grad_users.groupby(['page'])['user_id'].agg(['count', 'nunique'])\n",
    "fe_program_views.sort_values(by='count', ascending=False).head(10)"
   ]
  },
  {
   "cell_type": "code",
   "execution_count": 48,
   "id": "d59468bf",
   "metadata": {
    "scrolled": false
   },
   "outputs": [
    {
     "data": {
      "text/html": [
       "<div>\n",
       "<style scoped>\n",
       "    .dataframe tbody tr th:only-of-type {\n",
       "        vertical-align: middle;\n",
       "    }\n",
       "\n",
       "    .dataframe tbody tr th {\n",
       "        vertical-align: top;\n",
       "    }\n",
       "\n",
       "    .dataframe thead th {\n",
       "        text-align: right;\n",
       "    }\n",
       "</style>\n",
       "<table border=\"1\" class=\"dataframe\">\n",
       "  <thead>\n",
       "    <tr style=\"text-align: right;\">\n",
       "      <th></th>\n",
       "      <th>count</th>\n",
       "      <th>nunique</th>\n",
       "    </tr>\n",
       "    <tr>\n",
       "      <th>page</th>\n",
       "      <th></th>\n",
       "      <th></th>\n",
       "    </tr>\n",
       "  </thead>\n",
       "  <tbody>\n",
       "    <tr>\n",
       "      <th>/</th>\n",
       "      <td>1436</td>\n",
       "      <td>57</td>\n",
       "    </tr>\n",
       "    <tr>\n",
       "      <th>search/search_index.json</th>\n",
       "      <td>493</td>\n",
       "      <td>42</td>\n",
       "    </tr>\n",
       "    <tr>\n",
       "      <th>sql/mysql-overview</th>\n",
       "      <td>275</td>\n",
       "      <td>38</td>\n",
       "    </tr>\n",
       "    <tr>\n",
       "      <th>classification/overview</th>\n",
       "      <td>266</td>\n",
       "      <td>39</td>\n",
       "    </tr>\n",
       "    <tr>\n",
       "      <th>classification/scale_features_or_not.svg</th>\n",
       "      <td>219</td>\n",
       "      <td>36</td>\n",
       "    </tr>\n",
       "    <tr>\n",
       "      <th>anomaly-detection/AnomalyDetectionCartoon.jpeg</th>\n",
       "      <td>193</td>\n",
       "      <td>31</td>\n",
       "    </tr>\n",
       "    <tr>\n",
       "      <th>anomaly-detection/overview</th>\n",
       "      <td>191</td>\n",
       "      <td>31</td>\n",
       "    </tr>\n",
       "    <tr>\n",
       "      <th>fundamentals/AI-ML-DL-timeline.jpg</th>\n",
       "      <td>189</td>\n",
       "      <td>36</td>\n",
       "    </tr>\n",
       "    <tr>\n",
       "      <th>fundamentals/modern-data-scientist.jpg</th>\n",
       "      <td>187</td>\n",
       "      <td>35</td>\n",
       "    </tr>\n",
       "    <tr>\n",
       "      <th>fundamentals/intro-to-data-science</th>\n",
       "      <td>184</td>\n",
       "      <td>36</td>\n",
       "    </tr>\n",
       "  </tbody>\n",
       "</table>\n",
       "</div>"
      ],
      "text/plain": [
       "                                                count  nunique\n",
       "page                                                          \n",
       "/                                                1436       57\n",
       "search/search_index.json                          493       42\n",
       "sql/mysql-overview                                275       38\n",
       "classification/overview                           266       39\n",
       "classification/scale_features_or_not.svg          219       36\n",
       "anomaly-detection/AnomalyDetectionCartoon.jpeg    193       31\n",
       "anomaly-detection/overview                        191       31\n",
       "fundamentals/AI-ML-DL-timeline.jpg                189       36\n",
       "fundamentals/modern-data-scientist.jpg            187       35\n",
       "fundamentals/intro-to-data-science                184       36"
      ]
     },
     "execution_count": 48,
     "metadata": {},
     "output_type": "execute_result"
    }
   ],
   "source": [
    "# Look at curriculum by click count and student nunique\n",
    "ds_program_views = ds_grad_users.groupby(['page'])['user_id'].agg(['count', 'nunique'])\n",
    "ds_program_views.sort_values(by='count', ascending=False).head(10)"
   ]
  },
  {
   "cell_type": "code",
   "execution_count": 49,
   "id": "0f42f6aa",
   "metadata": {
    "scrolled": true
   },
   "outputs": [
    {
     "data": {
      "text/html": [
       "<div>\n",
       "<style scoped>\n",
       "    .dataframe tbody tr th:only-of-type {\n",
       "        vertical-align: middle;\n",
       "    }\n",
       "\n",
       "    .dataframe tbody tr th {\n",
       "        vertical-align: top;\n",
       "    }\n",
       "\n",
       "    .dataframe thead th {\n",
       "        text-align: right;\n",
       "    }\n",
       "</style>\n",
       "<table border=\"1\" class=\"dataframe\">\n",
       "  <thead>\n",
       "    <tr style=\"text-align: right;\">\n",
       "      <th></th>\n",
       "      <th>count</th>\n",
       "      <th>nunique</th>\n",
       "    </tr>\n",
       "    <tr>\n",
       "      <th>page</th>\n",
       "      <th></th>\n",
       "      <th></th>\n",
       "    </tr>\n",
       "  </thead>\n",
       "  <tbody>\n",
       "    <tr>\n",
       "      <th>/</th>\n",
       "      <td>1681</td>\n",
       "      <td>90</td>\n",
       "    </tr>\n",
       "    <tr>\n",
       "      <th>index.html</th>\n",
       "      <td>1011</td>\n",
       "      <td>20</td>\n",
       "    </tr>\n",
       "    <tr>\n",
       "      <th>javascript-i</th>\n",
       "      <td>736</td>\n",
       "      <td>35</td>\n",
       "    </tr>\n",
       "    <tr>\n",
       "      <th>html-css</th>\n",
       "      <td>542</td>\n",
       "      <td>40</td>\n",
       "    </tr>\n",
       "    <tr>\n",
       "      <th>spring</th>\n",
       "      <td>501</td>\n",
       "      <td>25</td>\n",
       "    </tr>\n",
       "    <tr>\n",
       "      <th>java-iii</th>\n",
       "      <td>479</td>\n",
       "      <td>20</td>\n",
       "    </tr>\n",
       "    <tr>\n",
       "      <th>java-ii</th>\n",
       "      <td>454</td>\n",
       "      <td>24</td>\n",
       "    </tr>\n",
       "    <tr>\n",
       "      <th>java-i</th>\n",
       "      <td>444</td>\n",
       "      <td>40</td>\n",
       "    </tr>\n",
       "    <tr>\n",
       "      <th>javascript-ii</th>\n",
       "      <td>429</td>\n",
       "      <td>33</td>\n",
       "    </tr>\n",
       "    <tr>\n",
       "      <th>appendix</th>\n",
       "      <td>409</td>\n",
       "      <td>25</td>\n",
       "    </tr>\n",
       "  </tbody>\n",
       "</table>\n",
       "</div>"
      ],
      "text/plain": [
       "               count  nunique\n",
       "page                         \n",
       "/               1681       90\n",
       "index.html      1011       20\n",
       "javascript-i     736       35\n",
       "html-css         542       40\n",
       "spring           501       25\n",
       "java-iii         479       20\n",
       "java-ii          454       24\n",
       "java-i           444       40\n",
       "javascript-ii    429       33\n",
       "appendix         409       25"
      ]
     },
     "execution_count": 49,
     "metadata": {},
     "output_type": "execute_result"
    }
   ],
   "source": [
    "# Look at curriculum by click count and student nunique\n",
    "php_program_views = php_grad_users.groupby(['page'])['user_id'].agg(['count', 'nunique'])\n",
    "php_program_views.sort_values(by='count', ascending=False).head(10)"
   ]
  },
  {
   "cell_type": "code",
   "execution_count": 50,
   "id": "df5e882c",
   "metadata": {
    "scrolled": true
   },
   "outputs": [
    {
     "data": {
      "text/html": [
       "<div>\n",
       "<style scoped>\n",
       "    .dataframe tbody tr th:only-of-type {\n",
       "        vertical-align: middle;\n",
       "    }\n",
       "\n",
       "    .dataframe tbody tr th {\n",
       "        vertical-align: top;\n",
       "    }\n",
       "\n",
       "    .dataframe thead th {\n",
       "        text-align: right;\n",
       "    }\n",
       "</style>\n",
       "<table border=\"1\" class=\"dataframe\">\n",
       "  <thead>\n",
       "    <tr style=\"text-align: right;\">\n",
       "      <th></th>\n",
       "      <th>count</th>\n",
       "      <th>nunique</th>\n",
       "    </tr>\n",
       "    <tr>\n",
       "      <th>page</th>\n",
       "      <th></th>\n",
       "      <th></th>\n",
       "    </tr>\n",
       "  </thead>\n",
       "  <tbody>\n",
       "    <tr>\n",
       "      <th>/</th>\n",
       "      <td>12406</td>\n",
       "      <td>406</td>\n",
       "    </tr>\n",
       "    <tr>\n",
       "      <th>javascript-i</th>\n",
       "      <td>4229</td>\n",
       "      <td>300</td>\n",
       "    </tr>\n",
       "    <tr>\n",
       "      <th>spring</th>\n",
       "      <td>3760</td>\n",
       "      <td>306</td>\n",
       "    </tr>\n",
       "    <tr>\n",
       "      <th>search/search_index.json</th>\n",
       "      <td>3562</td>\n",
       "      <td>262</td>\n",
       "    </tr>\n",
       "    <tr>\n",
       "      <th>html-css</th>\n",
       "      <td>3136</td>\n",
       "      <td>296</td>\n",
       "    </tr>\n",
       "    <tr>\n",
       "      <th>java-iii</th>\n",
       "      <td>3058</td>\n",
       "      <td>273</td>\n",
       "    </tr>\n",
       "    <tr>\n",
       "      <th>java-ii</th>\n",
       "      <td>2985</td>\n",
       "      <td>274</td>\n",
       "    </tr>\n",
       "    <tr>\n",
       "      <th>java-i</th>\n",
       "      <td>2679</td>\n",
       "      <td>300</td>\n",
       "    </tr>\n",
       "    <tr>\n",
       "      <th>appendix</th>\n",
       "      <td>2662</td>\n",
       "      <td>279</td>\n",
       "    </tr>\n",
       "    <tr>\n",
       "      <th>javascript-ii</th>\n",
       "      <td>2549</td>\n",
       "      <td>264</td>\n",
       "    </tr>\n",
       "  </tbody>\n",
       "</table>\n",
       "</div>"
      ],
      "text/plain": [
       "                          count  nunique\n",
       "page                                    \n",
       "/                         12406      406\n",
       "javascript-i               4229      300\n",
       "spring                     3760      306\n",
       "search/search_index.json   3562      262\n",
       "html-css                   3136      296\n",
       "java-iii                   3058      273\n",
       "java-ii                    2985      274\n",
       "java-i                     2679      300\n",
       "appendix                   2662      279\n",
       "javascript-ii              2549      264"
      ]
     },
     "execution_count": 50,
     "metadata": {},
     "output_type": "execute_result"
    }
   ],
   "source": [
    "# Look at curriculum by click count and student nunique\n",
    "java_program_views = java_grad_users.groupby(['page'])['user_id'].agg(['count', 'nunique'])\n",
    "java_program_views.sort_values(by='count', ascending=False).head(10)"
   ]
  },
  {
   "cell_type": "code",
   "execution_count": 51,
   "id": "001dd192",
   "metadata": {
    "scrolled": false
   },
   "outputs": [
    {
     "data": {
      "text/html": [
       "<div>\n",
       "<style scoped>\n",
       "    .dataframe tbody tr th:only-of-type {\n",
       "        vertical-align: middle;\n",
       "    }\n",
       "\n",
       "    .dataframe tbody tr th {\n",
       "        vertical-align: top;\n",
       "    }\n",
       "\n",
       "    .dataframe thead th {\n",
       "        text-align: right;\n",
       "    }\n",
       "</style>\n",
       "<table border=\"1\" class=\"dataframe\">\n",
       "  <thead>\n",
       "    <tr style=\"text-align: right;\">\n",
       "      <th></th>\n",
       "      <th>count</th>\n",
       "      <th>nunique</th>\n",
       "    </tr>\n",
       "    <tr>\n",
       "      <th>page</th>\n",
       "      <th></th>\n",
       "      <th></th>\n",
       "    </tr>\n",
       "  </thead>\n",
       "  <tbody>\n",
       "    <tr>\n",
       "      <th>content/html-css</th>\n",
       "      <td>2</td>\n",
       "      <td>1</td>\n",
       "    </tr>\n",
       "    <tr>\n",
       "      <th>/</th>\n",
       "      <td>1</td>\n",
       "      <td>1</td>\n",
       "    </tr>\n",
       "    <tr>\n",
       "      <th>content/html-css/gitbook/images/favicon.ico</th>\n",
       "      <td>1</td>\n",
       "      <td>1</td>\n",
       "    </tr>\n",
       "    <tr>\n",
       "      <th>content/html-css/introduction.html</th>\n",
       "      <td>1</td>\n",
       "      <td>1</td>\n",
       "    </tr>\n",
       "  </tbody>\n",
       "</table>\n",
       "</div>"
      ],
      "text/plain": [
       "                                             count  nunique\n",
       "page                                                       \n",
       "content/html-css                                 2        1\n",
       "/                                                1        1\n",
       "content/html-css/gitbook/images/favicon.ico      1        1\n",
       "content/html-css/introduction.html               1        1"
      ]
     },
     "execution_count": 51,
     "metadata": {},
     "output_type": "execute_result"
    }
   ],
   "source": [
    "# Look at curriculum by click count and student nunique\n",
    "fe_program_views = fe_grad_users.groupby(['page'])['user_id'].agg(['count', 'nunique'])\n",
    "fe_program_views.sort_values(by='count', ascending=False).head(10)"
   ]
  },
  {
   "cell_type": "markdown",
   "id": "473b47b0",
   "metadata": {},
   "source": [
    "## 7. Which lessons are least accessed?\n",
    "\n",
    "**Findings:**\n",
    "- Data Science accessed pages with the prefix appendix the least.\n",
    "- Front End accessed pages with the prefix content/html-css the least.\n",
    "- Java accessed pages with the prefix cli- the least.\n",
    "- PHP accessed pages with the prefix content/appendix/javascript/functions/ the least."
   ]
  },
  {
   "cell_type": "code",
   "execution_count": 20,
   "id": "0ae8be2a",
   "metadata": {},
   "outputs": [
    {
     "data": {
      "text/plain": [
       "page\n",
       "%20https://github.com/RaulCPena                      1\n",
       "appendix/open_data/www.census.gov                    1\n",
       "appendix/open_data/www.flickr.com/services/api       1\n",
       "appendix/open_data/www.openstreetmap.org             1\n",
       "appendix/univariate_regression_in_excel              1\n",
       "                                                  ... \n",
       "1-fundamentals/AI-ML-DL-timeline.jpg              1651\n",
       "1-fundamentals/modern-data-scientist.jpg          1655\n",
       "classification/overview                           1785\n",
       "search/search_index.json                          2203\n",
       "/                                                 8358\n",
       "Name: page, Length: 682, dtype: int64"
      ]
     },
     "execution_count": 20,
     "metadata": {},
     "output_type": "execute_result"
    }
   ],
   "source": [
    "#Look at what page was least viewed for data science\n",
    "ds.groupby(['page'])['page'].count().sort_values()"
   ]
  },
  {
   "cell_type": "code",
   "execution_count": 21,
   "id": "341a90fc",
   "metadata": {},
   "outputs": [
    {
     "data": {
      "text/plain": [
       "page\n",
       "/                                              1\n",
       "content/html-css/gitbook/images/favicon.ico    1\n",
       "content/html-css/introduction.html             1\n",
       "content/html-css                               2\n",
       "Name: page, dtype: int64"
      ]
     },
     "execution_count": 21,
     "metadata": {},
     "output_type": "execute_result"
    }
   ],
   "source": [
    "#Look at what page was least viewed for front end\n",
    "fe.groupby(['page'])['page'].count().sort_values()"
   ]
  },
  {
   "cell_type": "code",
   "execution_count": 22,
   "id": "89de2b96",
   "metadata": {},
   "outputs": [
    {
     "data": {
      "text/plain": [
       "page\n",
       "'                                            1\n",
       "cheatsheet.tex                               1\n",
       "classification/user-defined-functions        1\n",
       "cli-02-listing-files                         1\n",
       "cli-03-file-paths                            1\n",
       "                                         ...  \n",
       "java-iii                                 12683\n",
       "search/search_index.json                 15212\n",
       "toc                                      17428\n",
       "javascript-i                             17457\n",
       "/                                        35814\n",
       "Name: page, Length: 1913, dtype: int64"
      ]
     },
     "execution_count": 22,
     "metadata": {},
     "output_type": "execute_result"
    }
   ],
   "source": [
    "#Look at what page was least viewed for java\n",
    "jv.groupby(['page'])['page'].count().sort_values()"
   ]
  },
  {
   "cell_type": "code",
   "execution_count": 23,
   "id": "ddfeb1f2",
   "metadata": {},
   "outputs": [
    {
     "data": {
      "text/plain": [
       "page\n",
       "html-css/media-queries                                       1\n",
       "prework/cli/07-editing-files-with-vim                        1\n",
       "content/appendix/javascript/functions/controllers.html       1\n",
       "content/appendix/javascript/functions/models.html            1\n",
       "content/appendix/javascript/functions/scope.html             1\n",
       "                                                          ... \n",
       "spring                                                     501\n",
       "html-css                                                   542\n",
       "javascript-i                                               736\n",
       "index.html                                                1011\n",
       "/                                                         1681\n",
       "Name: page, Length: 710, dtype: int64"
      ]
     },
     "execution_count": 23,
     "metadata": {},
     "output_type": "execute_result"
    }
   ],
   "source": [
    "#Look at what page was least viewed for php\n",
    "php.groupby(['page'])['page'].count().sort_values()"
   ]
  },
  {
   "cell_type": "markdown",
   "id": "11cf668d",
   "metadata": {},
   "source": [
    "## 8. Anything else I should be aware of?"
   ]
  },
  {
   "cell_type": "markdown",
   "id": "32e589b6",
   "metadata": {},
   "source": [
    "### Why are there so few Front End Graduates accessing the Curriculum?"
   ]
  },
  {
   "cell_type": "code",
   "execution_count": 44,
   "id": "1b2b2996",
   "metadata": {},
   "outputs": [],
   "source": [
    "# Create DataFrame for Front End users\n",
    "fe_users = df[df.program_id == 'Front End']"
   ]
  },
  {
   "cell_type": "code",
   "execution_count": 45,
   "id": "0aa09f17",
   "metadata": {},
   "outputs": [
    {
     "data": {
      "text/plain": [
       "Timestamp('2015-07-29 00:00:00')"
      ]
     },
     "execution_count": 45,
     "metadata": {},
     "output_type": "execute_result"
    }
   ],
   "source": [
    "# show max end date for Front End users\n",
    "fe_users.end_date.max()"
   ]
  },
  {
   "cell_type": "code",
   "execution_count": 46,
   "id": "b47b36fc",
   "metadata": {},
   "outputs": [
    {
     "data": {
      "text/plain": [
       "Timestamp('2018-01-26 00:00:00')"
      ]
     },
     "execution_count": 46,
     "metadata": {},
     "output_type": "execute_result"
    }
   ],
   "source": [
    "# show min access date for df\n",
    "df.date.min()"
   ]
  },
  {
   "cell_type": "code",
   "execution_count": 47,
   "id": "8c1b7644",
   "metadata": {
    "scrolled": true
   },
   "outputs": [
    {
     "data": {
      "text/html": [
       "<div>\n",
       "<style scoped>\n",
       "    .dataframe tbody tr th:only-of-type {\n",
       "        vertical-align: middle;\n",
       "    }\n",
       "\n",
       "    .dataframe tbody tr th {\n",
       "        vertical-align: top;\n",
       "    }\n",
       "\n",
       "    .dataframe thead th {\n",
       "        text-align: right;\n",
       "    }\n",
       "</style>\n",
       "<table border=\"1\" class=\"dataframe\">\n",
       "  <thead>\n",
       "    <tr style=\"text-align: right;\">\n",
       "      <th></th>\n",
       "      <th>nunique</th>\n",
       "    </tr>\n",
       "    <tr>\n",
       "      <th>name</th>\n",
       "      <th></th>\n",
       "    </tr>\n",
       "  </thead>\n",
       "  <tbody>\n",
       "    <tr>\n",
       "      <th>Apollo</th>\n",
       "      <td>1</td>\n",
       "    </tr>\n",
       "  </tbody>\n",
       "</table>\n",
       "</div>"
      ],
      "text/plain": [
       "        nunique\n",
       "name           \n",
       "Apollo        1"
      ]
     },
     "execution_count": 47,
     "metadata": {},
     "output_type": "execute_result"
    }
   ],
   "source": [
    "# How many users and cohorts make up the Front End\n",
    "fe_users.groupby(['name'])['user_id'].agg(['nunique'])"
   ]
  },
  {
   "cell_type": "markdown",
   "id": "efd495c0",
   "metadata": {},
   "source": [
    "<div class=\"alert alert-info\">\n",
    "\n",
    "\n",
    "## ANSWER: Because there was only one Front End user who graduated in 2015, three years before the start date of our data access collection which begins in 2018.\n",
    "\n",
    "## Most likely, the majority of the Null entries for Cohort could probably be attributed to Front End as well as a few towards Staff"
   ]
  }
 ],
 "metadata": {
  "kernelspec": {
   "display_name": "Python 3 (ipykernel)",
   "language": "python",
   "name": "python3"
  },
  "language_info": {
   "codemirror_mode": {
    "name": "ipython",
    "version": 3
   },
   "file_extension": ".py",
   "mimetype": "text/x-python",
   "name": "python",
   "nbconvert_exporter": "python",
   "pygments_lexer": "ipython3",
   "version": "3.9.12"
  }
 },
 "nbformat": 4,
 "nbformat_minor": 5
}
