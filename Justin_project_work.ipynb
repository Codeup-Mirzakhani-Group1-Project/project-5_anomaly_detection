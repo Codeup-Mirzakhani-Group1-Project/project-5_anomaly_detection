{
 "cells": [
  {
   "cell_type": "markdown",
   "id": "f774c511",
   "metadata": {},
   "source": [
    "# [Project - Anomaly Detection](https://classroom.google.com/u/1/c/NTI2MzQ4Nzc3NTk3/a/NTI2MzQ4Nzc3NjUx/details)"
   ]
  },
  {
   "cell_type": "code",
   "execution_count": null,
   "id": "1ea523e4",
   "metadata": {},
   "outputs": [],
   "source": [
    "#################################################\n",
    "#################### Imports ####################\n",
    "#################################################\n",
    "\n",
    "# ---------------- #\n",
    "# Common Libraries #\n",
    "# ---------------- #\n",
    "      \n",
    "# Standard Imports\n",
    "import os\n",
    "import requests\n",
    "import numpy as np\n",
    "import pandas as pd\n",
    "\n",
    "# Working with Dates & Times\n",
    "from sklearn.model_selection import TimeSeriesSplit\n",
    "from datetime import timedelta, datetime\n",
    "\n",
    "# Working with Math & Stats\n",
    "import statsmodels.api as sm\n",
    "import scipy.stats as stats\n",
    "\n",
    "# to evaluate performance using rmse\n",
    "from sklearn.metrics import mean_squared_error\n",
    "from math import sqrt \n",
    "\n",
    "# holt's linear trend model. \n",
    "from statsmodels.tsa.api import Holt\n",
    "\n",
    "# Plots, Graphs, & Visualization\n",
    "import seaborn as sns\n",
    "import matplotlib.pyplot as plt\n",
    "from matplotlib.ticker import StrMethodFormatter\n",
    "from matplotlib.dates import DateFormatter\n",
    "\n",
    "# plotting defaults\n",
    "plt.rc('figure', figsize=(13, 7))\n",
    "plt.style.use('seaborn-whitegrid')\n",
    "plt.rc('font', size=16)\n",
    "\n",
    "# -------------- #\n",
    "# Action Imports #\n",
    "# -------------- #\n",
    "\n",
    "# Warnings \n",
    "import warnings \n",
    "warnings.filterwarnings(\"ignore\")\n",
    "\n",
    "# ------------ #\n",
    "# JUPYTER ONLY #\n",
    "# ------------ #\n",
    "    \n",
    "# Disable autosave\n",
    "%autosave 0\n",
    "\n",
    "# Increases Display Resolution for Graphs \n",
    "%matplotlib inline \n",
    "%config InlineBackend.figure_format = 'retina'\n",
    "\n",
    "# Left Align Tables in Jupyter Notebook\n",
    "from IPython.core.display import HTML\n",
    "table_css = 'table {align:left;display:block}'\n",
    "HTML('{}'.format(table_css))\n",
    "\n",
    "# ------------- #\n",
    "# Local Imports #\n",
    "# ------------- #\n",
    "\n",
    "# importing sys\n",
    "import sys\n",
    "\n",
    "# adding 00_helper_files to the system path\n",
    "sys.path.insert(0, '/Users/qmcbt/codeup-data-science/00_helper_files')\n",
    "\n",
    "# env containing sensitive access credentials\n",
    "import env\n",
    "from env import user, password, host\n",
    "\n",
    "# Import Helper Modules\n",
    "import QMCBT_00_quicktips as qt\n",
    "import QMCBT_01_acquire as acq\n",
    "import QMCBT_02_prepare as prep\n",
    "import QMCBT_03_explore as exp\n",
    "import QMCBT_04_visualize as viz\n",
    "import QMCBT_05_model as mod\n",
    "import QMCBT_wrangle as w"
   ]
  },
  {
   "cell_type": "markdown",
   "id": "fd23745b",
   "metadata": {},
   "source": [
    "# SYLABUS\n",
    "* To get 100 on this project you only need to answer 5 out of the 7 questions (along with the other deliverables listed below i.e. slide, your notebook, etc).\n",
    "* send your email before the due date and time to datascience@codeup.com (Only one team member can do this on behalf of whole team).\n",
    "* Submit a link to a final notebook on GitHub that asks and answers questions - document the work you do to justify findings\n",
    "* Compose an email with the answers to the questions/your findings, and in the email, include the link to your notebook in GitHub and attach your slide.\n",
    "* You will not present this, so be sure that the details you need your leader to convey/understand are clearly communicated in the email.\n",
    "* Your slide should be like an executive summary and be in form to present.\n",
    "* Continue to use best practices of acquire.py, prepare.py, etc.\n",
    "* Since there is no modeling to be done for this project, there is no need to split the data into train/validate/test\n",
    "* The cohort schedule is in the SQL database, and alumni.codeup.com has info as well.\n",
    "* Teamwork with Git handout is posted in the google classroom"
   ]
  },
  {
   "cell_type": "markdown",
   "id": "4b8cd463",
   "metadata": {},
   "source": [
    "I have some questions for you that I need to be answered before the board meeting Wednesday afternoon. I need to be able to speak to the following questions. I also need a single slide that I can incorporate into my existing presentation (Google Slides) that summarizes the most important points. My questions are listed below; however, if you discover anything else important that I didn’t think to ask, please include that as well."
   ]
  },
  {
   "cell_type": "code",
   "execution_count": 2,
   "id": "0c565abc",
   "metadata": {},
   "outputs": [],
   "source": [
    "# Download the data\n",
    "url = 'https://drive.google.com/u/1/uc?id=1phD962Wrt8fetpvX-ersybPcZW3_54ma&export=download'"
   ]
  },
  {
   "cell_type": "code",
   "execution_count": 3,
   "id": "31e20156",
   "metadata": {},
   "outputs": [
    {
     "ename": "ModuleNotFoundError",
     "evalue": "No module named 'urllib2'",
     "output_type": "error",
     "traceback": [
      "\u001b[0;31m---------------------------------------------------------------------------\u001b[0m",
      "\u001b[0;31mModuleNotFoundError\u001b[0m                       Traceback (most recent call last)",
      "Input \u001b[0;32mIn [3]\u001b[0m, in \u001b[0;36m<cell line: 1>\u001b[0;34m()\u001b[0m\n\u001b[0;32m----> 1\u001b[0m \u001b[38;5;28;01mimport\u001b[39;00m \u001b[38;5;21;01murllib2\u001b[39;00m\n\u001b[1;32m      2\u001b[0m \u001b[38;5;28;01mimport\u001b[39;00m \u001b[38;5;21;01mgzip\u001b[39;00m\n\u001b[1;32m      3\u001b[0m \u001b[38;5;28;01mimport\u001b[39;00m \u001b[38;5;21;01mStringIO\u001b[39;00m\n",
      "\u001b[0;31mModuleNotFoundError\u001b[0m: No module named 'urllib2'"
     ]
    }
   ],
   "source": [
    "import urllib2\n",
    "import gzip\n",
    "import StringIO\n",
    "\n",
    "def download_gz(url):\n",
    "    # Download SEED database\n",
    "    out_file_path = url.split(\"/\")[-1][:-3]\n",
    "    print('Downloading SEED Database from: {}'.format(url))\n",
    "    response = urllib2.urlopen(url)\n",
    "    compressed_file = StringIO.StringIO(response.read())\n",
    "    decompressed_file = gzip.GzipFile(fileobj=compressed_file)\n",
    "\n",
    "    # Extract SEED database\n",
    "    with open(out_file_path, 'w') as outfile:\n",
    "        outfile.write(decompressed_file.read())\n",
    "\n",
    "    # Filter SEED database\n",
    "    # ...\n",
    "    return\n",
    "\n",
    "if __name__ == \"__main__\":    \n",
    "    download(url)"
   ]
  },
  {
   "cell_type": "markdown",
   "id": "2cbfdc67",
   "metadata": {},
   "source": [
    "1. Which lesson appears to attract the most traffic consistently across cohorts (per program)?\n",
    "2. Is there a cohort that referred to a lesson significantly more than other cohorts seemed to gloss over?\n",
    "3. Are there students who, when active, hardly access the curriculum? If so, what information do you have about these students?\n",
    "4. Is there any suspicious activity, such as users/machines/etc accessing the curriculum who shouldn’t be? Does it appear that any web-scraping is happening? Are there any suspicious IP addresses?\n",
    "5. At some point in 2019, the ability for students and alumni to access both curriculums (web dev to ds, ds to web dev) should have been shut off. Do you see any evidence of that happening? Did it happen before?\n",
    "6. What topics are grads continuing to reference after graduation and into their jobs (for each program)?\n",
    "7. Which lessons are least accessed?\n",
    "8. Anything else I should be aware of?"
   ]
  }
 ],
 "metadata": {
  "kernelspec": {
   "display_name": "Python 3 (ipykernel)",
   "language": "python",
   "name": "python3"
  },
  "language_info": {
   "codemirror_mode": {
    "name": "ipython",
    "version": 3
   },
   "file_extension": ".py",
   "mimetype": "text/x-python",
   "name": "python",
   "nbconvert_exporter": "python",
   "pygments_lexer": "ipython3",
   "version": "3.9.12"
  }
 },
 "nbformat": 4,
 "nbformat_minor": 5
}
