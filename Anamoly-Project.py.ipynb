{
 "cells": [
  {
   "cell_type": "code",
   "execution_count": 2,
   "outputs": [],
   "source": [
    "import wrangle as w\n",
    "import numpy as np\n",
    "import pandas as pd"
   ],
   "metadata": {
    "collapsed": false
   }
  },
  {
   "cell_type": "code",
   "execution_count": 3,
   "outputs": [],
   "source": [
    "df = w.acquire_anonymized_curriculum_access_data()"
   ],
   "metadata": {
    "collapsed": false
   }
  },
  {
   "cell_type": "code",
   "execution_count": 4,
   "outputs": [],
   "source": [
    "df = w.clean_the_data(df)"
   ],
   "metadata": {
    "collapsed": false
   }
  },
  {
   "cell_type": "code",
   "execution_count": 5,
   "outputs": [
    {
     "data": {
      "text/plain": "                 date      time  \\\ndate                              \n2018-01-26 2018-01-26  09:55:03   \n2018-01-26 2018-01-26  09:56:02   \n2018-01-26 2018-01-26  09:56:05   \n2018-01-26 2018-01-26  09:56:06   \n2018-01-26 2018-01-26  09:56:24   \n...               ...       ...   \n2021-04-21 2021-04-21  16:41:51   \n2021-04-21 2021-04-21  16:42:02   \n2021-04-21 2021-04-21  16:42:09   \n2021-04-21 2021-04-21  16:44:37   \n2021-04-21 2021-04-21  16:44:39   \n\n                                                        page  user_id  \\\ndate                                                                    \n2018-01-26                                                 /        1   \n2018-01-26                                           java-ii        1   \n2018-01-26               java-ii/object-oriented-programming        1   \n2018-01-26                slides/object_oriented_programming        1   \n2018-01-26                         javascript-i/conditionals        2   \n...                                                      ...      ...   \n2021-04-21                              jquery/personal-site       64   \n2021-04-21                                 jquery/mapbox-api       64   \n2021-04-21                           jquery/ajax/weather-map       64   \n2021-04-21  anomaly-detection/discrete-probabilistic-methods      744   \n2021-04-21                                 jquery/mapbox-api       64   \n\n            cohort_id             ip     name start_date   end_date program_id  \ndate                                                                            \n2018-01-26        8.0   97.105.19.61  Hampton 2015-09-22 2016-02-06        PHP  \n2018-01-26        8.0   97.105.19.61  Hampton 2015-09-22 2016-02-06        PHP  \n2018-01-26        8.0   97.105.19.61  Hampton 2015-09-22 2016-02-06        PHP  \n2018-01-26        8.0   97.105.19.61  Hampton 2015-09-22 2016-02-06        PHP  \n2018-01-26       22.0   97.105.19.61    Teddy 2018-01-08 2018-05-17       Java  \n...               ...            ...      ...        ...        ...        ...  \n2021-04-21       28.0  71.150.217.33    Staff 2014-02-04 2014-02-04       Java  \n2021-04-21       28.0  71.150.217.33    Staff 2014-02-04 2014-02-04       Java  \n2021-04-21       28.0  71.150.217.33    Staff 2014-02-04 2014-02-04       Java  \n2021-04-21       28.0  24.160.137.86    Staff 2014-02-04 2014-02-04       Java  \n2021-04-21       28.0  71.150.217.33    Staff 2014-02-04 2014-02-04       Java  \n\n[900223 rows x 10 columns]",
      "text/html": "<div>\n<style scoped>\n    .dataframe tbody tr th:only-of-type {\n        vertical-align: middle;\n    }\n\n    .dataframe tbody tr th {\n        vertical-align: top;\n    }\n\n    .dataframe thead th {\n        text-align: right;\n    }\n</style>\n<table border=\"1\" class=\"dataframe\">\n  <thead>\n    <tr style=\"text-align: right;\">\n      <th></th>\n      <th>date</th>\n      <th>time</th>\n      <th>page</th>\n      <th>user_id</th>\n      <th>cohort_id</th>\n      <th>ip</th>\n      <th>name</th>\n      <th>start_date</th>\n      <th>end_date</th>\n      <th>program_id</th>\n    </tr>\n    <tr>\n      <th>date</th>\n      <th></th>\n      <th></th>\n      <th></th>\n      <th></th>\n      <th></th>\n      <th></th>\n      <th></th>\n      <th></th>\n      <th></th>\n      <th></th>\n    </tr>\n  </thead>\n  <tbody>\n    <tr>\n      <th>2018-01-26</th>\n      <td>2018-01-26</td>\n      <td>09:55:03</td>\n      <td>/</td>\n      <td>1</td>\n      <td>8.0</td>\n      <td>97.105.19.61</td>\n      <td>Hampton</td>\n      <td>2015-09-22</td>\n      <td>2016-02-06</td>\n      <td>PHP</td>\n    </tr>\n    <tr>\n      <th>2018-01-26</th>\n      <td>2018-01-26</td>\n      <td>09:56:02</td>\n      <td>java-ii</td>\n      <td>1</td>\n      <td>8.0</td>\n      <td>97.105.19.61</td>\n      <td>Hampton</td>\n      <td>2015-09-22</td>\n      <td>2016-02-06</td>\n      <td>PHP</td>\n    </tr>\n    <tr>\n      <th>2018-01-26</th>\n      <td>2018-01-26</td>\n      <td>09:56:05</td>\n      <td>java-ii/object-oriented-programming</td>\n      <td>1</td>\n      <td>8.0</td>\n      <td>97.105.19.61</td>\n      <td>Hampton</td>\n      <td>2015-09-22</td>\n      <td>2016-02-06</td>\n      <td>PHP</td>\n    </tr>\n    <tr>\n      <th>2018-01-26</th>\n      <td>2018-01-26</td>\n      <td>09:56:06</td>\n      <td>slides/object_oriented_programming</td>\n      <td>1</td>\n      <td>8.0</td>\n      <td>97.105.19.61</td>\n      <td>Hampton</td>\n      <td>2015-09-22</td>\n      <td>2016-02-06</td>\n      <td>PHP</td>\n    </tr>\n    <tr>\n      <th>2018-01-26</th>\n      <td>2018-01-26</td>\n      <td>09:56:24</td>\n      <td>javascript-i/conditionals</td>\n      <td>2</td>\n      <td>22.0</td>\n      <td>97.105.19.61</td>\n      <td>Teddy</td>\n      <td>2018-01-08</td>\n      <td>2018-05-17</td>\n      <td>Java</td>\n    </tr>\n    <tr>\n      <th>...</th>\n      <td>...</td>\n      <td>...</td>\n      <td>...</td>\n      <td>...</td>\n      <td>...</td>\n      <td>...</td>\n      <td>...</td>\n      <td>...</td>\n      <td>...</td>\n      <td>...</td>\n    </tr>\n    <tr>\n      <th>2021-04-21</th>\n      <td>2021-04-21</td>\n      <td>16:41:51</td>\n      <td>jquery/personal-site</td>\n      <td>64</td>\n      <td>28.0</td>\n      <td>71.150.217.33</td>\n      <td>Staff</td>\n      <td>2014-02-04</td>\n      <td>2014-02-04</td>\n      <td>Java</td>\n    </tr>\n    <tr>\n      <th>2021-04-21</th>\n      <td>2021-04-21</td>\n      <td>16:42:02</td>\n      <td>jquery/mapbox-api</td>\n      <td>64</td>\n      <td>28.0</td>\n      <td>71.150.217.33</td>\n      <td>Staff</td>\n      <td>2014-02-04</td>\n      <td>2014-02-04</td>\n      <td>Java</td>\n    </tr>\n    <tr>\n      <th>2021-04-21</th>\n      <td>2021-04-21</td>\n      <td>16:42:09</td>\n      <td>jquery/ajax/weather-map</td>\n      <td>64</td>\n      <td>28.0</td>\n      <td>71.150.217.33</td>\n      <td>Staff</td>\n      <td>2014-02-04</td>\n      <td>2014-02-04</td>\n      <td>Java</td>\n    </tr>\n    <tr>\n      <th>2021-04-21</th>\n      <td>2021-04-21</td>\n      <td>16:44:37</td>\n      <td>anomaly-detection/discrete-probabilistic-methods</td>\n      <td>744</td>\n      <td>28.0</td>\n      <td>24.160.137.86</td>\n      <td>Staff</td>\n      <td>2014-02-04</td>\n      <td>2014-02-04</td>\n      <td>Java</td>\n    </tr>\n    <tr>\n      <th>2021-04-21</th>\n      <td>2021-04-21</td>\n      <td>16:44:39</td>\n      <td>jquery/mapbox-api</td>\n      <td>64</td>\n      <td>28.0</td>\n      <td>71.150.217.33</td>\n      <td>Staff</td>\n      <td>2014-02-04</td>\n      <td>2014-02-04</td>\n      <td>Java</td>\n    </tr>\n  </tbody>\n</table>\n<p>900223 rows × 10 columns</p>\n</div>"
     },
     "execution_count": 5,
     "metadata": {},
     "output_type": "execute_result"
    }
   ],
   "source": [
    "df"
   ],
   "metadata": {
    "collapsed": false
   }
  },
  {
   "cell_type": "code",
   "execution_count": 6,
   "outputs": [
    {
     "data": {
      "text/plain": "Java            713365\nData Science    103412\nnan              52893\nPHP              30548\nFront End            5\nName: program_id, dtype: int64"
     },
     "execution_count": 6,
     "metadata": {},
     "output_type": "execute_result"
    }
   ],
   "source": [
    "df.program_id.value_counts()\n",
    "\n"
   ],
   "metadata": {
    "collapsed": false
   }
  },
  {
   "cell_type": "code",
   "execution_count": 7,
   "outputs": [
    {
     "data": {
      "text/plain": "Staff         84031\nCeres         40730\nZion          38096\nJupiter       37109\nFortuna       36902\nVoyageurs     35636\nGanymede      33844\nApex          33568\nDeimos        32888\nDarden        32015\nTeddy         30926\nHyperion      29855\nBetelgeuse    29356\nUlysses       28534\nEuropa        28033\nXanadu        27749\nBayes         26538\nWrangell      25586\nAndromeda     25359\nKalypso       23691\nCurie         21582\nYosemite      20743\nBash          17713\nLuna          16623\nMarco         16397\nEasley        14715\nLassen         9587\nArches         8890\nFlorence       8562\nSequoia        7444\nNeptune        7276\nOlympic        4954\nKings          2845\nPinnacles      2158\nHampton        1712\nOberon         1672\nQuincy         1237\nNiagara         755\nMammoth         691\nGlacier         598\nJoshua          302\nIke             253\nBadlands         93\nFranklin         72\nApollo            5\nDenali            4\nEverglades        1\nName: name, dtype: int64"
     },
     "execution_count": 7,
     "metadata": {},
     "output_type": "execute_result"
    }
   ],
   "source": [
    "df.name.value_counts()"
   ],
   "metadata": {
    "collapsed": false
   }
  },
  {
   "cell_type": "code",
   "execution_count": 8,
   "outputs": [],
   "source": [
    "DS = df[df.program_id == 'Data Science']"
   ],
   "metadata": {
    "collapsed": false
   }
  },
  {
   "cell_type": "code",
   "execution_count": 9,
   "outputs": [],
   "source": [
    "WebDev = df[(df.program_id == 'PHP') | (df.program_id == 'Java') | (df.program_id == 'Front End') ]"
   ],
   "metadata": {
    "collapsed": false
   }
  },
  {
   "cell_type": "code",
   "execution_count": 10,
   "outputs": [
    {
     "data": {
      "text/plain": "                 date      time                page  user_id  cohort_id  \\\ndate                                                                      \n2019-08-20 2019-08-20  09:39:58                   /      466       34.0   \n2019-08-20 2019-08-20  09:39:59                   /      467       34.0   \n2019-08-20 2019-08-20  09:39:59                   /      468       34.0   \n2019-08-20 2019-08-20  09:40:02                   /      469       34.0   \n2019-08-20 2019-08-20  09:40:08                   /      470       34.0   \n...               ...       ...                 ...      ...        ...   \n2021-04-21 2021-04-21  16:14:16  regression/project      841      133.0   \n2021-04-21 2021-04-21  16:15:51  regression/project      841      133.0   \n2021-04-21 2021-04-21  16:23:53                   /      143      133.0   \n2021-04-21 2021-04-21  16:23:57  clustering/project      841      133.0   \n2021-04-21 2021-04-21  16:32:50  clustering/project      841      133.0   \n\n                        ip    name start_date   end_date    program_id  \ndate                                                                    \n2019-08-20    97.105.19.58   Bayes 2019-08-19 2020-01-30  Data Science  \n2019-08-20    97.105.19.58   Bayes 2019-08-19 2020-01-30  Data Science  \n2019-08-20    97.105.19.58   Bayes 2019-08-19 2020-01-30  Data Science  \n2019-08-20    97.105.19.58   Bayes 2019-08-19 2020-01-30  Data Science  \n2019-08-20    97.105.19.58   Bayes 2019-08-19 2020-01-30  Data Science  \n...                    ...     ...        ...        ...           ...  \n2021-04-21  99.162.244.233  Easley 2020-12-07 2021-06-08  Data Science  \n2021-04-21  99.162.244.233  Easley 2020-12-07 2021-06-08  Data Science  \n2021-04-21  173.174.194.60  Easley 2020-12-07 2021-06-08  Data Science  \n2021-04-21  99.162.244.233  Easley 2020-12-07 2021-06-08  Data Science  \n2021-04-21  99.162.244.233  Easley 2020-12-07 2021-06-08  Data Science  \n\n[103412 rows x 10 columns]",
      "text/html": "<div>\n<style scoped>\n    .dataframe tbody tr th:only-of-type {\n        vertical-align: middle;\n    }\n\n    .dataframe tbody tr th {\n        vertical-align: top;\n    }\n\n    .dataframe thead th {\n        text-align: right;\n    }\n</style>\n<table border=\"1\" class=\"dataframe\">\n  <thead>\n    <tr style=\"text-align: right;\">\n      <th></th>\n      <th>date</th>\n      <th>time</th>\n      <th>page</th>\n      <th>user_id</th>\n      <th>cohort_id</th>\n      <th>ip</th>\n      <th>name</th>\n      <th>start_date</th>\n      <th>end_date</th>\n      <th>program_id</th>\n    </tr>\n    <tr>\n      <th>date</th>\n      <th></th>\n      <th></th>\n      <th></th>\n      <th></th>\n      <th></th>\n      <th></th>\n      <th></th>\n      <th></th>\n      <th></th>\n      <th></th>\n    </tr>\n  </thead>\n  <tbody>\n    <tr>\n      <th>2019-08-20</th>\n      <td>2019-08-20</td>\n      <td>09:39:58</td>\n      <td>/</td>\n      <td>466</td>\n      <td>34.0</td>\n      <td>97.105.19.58</td>\n      <td>Bayes</td>\n      <td>2019-08-19</td>\n      <td>2020-01-30</td>\n      <td>Data Science</td>\n    </tr>\n    <tr>\n      <th>2019-08-20</th>\n      <td>2019-08-20</td>\n      <td>09:39:59</td>\n      <td>/</td>\n      <td>467</td>\n      <td>34.0</td>\n      <td>97.105.19.58</td>\n      <td>Bayes</td>\n      <td>2019-08-19</td>\n      <td>2020-01-30</td>\n      <td>Data Science</td>\n    </tr>\n    <tr>\n      <th>2019-08-20</th>\n      <td>2019-08-20</td>\n      <td>09:39:59</td>\n      <td>/</td>\n      <td>468</td>\n      <td>34.0</td>\n      <td>97.105.19.58</td>\n      <td>Bayes</td>\n      <td>2019-08-19</td>\n      <td>2020-01-30</td>\n      <td>Data Science</td>\n    </tr>\n    <tr>\n      <th>2019-08-20</th>\n      <td>2019-08-20</td>\n      <td>09:40:02</td>\n      <td>/</td>\n      <td>469</td>\n      <td>34.0</td>\n      <td>97.105.19.58</td>\n      <td>Bayes</td>\n      <td>2019-08-19</td>\n      <td>2020-01-30</td>\n      <td>Data Science</td>\n    </tr>\n    <tr>\n      <th>2019-08-20</th>\n      <td>2019-08-20</td>\n      <td>09:40:08</td>\n      <td>/</td>\n      <td>470</td>\n      <td>34.0</td>\n      <td>97.105.19.58</td>\n      <td>Bayes</td>\n      <td>2019-08-19</td>\n      <td>2020-01-30</td>\n      <td>Data Science</td>\n    </tr>\n    <tr>\n      <th>...</th>\n      <td>...</td>\n      <td>...</td>\n      <td>...</td>\n      <td>...</td>\n      <td>...</td>\n      <td>...</td>\n      <td>...</td>\n      <td>...</td>\n      <td>...</td>\n      <td>...</td>\n    </tr>\n    <tr>\n      <th>2021-04-21</th>\n      <td>2021-04-21</td>\n      <td>16:14:16</td>\n      <td>regression/project</td>\n      <td>841</td>\n      <td>133.0</td>\n      <td>99.162.244.233</td>\n      <td>Easley</td>\n      <td>2020-12-07</td>\n      <td>2021-06-08</td>\n      <td>Data Science</td>\n    </tr>\n    <tr>\n      <th>2021-04-21</th>\n      <td>2021-04-21</td>\n      <td>16:15:51</td>\n      <td>regression/project</td>\n      <td>841</td>\n      <td>133.0</td>\n      <td>99.162.244.233</td>\n      <td>Easley</td>\n      <td>2020-12-07</td>\n      <td>2021-06-08</td>\n      <td>Data Science</td>\n    </tr>\n    <tr>\n      <th>2021-04-21</th>\n      <td>2021-04-21</td>\n      <td>16:23:53</td>\n      <td>/</td>\n      <td>143</td>\n      <td>133.0</td>\n      <td>173.174.194.60</td>\n      <td>Easley</td>\n      <td>2020-12-07</td>\n      <td>2021-06-08</td>\n      <td>Data Science</td>\n    </tr>\n    <tr>\n      <th>2021-04-21</th>\n      <td>2021-04-21</td>\n      <td>16:23:57</td>\n      <td>clustering/project</td>\n      <td>841</td>\n      <td>133.0</td>\n      <td>99.162.244.233</td>\n      <td>Easley</td>\n      <td>2020-12-07</td>\n      <td>2021-06-08</td>\n      <td>Data Science</td>\n    </tr>\n    <tr>\n      <th>2021-04-21</th>\n      <td>2021-04-21</td>\n      <td>16:32:50</td>\n      <td>clustering/project</td>\n      <td>841</td>\n      <td>133.0</td>\n      <td>99.162.244.233</td>\n      <td>Easley</td>\n      <td>2020-12-07</td>\n      <td>2021-06-08</td>\n      <td>Data Science</td>\n    </tr>\n  </tbody>\n</table>\n<p>103412 rows × 10 columns</p>\n</div>"
     },
     "execution_count": 10,
     "metadata": {},
     "output_type": "execute_result"
    }
   ],
   "source": [
    "DS"
   ],
   "metadata": {
    "collapsed": false
   }
  },
  {
   "cell_type": "code",
   "execution_count": 11,
   "outputs": [
    {
     "data": {
      "text/plain": "                 date      time  \\\ndate                              \n2018-01-26 2018-01-26  09:55:03   \n2018-01-26 2018-01-26  09:56:02   \n2018-01-26 2018-01-26  09:56:05   \n2018-01-26 2018-01-26  09:56:06   \n2018-01-26 2018-01-26  09:56:24   \n...               ...       ...   \n2021-04-21 2021-04-21  16:41:51   \n2021-04-21 2021-04-21  16:42:02   \n2021-04-21 2021-04-21  16:42:09   \n2021-04-21 2021-04-21  16:44:37   \n2021-04-21 2021-04-21  16:44:39   \n\n                                                        page  user_id  \\\ndate                                                                    \n2018-01-26                                                 /        1   \n2018-01-26                                           java-ii        1   \n2018-01-26               java-ii/object-oriented-programming        1   \n2018-01-26                slides/object_oriented_programming        1   \n2018-01-26                         javascript-i/conditionals        2   \n...                                                      ...      ...   \n2021-04-21                              jquery/personal-site       64   \n2021-04-21                                 jquery/mapbox-api       64   \n2021-04-21                           jquery/ajax/weather-map       64   \n2021-04-21  anomaly-detection/discrete-probabilistic-methods      744   \n2021-04-21                                 jquery/mapbox-api       64   \n\n            cohort_id             ip     name start_date   end_date program_id  \ndate                                                                            \n2018-01-26        8.0   97.105.19.61  Hampton 2015-09-22 2016-02-06        PHP  \n2018-01-26        8.0   97.105.19.61  Hampton 2015-09-22 2016-02-06        PHP  \n2018-01-26        8.0   97.105.19.61  Hampton 2015-09-22 2016-02-06        PHP  \n2018-01-26        8.0   97.105.19.61  Hampton 2015-09-22 2016-02-06        PHP  \n2018-01-26       22.0   97.105.19.61    Teddy 2018-01-08 2018-05-17       Java  \n...               ...            ...      ...        ...        ...        ...  \n2021-04-21       28.0  71.150.217.33    Staff 2014-02-04 2014-02-04       Java  \n2021-04-21       28.0  71.150.217.33    Staff 2014-02-04 2014-02-04       Java  \n2021-04-21       28.0  71.150.217.33    Staff 2014-02-04 2014-02-04       Java  \n2021-04-21       28.0  24.160.137.86    Staff 2014-02-04 2014-02-04       Java  \n2021-04-21       28.0  71.150.217.33    Staff 2014-02-04 2014-02-04       Java  \n\n[743918 rows x 10 columns]",
      "text/html": "<div>\n<style scoped>\n    .dataframe tbody tr th:only-of-type {\n        vertical-align: middle;\n    }\n\n    .dataframe tbody tr th {\n        vertical-align: top;\n    }\n\n    .dataframe thead th {\n        text-align: right;\n    }\n</style>\n<table border=\"1\" class=\"dataframe\">\n  <thead>\n    <tr style=\"text-align: right;\">\n      <th></th>\n      <th>date</th>\n      <th>time</th>\n      <th>page</th>\n      <th>user_id</th>\n      <th>cohort_id</th>\n      <th>ip</th>\n      <th>name</th>\n      <th>start_date</th>\n      <th>end_date</th>\n      <th>program_id</th>\n    </tr>\n    <tr>\n      <th>date</th>\n      <th></th>\n      <th></th>\n      <th></th>\n      <th></th>\n      <th></th>\n      <th></th>\n      <th></th>\n      <th></th>\n      <th></th>\n      <th></th>\n    </tr>\n  </thead>\n  <tbody>\n    <tr>\n      <th>2018-01-26</th>\n      <td>2018-01-26</td>\n      <td>09:55:03</td>\n      <td>/</td>\n      <td>1</td>\n      <td>8.0</td>\n      <td>97.105.19.61</td>\n      <td>Hampton</td>\n      <td>2015-09-22</td>\n      <td>2016-02-06</td>\n      <td>PHP</td>\n    </tr>\n    <tr>\n      <th>2018-01-26</th>\n      <td>2018-01-26</td>\n      <td>09:56:02</td>\n      <td>java-ii</td>\n      <td>1</td>\n      <td>8.0</td>\n      <td>97.105.19.61</td>\n      <td>Hampton</td>\n      <td>2015-09-22</td>\n      <td>2016-02-06</td>\n      <td>PHP</td>\n    </tr>\n    <tr>\n      <th>2018-01-26</th>\n      <td>2018-01-26</td>\n      <td>09:56:05</td>\n      <td>java-ii/object-oriented-programming</td>\n      <td>1</td>\n      <td>8.0</td>\n      <td>97.105.19.61</td>\n      <td>Hampton</td>\n      <td>2015-09-22</td>\n      <td>2016-02-06</td>\n      <td>PHP</td>\n    </tr>\n    <tr>\n      <th>2018-01-26</th>\n      <td>2018-01-26</td>\n      <td>09:56:06</td>\n      <td>slides/object_oriented_programming</td>\n      <td>1</td>\n      <td>8.0</td>\n      <td>97.105.19.61</td>\n      <td>Hampton</td>\n      <td>2015-09-22</td>\n      <td>2016-02-06</td>\n      <td>PHP</td>\n    </tr>\n    <tr>\n      <th>2018-01-26</th>\n      <td>2018-01-26</td>\n      <td>09:56:24</td>\n      <td>javascript-i/conditionals</td>\n      <td>2</td>\n      <td>22.0</td>\n      <td>97.105.19.61</td>\n      <td>Teddy</td>\n      <td>2018-01-08</td>\n      <td>2018-05-17</td>\n      <td>Java</td>\n    </tr>\n    <tr>\n      <th>...</th>\n      <td>...</td>\n      <td>...</td>\n      <td>...</td>\n      <td>...</td>\n      <td>...</td>\n      <td>...</td>\n      <td>...</td>\n      <td>...</td>\n      <td>...</td>\n      <td>...</td>\n    </tr>\n    <tr>\n      <th>2021-04-21</th>\n      <td>2021-04-21</td>\n      <td>16:41:51</td>\n      <td>jquery/personal-site</td>\n      <td>64</td>\n      <td>28.0</td>\n      <td>71.150.217.33</td>\n      <td>Staff</td>\n      <td>2014-02-04</td>\n      <td>2014-02-04</td>\n      <td>Java</td>\n    </tr>\n    <tr>\n      <th>2021-04-21</th>\n      <td>2021-04-21</td>\n      <td>16:42:02</td>\n      <td>jquery/mapbox-api</td>\n      <td>64</td>\n      <td>28.0</td>\n      <td>71.150.217.33</td>\n      <td>Staff</td>\n      <td>2014-02-04</td>\n      <td>2014-02-04</td>\n      <td>Java</td>\n    </tr>\n    <tr>\n      <th>2021-04-21</th>\n      <td>2021-04-21</td>\n      <td>16:42:09</td>\n      <td>jquery/ajax/weather-map</td>\n      <td>64</td>\n      <td>28.0</td>\n      <td>71.150.217.33</td>\n      <td>Staff</td>\n      <td>2014-02-04</td>\n      <td>2014-02-04</td>\n      <td>Java</td>\n    </tr>\n    <tr>\n      <th>2021-04-21</th>\n      <td>2021-04-21</td>\n      <td>16:44:37</td>\n      <td>anomaly-detection/discrete-probabilistic-methods</td>\n      <td>744</td>\n      <td>28.0</td>\n      <td>24.160.137.86</td>\n      <td>Staff</td>\n      <td>2014-02-04</td>\n      <td>2014-02-04</td>\n      <td>Java</td>\n    </tr>\n    <tr>\n      <th>2021-04-21</th>\n      <td>2021-04-21</td>\n      <td>16:44:39</td>\n      <td>jquery/mapbox-api</td>\n      <td>64</td>\n      <td>28.0</td>\n      <td>71.150.217.33</td>\n      <td>Staff</td>\n      <td>2014-02-04</td>\n      <td>2014-02-04</td>\n      <td>Java</td>\n    </tr>\n  </tbody>\n</table>\n<p>743918 rows × 10 columns</p>\n</div>"
     },
     "execution_count": 11,
     "metadata": {},
     "output_type": "execute_result"
    }
   ],
   "source": [
    "WebDev"
   ],
   "metadata": {
    "collapsed": false
   }
  },
  {
   "cell_type": "code",
   "execution_count": 12,
   "outputs": [],
   "source": [
    "DS_Cohorts = DS.groupby('page')['name'].count().sort_values()"
   ],
   "metadata": {
    "collapsed": false
   }
  },
  {
   "cell_type": "code",
   "execution_count": 13,
   "outputs": [],
   "source": [
    "WebDev_Cohorts = WebDev.groupby('page')['name'].count().sort_values()"
   ],
   "metadata": {
    "collapsed": false
   }
  },
  {
   "cell_type": "code",
   "execution_count": 14,
   "outputs": [
    {
     "data": {
      "text/plain": "page\n'                               1\ncli-02-listing-files            1\ncli-03-file-paths               1\ncli-07-more-topics              1\ncodeup-exercises                1\n                            ...  \njava-iii                    13162\nsearch/search_index.json    15331\ntoc                         17580\njavascript-i                18193\n/                           37496\nName: name, Length: 2054, dtype: int64"
     },
     "execution_count": 14,
     "metadata": {},
     "output_type": "execute_result"
    }
   ],
   "source": [
    "WebDev_Cohorts"
   ],
   "metadata": {
    "collapsed": false
   }
  },
  {
   "cell_type": "code",
   "execution_count": 15,
   "outputs": [
    {
     "data": {
      "text/plain": "page\n%20https://github.com/RaulCPena                      1\nappendix/open_data/www.census.gov                    1\nappendix/open_data/www.flickr.com/services/api       1\nappendix/open_data/www.openstreetmap.org             1\nappendix/univariate_regression_in_excel              1\n                                                  ... \n1-fundamentals/AI-ML-DL-timeline.jpg              1651\n1-fundamentals/modern-data-scientist.jpg          1655\nclassification/overview                           1785\nsearch/search_index.json                          2203\n/                                                 8358\nName: name, Length: 682, dtype: int64"
     },
     "execution_count": 15,
     "metadata": {},
     "output_type": "execute_result"
    }
   ],
   "source": [
    "DS_Cohorts"
   ],
   "metadata": {
    "collapsed": false
   }
  },
  {
   "cell_type": "code",
   "execution_count": 16,
   "outputs": [
    {
     "data": {
      "text/plain": "array(['Hampton', 'Teddy', 'Sequoia', 'Arches', 'Niagara', 'Pinnacles',\n       'Quincy', nan, 'Kings', 'Lassen', 'Mammoth', 'Glacier', 'Denali',\n       'Joshua', 'Olympic', 'Ulysses', 'Badlands', 'Apollo', 'Ike',\n       'Voyageurs', 'Wrangell', 'Xanadu', 'Franklin', 'Yosemite', 'Staff',\n       'Zion', 'Andromeda', 'Betelgeuse', 'Ceres', 'Bayes', 'Deimos',\n       'Europa', 'Fortuna', 'Curie', 'Apex', 'Ganymede', 'Everglades',\n       'Hyperion', 'Darden', 'Bash', 'Jupiter', 'Kalypso', 'Luna',\n       'Easley', 'Marco', 'Neptune', 'Florence', 'Oberon'], dtype=object)"
     },
     "execution_count": 16,
     "metadata": {},
     "output_type": "execute_result"
    }
   ],
   "source": [
    "df.name.unique()"
   ],
   "metadata": {
    "collapsed": false
   }
  },
  {
   "cell_type": "code",
   "execution_count": 17,
   "outputs": [],
   "source": [
    "WebDevDict = {}\n",
    "for x in WebDev.name.unique():\n",
    "    WebDevDict[x] = pd.DataFrame(df[df.name == x])\n",
    "\n"
   ],
   "metadata": {
    "collapsed": false
   }
  },
  {
   "cell_type": "code",
   "execution_count": 18,
   "outputs": [],
   "source": [
    "DSDict = {}\n",
    "for x in DS.name.unique():\n",
    "    DSDict[x] = pd.DataFrame(df[df.name == x])\n",
    "\n"
   ],
   "metadata": {
    "collapsed": false
   }
  },
  {
   "cell_type": "code",
   "execution_count": 19,
   "outputs": [
    {
     "data": {
      "text/plain": "{'Bayes':                  date      time  \\\n date                              \n 2019-08-20 2019-08-20  09:39:58   \n 2019-08-20 2019-08-20  09:39:59   \n 2019-08-20 2019-08-20  09:39:59   \n 2019-08-20 2019-08-20  09:40:02   \n 2019-08-20 2019-08-20  09:40:08   \n ...               ...       ...   \n 2021-04-20 2021-04-20  21:25:09   \n 2021-04-20 2021-04-20  21:25:19   \n 2021-04-20 2021-04-20  21:31:00   \n 2021-04-21 2021-04-21  10:59:17   \n 2021-04-21 2021-04-21  11:00:06   \n \n                                                       page  user_id  \\\n date                                                                  \n 2019-08-20                                               /      466   \n 2019-08-20                                               /      467   \n 2019-08-20                                               /      468   \n 2019-08-20                                               /      469   \n 2019-08-20                                               /      470   \n ...                                                    ...      ...   \n 2021-04-20  anomaly-detection/AnomalyDetectionCartoon.jpeg      478   \n 2021-04-20                             capstones/capstones      478   \n 2021-04-20                              sql/mysql-overview      478   \n 2021-04-21                                               /      485   \n 2021-04-21                      python/advanced-dataframes      485   \n \n             cohort_id              ip   name start_date   end_date  \\\n date                                                                 \n 2019-08-20       34.0    97.105.19.58  Bayes 2019-08-19 2020-01-30   \n 2019-08-20       34.0    97.105.19.58  Bayes 2019-08-19 2020-01-30   \n 2019-08-20       34.0    97.105.19.58  Bayes 2019-08-19 2020-01-30   \n 2019-08-20       34.0    97.105.19.58  Bayes 2019-08-19 2020-01-30   \n 2019-08-20       34.0    97.105.19.58  Bayes 2019-08-19 2020-01-30   \n ...               ...             ...    ...        ...        ...   \n 2021-04-20       34.0    67.11.138.10  Bayes 2019-08-19 2020-01-30   \n 2021-04-20       34.0    67.11.138.10  Bayes 2019-08-19 2020-01-30   \n 2021-04-20       34.0    67.11.138.10  Bayes 2019-08-19 2020-01-30   \n 2021-04-21       34.0  173.174.142.84  Bayes 2019-08-19 2020-01-30   \n 2021-04-21       34.0  173.174.142.84  Bayes 2019-08-19 2020-01-30   \n \n               program_id  \n date                      \n 2019-08-20  Data Science  \n 2019-08-20  Data Science  \n 2019-08-20  Data Science  \n 2019-08-20  Data Science  \n 2019-08-20  Data Science  \n ...                  ...  \n 2021-04-20  Data Science  \n 2021-04-20  Data Science  \n 2021-04-20  Data Science  \n 2021-04-21  Data Science  \n 2021-04-21  Data Science  \n \n [26538 rows x 10 columns],\n 'Curie':                  date      time  \\\n date                              \n 2020-02-03 2020-02-03  15:39:34   \n 2020-02-03 2020-02-03  15:39:35   \n 2020-02-03 2020-02-03  15:39:37   \n 2020-02-03 2020-02-03  15:39:37   \n 2020-02-03 2020-02-03  15:39:43   \n ...               ...       ...   \n 2021-04-20 2021-04-20  14:44:36   \n 2021-04-20 2021-04-20  14:45:12   \n 2021-04-20 2021-04-20  14:45:43   \n 2021-04-20 2021-04-20  19:06:48   \n 2021-04-20 2021-04-20  19:06:59   \n \n                                                          page  user_id  \\\n date                                                                     \n 2020-02-03                                              login      575   \n 2020-02-03                                                  /      576   \n 2020-02-03                                                  /      577   \n 2020-02-03                                              login      575   \n 2020-02-03                                                  /      578   \n ...                                                       ...      ...   \n 2021-04-20                             sql/mysql-introduction      580   \n 2021-04-20                             python/pandas-overview      580   \n 2021-04-20                                      python/series      580   \n 2021-04-20                                  appendix/postwork      580   \n 2021-04-20  appendix/professional-development/t-block-less...      580   \n \n             cohort_id              ip   name start_date   end_date  \\\n date                                                                 \n 2020-02-03       55.0    97.105.19.58  Curie 2020-02-03 2020-07-07   \n 2020-02-03       55.0    97.105.19.58  Curie 2020-02-03 2020-07-07   \n 2020-02-03       55.0    97.105.19.58  Curie 2020-02-03 2020-07-07   \n 2020-02-03       55.0    97.105.19.58  Curie 2020-02-03 2020-07-07   \n 2020-02-03       55.0    97.105.19.58  Curie 2020-02-03 2020-07-07   \n ...               ...             ...    ...        ...        ...   \n 2021-04-20       55.0  185.247.70.173  Curie 2020-02-03 2020-07-07   \n 2021-04-20       55.0  185.247.70.173  Curie 2020-02-03 2020-07-07   \n 2021-04-20       55.0  185.247.70.173  Curie 2020-02-03 2020-07-07   \n 2021-04-20       55.0  185.247.70.173  Curie 2020-02-03 2020-07-07   \n 2021-04-20       55.0  185.247.70.173  Curie 2020-02-03 2020-07-07   \n \n               program_id  \n date                      \n 2020-02-03  Data Science  \n 2020-02-03  Data Science  \n 2020-02-03  Data Science  \n 2020-02-03  Data Science  \n 2020-02-03  Data Science  \n ...                  ...  \n 2021-04-20  Data Science  \n 2021-04-20  Data Science  \n 2021-04-20  Data Science  \n 2021-04-20  Data Science  \n 2021-04-20  Data Science  \n \n [21582 rows x 10 columns],\n 'Darden':                  date      time  \\\n date                              \n 2020-07-13 2020-07-13  14:34:44   \n 2020-07-13 2020-07-13  14:37:22   \n 2020-07-13 2020-07-13  14:38:28   \n 2020-07-13 2020-07-13  14:39:21   \n 2020-07-13 2020-07-13  14:39:36   \n ...               ...       ...   \n 2021-04-21 2021-04-21  15:20:12   \n 2021-04-21 2021-04-21  15:20:12   \n 2021-04-21 2021-04-21  15:20:12   \n 2021-04-21 2021-04-21  15:20:14   \n 2021-04-21 2021-04-21  15:20:18   \n \n                                                          page  user_id  \\\n date                                                                     \n 2020-07-13                                                  /      678   \n 2020-07-13                                                  /      679   \n 2020-07-13                                                  /      680   \n 2020-07-13                     13-advanced-topics/1-tidy-data      679   \n 2020-07-13           1-fundamentals/1.1-intro-to-data-science      679   \n ...                                                       ...      ...   \n 2021-04-21                            classification/overview      692   \n 2021-04-21  classification/classical_programming_vs_machin...      692   \n 2021-04-21           classification/scale_features_or_not.svg      692   \n 2021-04-21                             classification/project      692   \n 2021-04-21                             classification/acquire      692   \n \n             cohort_id             ip    name start_date   end_date  \\\n date                                                                 \n 2020-07-13       59.0  76.201.20.193  Darden 2020-07-13 2021-01-12   \n 2020-07-13       59.0  24.28.146.155  Darden 2020-07-13 2021-01-12   \n 2020-07-13       59.0  136.50.56.155  Darden 2020-07-13 2021-01-12   \n 2020-07-13       59.0  24.28.146.155  Darden 2020-07-13 2021-01-12   \n 2020-07-13       59.0  24.28.146.155  Darden 2020-07-13 2021-01-12   \n ...               ...            ...     ...        ...        ...   \n 2021-04-21       59.0   96.8.130.134  Darden 2020-07-13 2021-01-12   \n 2021-04-21       59.0   96.8.130.134  Darden 2020-07-13 2021-01-12   \n 2021-04-21       59.0   96.8.130.134  Darden 2020-07-13 2021-01-12   \n 2021-04-21       59.0   96.8.130.134  Darden 2020-07-13 2021-01-12   \n 2021-04-21       59.0   96.8.130.134  Darden 2020-07-13 2021-01-12   \n \n               program_id  \n date                      \n 2020-07-13  Data Science  \n 2020-07-13  Data Science  \n 2020-07-13  Data Science  \n 2020-07-13  Data Science  \n 2020-07-13  Data Science  \n ...                  ...  \n 2021-04-21  Data Science  \n 2021-04-21  Data Science  \n 2021-04-21  Data Science  \n 2021-04-21  Data Science  \n 2021-04-21  Data Science  \n \n [32015 rows x 10 columns],\n 'Easley':                  date      time                page  user_id  cohort_id  \\\n date                                                                      \n 2020-12-08 2020-12-08  10:49:37                   /      835      133.0   \n 2020-12-08 2020-12-08  10:49:39                   /      836      133.0   \n 2020-12-08 2020-12-08  10:49:40                   /      837      133.0   \n 2020-12-08 2020-12-08  10:49:52                   /      838      133.0   \n 2020-12-08 2020-12-08  10:50:16                   /      839      133.0   \n ...               ...       ...                 ...      ...        ...   \n 2021-04-21 2021-04-21  16:14:16  regression/project      841      133.0   \n 2021-04-21 2021-04-21  16:15:51  regression/project      841      133.0   \n 2021-04-21 2021-04-21  16:23:53                   /      143      133.0   \n 2021-04-21 2021-04-21  16:23:57  clustering/project      841      133.0   \n 2021-04-21 2021-04-21  16:32:50  clustering/project      841      133.0   \n \n                         ip    name start_date   end_date    program_id  \n date                                                                    \n 2020-12-08   173.173.109.5  Easley 2020-12-07 2021-06-08  Data Science  \n 2020-12-08   99.43.137.186  Easley 2020-12-07 2021-06-08  Data Science  \n 2020-12-08     66.69.79.82  Easley 2020-12-07 2021-06-08  Data Science  \n 2020-12-08   99.158.249.67  Easley 2020-12-07 2021-06-08  Data Science  \n 2020-12-08    130.45.49.89  Easley 2020-12-07 2021-06-08  Data Science  \n ...                    ...     ...        ...        ...           ...  \n 2021-04-21  99.162.244.233  Easley 2020-12-07 2021-06-08  Data Science  \n 2021-04-21  99.162.244.233  Easley 2020-12-07 2021-06-08  Data Science  \n 2021-04-21  173.174.194.60  Easley 2020-12-07 2021-06-08  Data Science  \n 2021-04-21  99.162.244.233  Easley 2020-12-07 2021-06-08  Data Science  \n 2021-04-21  99.162.244.233  Easley 2020-12-07 2021-06-08  Data Science  \n \n [14715 rows x 10 columns],\n 'Florence':                  date      time                                page  user_id  \\\n date                                                                           \n 2021-03-15 2021-03-15  15:22:48                                   /      896   \n 2021-03-15 2021-03-15  15:23:17                                   /      897   \n 2021-03-15 2021-03-15  15:23:33                                   /      898   \n 2021-03-15 2021-03-15  15:23:48                                   /      899   \n 2021-03-15 2021-03-15  15:24:05  fundamentals/intro-to-data-science      898   \n ...               ...       ...                                 ...      ...   \n 2021-04-21 2021-04-21  12:10:26          python/advanced-dataframes      898   \n 2021-04-21 2021-04-21  12:47:06                                   /      903   \n 2021-04-21 2021-04-21  12:47:09                    fundamentals/git      903   \n 2021-04-21 2021-04-21  12:55:54                   python/dataframes      908   \n 2021-04-21 2021-04-21  13:23:06                        sql/group-by      903   \n \n             cohort_id               ip      name start_date   end_date  \\\n date                                                                     \n 2021-03-15      137.0   162.205.226.39  Florence 2021-03-15 2021-09-03   \n 2021-03-15      137.0    72.181.115.96  Florence 2021-03-15 2021-09-03   \n 2021-03-15      137.0    208.84.155.68  Florence 2021-03-15 2021-09-03   \n 2021-03-15      137.0  173.173.110.122  Florence 2021-03-15 2021-09-03   \n 2021-03-15      137.0    208.84.155.68  Florence 2021-03-15 2021-09-03   \n ...               ...              ...       ...        ...        ...   \n 2021-04-21      137.0   99.147.232.101  Florence 2021-03-15 2021-09-03   \n 2021-04-21      137.0     70.117.8.141  Florence 2021-03-15 2021-09-03   \n 2021-04-21      137.0     70.117.8.141  Florence 2021-03-15 2021-09-03   \n 2021-04-21      137.0    68.206.160.11  Florence 2021-03-15 2021-09-03   \n 2021-04-21      137.0     70.117.8.141  Florence 2021-03-15 2021-09-03   \n \n               program_id  \n date                      \n 2021-03-15  Data Science  \n 2021-03-15  Data Science  \n 2021-03-15  Data Science  \n 2021-03-15  Data Science  \n 2021-03-15  Data Science  \n ...                  ...  \n 2021-04-21  Data Science  \n 2021-04-21  Data Science  \n 2021-04-21  Data Science  \n 2021-04-21  Data Science  \n 2021-04-21  Data Science  \n \n [8562 rows x 10 columns]}"
     },
     "execution_count": 19,
     "metadata": {},
     "output_type": "execute_result"
    }
   ],
   "source": [
    "DSDict"
   ],
   "metadata": {
    "collapsed": false
   }
  },
  {
   "cell_type": "code",
   "execution_count": 45,
   "outputs": [
    {
     "data": {
      "text/plain": "'Hampton'"
     },
     "metadata": {},
     "output_type": "display_data"
    },
    {
     "data": {
      "text/plain": "page\njava-iii/servlets     30\nmysql                 30\njavascript-ii         31\njavascript-i          36\nspring                43\njava-i                46\njava-ii               46\nappendix              55\njava-iii              57\n/                    210\nName: name, dtype: int64"
     },
     "metadata": {},
     "output_type": "display_data"
    },
    {
     "data": {
      "text/plain": "'Teddy'"
     },
     "metadata": {},
     "output_type": "display_data"
    },
    {
     "data": {
      "text/plain": "page\nappendix                     505\njava-ii                      509\njquery                       512\njava-i                       522\nmkdocs/search_index.json     595\njavascript-i                 615\nmysql                        638\njava-iii                     732\nspring                       744\n/                           1828\nName: name, dtype: int64"
     },
     "metadata": {},
     "output_type": "display_data"
    },
    {
     "data": {
      "text/plain": "'Sequoia'"
     },
     "metadata": {},
     "output_type": "display_data"
    },
    {
     "data": {
      "text/plain": "page\nspring/fundamentals/form-model-binding    156\nmkdocs/search_index.json                  168\nhtml-css                                  168\nappendix                                  170\nspring/fundamentals/repositories          172\nspring/fundamentals/controllers           190\njavascript-i                              202\nspring/fundamentals/views                 207\nspring                                    364\n/                                         630\nName: name, dtype: int64"
     },
     "metadata": {},
     "output_type": "display_data"
    },
    {
     "data": {
      "text/plain": "'Arches'"
     },
     "metadata": {},
     "output_type": "display_data"
    },
    {
     "data": {
      "text/plain": "page\njava-i           132\njquery           133\nappendix         133\njava-iii         153\njava-ii          167\nspring           192\njavascript-ii    204\nhtml-css         215\njavascript-i     294\n/                626\nName: name, dtype: int64"
     },
     "metadata": {},
     "output_type": "display_data"
    },
    {
     "data": {
      "text/plain": "'Niagara'"
     },
     "metadata": {},
     "output_type": "display_data"
    },
    {
     "data": {
      "text/plain": "page\njava-ii          17\njava-i           18\nappendix         20\njavascript-ii    21\njavascript-i     23\nmysql            24\njava-iii         29\n/                37\nindex.html       63\nspring           65\nName: name, dtype: int64"
     },
     "metadata": {},
     "output_type": "display_data"
    },
    {
     "data": {
      "text/plain": "'Pinnacles'"
     },
     "metadata": {},
     "output_type": "display_data"
    },
    {
     "data": {
      "text/plain": "page\nmysql                 39\njava-iii              45\njava-ii               50\njavascript-ii/npm     51\njava-i                54\nspring                56\nhtml-css              56\njavascript-ii         58\njavascript-i          69\n/                    149\nName: name, dtype: int64"
     },
     "metadata": {},
     "output_type": "display_data"
    },
    {
     "data": {
      "text/plain": "'Quincy'"
     },
     "metadata": {},
     "output_type": "display_data"
    },
    {
     "data": {
      "text/plain": "page\ncontent/appendix                                     14\ncontent/php_iii/php-with-html                        15\njavascript-i/conditionals                            16\ncontent/php_iii                                      19\ncontent/mysql/intro-to-mysql                         19\ncontent/laravel/intro/application-structure.html     20\ncontent/laravel/intro/environment.html               31\ncontent/html-css                                     33\ncontent/laravel/intro                                38\n/                                                   151\nName: name, dtype: int64"
     },
     "metadata": {},
     "output_type": "display_data"
    },
    {
     "data": {
      "text/plain": "'Kings'"
     },
     "metadata": {},
     "output_type": "display_data"
    },
    {
     "data": {
      "text/plain": "page\ncontent/laravel/quickstart/db-migrations.html        40\ncontent/php_ii                                       40\ncontent/php_iv                                       42\ncontent/html-css                                     45\ncontent/php_iii                                      47\ncontent/laravel/intro/gitbook/images/favicon.ico     56\ncontent/laravel/intro/application-structure.html     63\ncontent/laravel/intro                                83\nindex.html                                           84\n/                                                   219\nName: name, dtype: int64"
     },
     "metadata": {},
     "output_type": "display_data"
    },
    {
     "data": {
      "text/plain": "'Lassen'"
     },
     "metadata": {},
     "output_type": "display_data"
    },
    {
     "data": {
      "text/plain": "page\nspring/fundamentals/repositories    115\n/                                   125\njava-i                              138\njava-ii                             160\nappendix                            170\nhtml-css                            174\nspring                              222\njava-iii                            224\njavascript-i                        233\nindex.html                          877\nName: name, dtype: int64"
     },
     "metadata": {},
     "output_type": "display_data"
    },
    {
     "data": {
      "text/plain": "'Mammoth'"
     },
     "metadata": {},
     "output_type": "display_data"
    },
    {
     "data": {
      "text/plain": "page\ncontent/php_i/intro-via-interactive-shell     9\nappendix                                      9\njavascript-ii                                10\njava-ii                                      10\nspring/fundamentals/views                    11\nspring                                       12\nspring/fundamentals/controllers              12\njava-iii                                     13\njava-i                                       19\n/                                            33\nName: name, dtype: int64"
     },
     "metadata": {},
     "output_type": "display_data"
    },
    {
     "data": {
      "text/plain": "'Glacier'"
     },
     "metadata": {},
     "output_type": "display_data"
    },
    {
     "data": {
      "text/plain": "page\njavascript-i/javascript-with-html                                            14\njavascript-i/conditionals                                                    16\njavascript-i/introduction/operators                                          18\njavascript-i/introduction/variables                                          19\njavascript-i/functions                                                       20\ncontent/html-css/introduction.html                                           20\nhtml-css                                                                     21\njavascript-i/introduction/working-with-data-types-operators-and-variables    24\ncontent/html-css                                                             29\n/                                                                            51\nName: name, dtype: int64"
     },
     "metadata": {},
     "output_type": "display_data"
    },
    {
     "data": {
      "text/plain": "'Denali'"
     },
     "metadata": {},
     "output_type": "display_data"
    },
    {
     "data": {
      "text/plain": "page\n/                            1\nmkdocs/search_index.json     1\nprework/databases            1\nprework/versioning/github    1\nName: name, dtype: int64"
     },
     "metadata": {},
     "output_type": "display_data"
    },
    {
     "data": {
      "text/plain": "'Joshua'"
     },
     "metadata": {},
     "output_type": "display_data"
    },
    {
     "data": {
      "text/plain": "page\ncontent/javascript/primitive-types.html     7\ncontent/php_iv                              7\ncontent/html-css/forms.html                 7\nindex.html                                  8\n/                                           8\ncontent/html-css/elements.html              9\ncontent/mysql/intro-to-mysql               10\ncontent/javascript                         12\ncontent/html-css/introduction.html         14\ncontent/html-css                           19\nName: name, dtype: int64"
     },
     "metadata": {},
     "output_type": "display_data"
    },
    {
     "data": {
      "text/plain": "'Olympic'"
     },
     "metadata": {},
     "output_type": "display_data"
    },
    {
     "data": {
      "text/plain": "page\njavascript-i/bom-and-dom/bom                                                  60\njava-i/console-io                                                             60\njavascript-i/javascript-with-html                                             63\njavascript-i/introduction/working-with-data-types-operators-and-variables     65\nhtml-css                                                                      69\njava-i/methods                                                                69\njquery                                                                        71\njava-i                                                                        76\njavascript-i                                                                 128\n/                                                                            249\nName: name, dtype: int64"
     },
     "metadata": {},
     "output_type": "display_data"
    },
    {
     "data": {
      "text/plain": "'Ulysses'"
     },
     "metadata": {},
     "output_type": "display_data"
    },
    {
     "data": {
      "text/plain": "page\njquery                       364\nmysql                        367\njava-i                       377\nspring                       409\njava-iii                     412\njava-ii                      425\njavascript-i                 526\nhtml-css                     562\nmkdocs/search_index.json     721\n/                           1641\nName: name, dtype: int64"
     },
     "metadata": {},
     "output_type": "display_data"
    },
    {
     "data": {
      "text/plain": "'Badlands'"
     },
     "metadata": {},
     "output_type": "display_data"
    },
    {
     "data": {
      "text/plain": "page\ncontent/php_i/intro-via-interactive-shell/hello-world-and-other-strings.html     2\ncontent/php_i/intro-to-operators                                                 2\ncontent/laravel/intro                                                            2\ncontent/php_i/intro-via-interactive-shell                                        3\ncontent/php_ii                                                                   4\ncontent/php_ii/command-line/io-streams.html                                      5\ncontent/php_i                                                                    5\ncontent/php_ii/control-structures-i                                              5\ncontent/php_ii/command-line                                                      6\n/                                                                               17\nName: name, dtype: int64"
     },
     "metadata": {},
     "output_type": "display_data"
    },
    {
     "data": {
      "text/plain": "'Apollo'"
     },
     "metadata": {},
     "output_type": "display_data"
    },
    {
     "data": {
      "text/plain": "page\n/                                              1\ncontent/html-css/gitbook/images/favicon.ico    1\ncontent/html-css/introduction.html             1\ncontent/html-css                               2\nName: name, dtype: int64"
     },
     "metadata": {},
     "output_type": "display_data"
    },
    {
     "data": {
      "text/plain": "'Ike'"
     },
     "metadata": {},
     "output_type": "display_data"
    },
    {
     "data": {
      "text/plain": "page\ntoc                       6\nindex.html                6\nhtml-css/css-i            6\njavascript-i              7\nhtml-css/forms            8\ncontent/html-css          9\nhtml-css/introduction    10\nhtml-css/elements        11\nhtml-css                 12\n/                        19\nName: name, dtype: int64"
     },
     "metadata": {},
     "output_type": "display_data"
    },
    {
     "data": {
      "text/plain": "'Voyageurs'"
     },
     "metadata": {},
     "output_type": "display_data"
    },
    {
     "data": {
      "text/plain": "page\nhtml-css          528\njquery            583\njavascript-ii     584\njava-i            641\nspring            650\nmysql             663\njava-ii           756\njava-iii          770\njavascript-i      884\n/                2101\nName: name, dtype: int64"
     },
     "metadata": {},
     "output_type": "display_data"
    },
    {
     "data": {
      "text/plain": "'Wrangell'"
     },
     "metadata": {},
     "output_type": "display_data"
    },
    {
     "data": {
      "text/plain": "page\nhtml-css/css-ii/bootstrap-grid-system     313\njava-ii                                   325\njava-iii                                  337\njquery                                    377\njava-i                                    406\nhtml-css                                  411\nsearch/search_index.json                  504\njavascript-i                              560\ntoc                                       991\n/                                        1132\nName: name, dtype: int64"
     },
     "metadata": {},
     "output_type": "display_data"
    },
    {
     "data": {
      "text/plain": "'Xanadu'"
     },
     "metadata": {},
     "output_type": "display_data"
    },
    {
     "data": {
      "text/plain": "page\njava-i                      484\njavascript-ii               496\njava-iii                    497\njava-ii                     502\nmysql                       509\njquery                      544\nsearch/search_index.json    577\nhtml-css                    597\njavascript-i                722\n/                           924\nName: name, dtype: int64"
     },
     "metadata": {},
     "output_type": "display_data"
    },
    {
     "data": {
      "text/plain": "'Franklin'"
     },
     "metadata": {},
     "output_type": "display_data"
    },
    {
     "data": {
      "text/plain": "page\nspring/setup                    2\njavascript-ii                   2\njavascript-i/coffee-project     2\njavascript-i                    2\njava-iii/user-input             3\njava-iii                        3\njava-ii                         3\njava-i                          3\n/                               4\njavascript-ii/es6              10\nName: name, dtype: int64"
     },
     "metadata": {},
     "output_type": "display_data"
    },
    {
     "data": {
      "text/plain": "'Yosemite'"
     },
     "metadata": {},
     "output_type": "display_data"
    },
    {
     "data": {
      "text/plain": "page\njavascript-ii/map-filter-reduce    299\nmysql                              331\njavascript-ii                      337\njava-iii                           351\nsearch/search_index.json           361\nspring                             381\nhtml-css                           384\njavascript-i                       452\ntoc                                697\n/                                  981\nName: name, dtype: int64"
     },
     "metadata": {},
     "output_type": "display_data"
    },
    {
     "data": {
      "text/plain": "'Staff'"
     },
     "metadata": {},
     "output_type": "display_data"
    },
    {
     "data": {
      "text/plain": "page\njavascript-ii                993\njquery/ajax/weather-map     1050\njava-ii                     1260\nhtml-css                    1284\nappendix                    1288\nsearch/search_index.json    1349\njava-iii                    1393\nspring                      1403\njavascript-i                1817\n/                           6340\nName: name, dtype: int64"
     },
     "metadata": {},
     "output_type": "display_data"
    },
    {
     "data": {
      "text/plain": "'Zion'"
     },
     "metadata": {},
     "output_type": "display_data"
    },
    {
     "data": {
      "text/plain": "page\njava-i                       605\njava-ii                      624\njavascript-ii                647\nspring                       672\nhtml-css                     675\nsearch/search_index.json     700\njava-iii                     753\njavascript-i                 897\ntoc                         1465\n/                           1798\nName: name, dtype: int64"
     },
     "metadata": {},
     "output_type": "display_data"
    },
    {
     "data": {
      "text/plain": "'Andromeda'"
     },
     "metadata": {},
     "output_type": "display_data"
    },
    {
     "data": {
      "text/plain": "page\njava-i           338\njquery           338\nmysql            355\nhtml-css         375\njava-ii          398\njava-iii         433\nspring           487\njavascript-i     516\ntoc              638\n/               1174\nName: name, dtype: int64"
     },
     "metadata": {},
     "output_type": "display_data"
    },
    {
     "data": {
      "text/plain": "'Betelgeuse'"
     },
     "metadata": {},
     "output_type": "display_data"
    },
    {
     "data": {
      "text/plain": "page\nhtml-css                    457\njava-iii                    472\njava-ii                     481\njava-i                      482\nhtml-css/elements           495\njquery                      542\ntoc                         610\njavascript-i                717\nsearch/search_index.json    761\n/                           955\nName: name, dtype: int64"
     },
     "metadata": {},
     "output_type": "display_data"
    },
    {
     "data": {
      "text/plain": "'Ceres'"
     },
     "metadata": {},
     "output_type": "display_data"
    },
    {
     "data": {
      "text/plain": "page\nspring                       562\nmysql                        622\njquery                       637\njava-ii                      681\njava-iii                     682\nhtml-css                     766\ntoc                          911\njavascript-i                1003\nsearch/search_index.json    1380\n/                           1653\nName: name, dtype: int64"
     },
     "metadata": {},
     "output_type": "display_data"
    },
    {
     "data": {
      "text/plain": "'Deimos'"
     },
     "metadata": {},
     "output_type": "display_data"
    },
    {
     "data": {
      "text/plain": "page\njava-ii                      511\nmysql                        517\njava-iii                     523\nspring                       533\njquery                       563\nsearch/search_index.json     746\ntoc                          750\nhtml-css                     773\njavascript-i                 896\n/                           1467\nName: name, dtype: int64"
     },
     "metadata": {},
     "output_type": "display_data"
    },
    {
     "data": {
      "text/plain": "'Europa'"
     },
     "metadata": {},
     "output_type": "display_data"
    },
    {
     "data": {
      "text/plain": "page\nhtml-css                     353\njquery                       370\nmysql                        372\njava-ii                      375\nhtml-css/elements            430\njava-iii                     451\njavascript-i                 506\nsearch/search_index.json     742\ntoc                          964\n/                           1295\nName: name, dtype: int64"
     },
     "metadata": {},
     "output_type": "display_data"
    },
    {
     "data": {
      "text/plain": "'Fortuna'"
     },
     "metadata": {},
     "output_type": "display_data"
    },
    {
     "data": {
      "text/plain": "page\njava-i                       555\nhtml-css                     585\nmysql                        591\nspring                       636\njava-ii                      657\njavascript-i                 785\njava-iii                     786\nsearch/search_index.json    1020\ntoc                         1293\n/                           2038\nName: name, dtype: int64"
     },
     "metadata": {},
     "output_type": "display_data"
    },
    {
     "data": {
      "text/plain": "'Apex'"
     },
     "metadata": {},
     "output_type": "display_data"
    },
    {
     "data": {
      "text/plain": "page\nmysql                        483\njava-i                       590\nspring                       600\njava-iii                     663\njava-ii                      666\njavascript-i                 669\nhtml-css                     738\ntoc                          810\n/                           1346\nsearch/search_index.json    1497\nName: name, dtype: int64"
     },
     "metadata": {},
     "output_type": "display_data"
    },
    {
     "data": {
      "text/plain": "'Ganymede'"
     },
     "metadata": {},
     "output_type": "display_data"
    },
    {
     "data": {
      "text/plain": "page\njava-i                       515\njavascript-ii                525\njquery                       536\nappendix                     561\njava-ii                      641\njava-iii                     651\njavascript-i                 760\ntoc                          822\nsearch/search_index.json    1095\n/                           1727\nName: name, dtype: int64"
     },
     "metadata": {},
     "output_type": "display_data"
    },
    {
     "data": {
      "text/plain": "'Everglades'"
     },
     "metadata": {},
     "output_type": "display_data"
    },
    {
     "data": {
      "text/plain": "page\n/    1\nName: name, dtype: int64"
     },
     "metadata": {},
     "output_type": "display_data"
    },
    {
     "data": {
      "text/plain": "'Hyperion'"
     },
     "metadata": {},
     "output_type": "display_data"
    },
    {
     "data": {
      "text/plain": "page\njava-i                       489\njquery                       497\nspring                       526\nmysql                        553\nsearch/search_index.json     670\njava-ii                      688\njava-iii                     701\njavascript-i                 910\ntoc                         1022\n/                           1365\nName: name, dtype: int64"
     },
     "metadata": {},
     "output_type": "display_data"
    },
    {
     "data": {
      "text/plain": "'Bash'"
     },
     "metadata": {},
     "output_type": "display_data"
    },
    {
     "data": {
      "text/plain": "page\njavascript-i/introduction    256\njquery                       262\nhtml-css                     265\njava-ii                      268\nspring                       311\njava-iii                     324\njavascript-i                 374\ntoc                          404\nsearch/search_index.json     660\n/                            772\nName: name, dtype: int64"
     },
     "metadata": {},
     "output_type": "display_data"
    },
    {
     "data": {
      "text/plain": "'Jupiter'"
     },
     "metadata": {},
     "output_type": "display_data"
    },
    {
     "data": {
      "text/plain": "page\njava-i                       503\nmysql                        564\nspring                       621\njava-ii                      755\nhtml-css                     784\njava-iii                     795\njavascript-i                 926\nsearch/search_index.json     998\n/                           1696\ntoc                         1866\nName: name, dtype: int64"
     },
     "metadata": {},
     "output_type": "display_data"
    },
    {
     "data": {
      "text/plain": "'Kalypso'"
     },
     "metadata": {},
     "output_type": "display_data"
    },
    {
     "data": {
      "text/plain": "page\njava-i                      408\njava-ii                     417\njavascript-ii               440\njava-iii                    456\nsearch/search_index.json    467\njquery                      470\nhtml-css                    495\ntoc                         495\njavascript-i                631\n/                           939\nName: name, dtype: int64"
     },
     "metadata": {},
     "output_type": "display_data"
    },
    {
     "data": {
      "text/plain": "'Luna'"
     },
     "metadata": {},
     "output_type": "display_data"
    },
    {
     "data": {
      "text/plain": "page\njavascript-ii                                                                247\njava-ii                                                                      255\njava-iii                                                                     259\njquery                                                                       301\nhtml-css                                                                     307\njavascript-i/introduction/working-with-data-types-operators-and-variables    315\ntoc                                                                          373\nsearch/search_index.json                                                     405\n/                                                                            491\njavascript-i                                                                 676\nName: name, dtype: int64"
     },
     "metadata": {},
     "output_type": "display_data"
    },
    {
     "data": {
      "text/plain": "'Marco'"
     },
     "metadata": {},
     "output_type": "display_data"
    },
    {
     "data": {
      "text/plain": "page\njavascript-i/conditionals                                                    292\njavascript-i/loops                                                           312\njavascript-i/functions                                                       382\njquery                                                                       405\njavascript-i/javascript-with-html                                            411\nhtml-css                                                                     479\njavascript-i/introduction/working-with-data-types-operators-and-variables    505\n/                                                                            699\njavascript-i                                                                 907\ntoc                                                                          910\nName: name, dtype: int64"
     },
     "metadata": {},
     "output_type": "display_data"
    },
    {
     "data": {
      "text/plain": "'Neptune'"
     },
     "metadata": {},
     "output_type": "display_data"
    },
    {
     "data": {
      "text/plain": "page\njavascript-i/functions                                                       217\njavascript-i/loops                                                           226\nhtml-css/css-ii/bootstrap-introduction                                       227\nhtml-css/css-ii/bootstrap-grid-system                                        256\njavascript-i                                                                 272\njavascript-i/javascript-with-html                                            311\nhtml-css                                                                     313\njavascript-i/introduction/working-with-data-types-operators-and-variables    329\ntoc                                                                          451\n/                                                                            472\nName: name, dtype: int64"
     },
     "metadata": {},
     "output_type": "display_data"
    },
    {
     "data": {
      "text/plain": "'Oberon'"
     },
     "metadata": {},
     "output_type": "display_data"
    },
    {
     "data": {
      "text/plain": "page\njavascript-i/introduction/variables                                           95\ntoc                                                                          101\njavascript-i/javascript-with-html                                            125\n/                                                                            131\njavascript-i                                                                 136\njavascript-i/conditionals                                                    144\njavascript-i/introduction/working-with-data-types-operators-and-variables    146\njavascript-i/functions                                                       171\njavascript-i/introduction/primitive-types                                    177\njavascript-i/introduction/operators                                          179\nName: name, dtype: int64"
     },
     "metadata": {},
     "output_type": "display_data"
    }
   ],
   "source": [
    "for x in WebDevDict:\n",
    "    display(x, WebDevDict[x].groupby('page')['name'].count().sort_values().tail(10))\n"
   ],
   "metadata": {
    "collapsed": false
   }
  },
  {
   "cell_type": "code",
   "execution_count": 21,
   "outputs": [
    {
     "data": {
      "text/plain": "'Bayes'"
     },
     "metadata": {},
     "output_type": "display_data"
    },
    {
     "data": {
      "text/plain": "page\nsearch/search_index.json                     588\n1-fundamentals/1.1-intro-to-data-science     640\n1-fundamentals/AI-ML-DL-timeline.jpg         648\n1-fundamentals/modern-data-scientist.jpg     650\n/                                           1967\nName: name, dtype: int64"
     },
     "metadata": {},
     "output_type": "display_data"
    },
    {
     "data": {
      "text/plain": "'Curie'"
     },
     "metadata": {},
     "output_type": "display_data"
    },
    {
     "data": {
      "text/plain": "page\n1-fundamentals/AI-ML-DL-timeline.jpg         465\n1-fundamentals/modern-data-scientist.jpg     467\nsearch/search_index.json                     538\n6-regression/1-overview                      595\n/                                           1712\nName: name, dtype: int64"
     },
     "metadata": {},
     "output_type": "display_data"
    },
    {
     "data": {
      "text/plain": "'Darden'"
     },
     "metadata": {},
     "output_type": "display_data"
    },
    {
     "data": {
      "text/plain": "page\nsearch/search_index.json                     664\nsql/mysql-overview                           774\nclassification/scale_features_or_not.svg     943\nclassification/overview                     1109\n/                                           2980\nName: name, dtype: int64"
     },
     "metadata": {},
     "output_type": "display_data"
    },
    {
     "data": {
      "text/plain": "'Easley'"
     },
     "metadata": {},
     "output_type": "display_data"
    },
    {
     "data": {
      "text/plain": "page\nfundamentals/AI-ML-DL-timeline.jpg                                381\nclassification/classical_programming_vs_machine_learning.jpeg     432\nclassification/overview                                           445\nclassification/scale_features_or_not.svg                          463\n/                                                                1115\nName: name, dtype: int64"
     },
     "metadata": {},
     "output_type": "display_data"
    },
    {
     "data": {
      "text/plain": "'Florence'"
     },
     "metadata": {},
     "output_type": "display_data"
    },
    {
     "data": {
      "text/plain": "page\npython/data-types-and-variables           258\n/                                         584\nfundamentals/intro-to-data-science        615\nfundamentals/AI-ML-DL-timeline.jpg        624\nfundamentals/modern-data-scientist.jpg    627\nName: name, dtype: int64"
     },
     "metadata": {},
     "output_type": "display_data"
    }
   ],
   "source": [
    "for x in DSDict:\n",
    "    display(x, DSDict[x].groupby('page')['name'].count().sort_values().tail(7))\n"
   ],
   "metadata": {
    "collapsed": false
   }
  },
  {
   "cell_type": "code",
   "execution_count": 42,
   "outputs": [],
   "source": [
    "newdf = df.groupby(['program_id','page'])['page'].count().nlargest(5)"
   ],
   "metadata": {
    "collapsed": false
   }
  },
  {
   "cell_type": "code",
   "execution_count": 43,
   "outputs": [
    {
     "data": {
      "text/plain": "program_id  page                    \nJava        /                           35814\n            javascript-i                17457\n            toc                         17428\n            search/search_index.json    15212\n            java-iii                    12683\nName: page, dtype: int64"
     },
     "execution_count": 43,
     "metadata": {},
     "output_type": "execute_result"
    }
   ],
   "source": [
    "newdf"
   ],
   "metadata": {
    "collapsed": false
   }
  },
  {
   "cell_type": "code",
   "execution_count": 24,
   "outputs": [
    {
     "data": {
      "text/plain": "                 date      time  \\\ndate                              \n2018-01-26 2018-01-26  09:55:03   \n2018-01-26 2018-01-26  09:56:02   \n2018-01-26 2018-01-26  09:56:05   \n2018-01-26 2018-01-26  09:56:06   \n2018-01-26 2018-01-26  09:56:24   \n...               ...       ...   \n2021-04-21 2021-04-21  16:41:51   \n2021-04-21 2021-04-21  16:42:02   \n2021-04-21 2021-04-21  16:42:09   \n2021-04-21 2021-04-21  16:44:37   \n2021-04-21 2021-04-21  16:44:39   \n\n                                                        page  user_id  \\\ndate                                                                    \n2018-01-26                                                 /        1   \n2018-01-26                                           java-ii        1   \n2018-01-26               java-ii/object-oriented-programming        1   \n2018-01-26                slides/object_oriented_programming        1   \n2018-01-26                         javascript-i/conditionals        2   \n...                                                      ...      ...   \n2021-04-21                              jquery/personal-site       64   \n2021-04-21                                 jquery/mapbox-api       64   \n2021-04-21                           jquery/ajax/weather-map       64   \n2021-04-21  anomaly-detection/discrete-probabilistic-methods      744   \n2021-04-21                                 jquery/mapbox-api       64   \n\n            cohort_id             ip     name start_date   end_date program_id  \ndate                                                                            \n2018-01-26        8.0   97.105.19.61  Hampton 2015-09-22 2016-02-06        PHP  \n2018-01-26        8.0   97.105.19.61  Hampton 2015-09-22 2016-02-06        PHP  \n2018-01-26        8.0   97.105.19.61  Hampton 2015-09-22 2016-02-06        PHP  \n2018-01-26        8.0   97.105.19.61  Hampton 2015-09-22 2016-02-06        PHP  \n2018-01-26       22.0   97.105.19.61    Teddy 2018-01-08 2018-05-17       Java  \n...               ...            ...      ...        ...        ...        ...  \n2021-04-21       28.0  71.150.217.33    Staff 2014-02-04 2014-02-04       Java  \n2021-04-21       28.0  71.150.217.33    Staff 2014-02-04 2014-02-04       Java  \n2021-04-21       28.0  71.150.217.33    Staff 2014-02-04 2014-02-04       Java  \n2021-04-21       28.0  24.160.137.86    Staff 2014-02-04 2014-02-04       Java  \n2021-04-21       28.0  71.150.217.33    Staff 2014-02-04 2014-02-04       Java  \n\n[900223 rows x 10 columns]",
      "text/html": "<div>\n<style scoped>\n    .dataframe tbody tr th:only-of-type {\n        vertical-align: middle;\n    }\n\n    .dataframe tbody tr th {\n        vertical-align: top;\n    }\n\n    .dataframe thead th {\n        text-align: right;\n    }\n</style>\n<table border=\"1\" class=\"dataframe\">\n  <thead>\n    <tr style=\"text-align: right;\">\n      <th></th>\n      <th>date</th>\n      <th>time</th>\n      <th>page</th>\n      <th>user_id</th>\n      <th>cohort_id</th>\n      <th>ip</th>\n      <th>name</th>\n      <th>start_date</th>\n      <th>end_date</th>\n      <th>program_id</th>\n    </tr>\n    <tr>\n      <th>date</th>\n      <th></th>\n      <th></th>\n      <th></th>\n      <th></th>\n      <th></th>\n      <th></th>\n      <th></th>\n      <th></th>\n      <th></th>\n      <th></th>\n    </tr>\n  </thead>\n  <tbody>\n    <tr>\n      <th>2018-01-26</th>\n      <td>2018-01-26</td>\n      <td>09:55:03</td>\n      <td>/</td>\n      <td>1</td>\n      <td>8.0</td>\n      <td>97.105.19.61</td>\n      <td>Hampton</td>\n      <td>2015-09-22</td>\n      <td>2016-02-06</td>\n      <td>PHP</td>\n    </tr>\n    <tr>\n      <th>2018-01-26</th>\n      <td>2018-01-26</td>\n      <td>09:56:02</td>\n      <td>java-ii</td>\n      <td>1</td>\n      <td>8.0</td>\n      <td>97.105.19.61</td>\n      <td>Hampton</td>\n      <td>2015-09-22</td>\n      <td>2016-02-06</td>\n      <td>PHP</td>\n    </tr>\n    <tr>\n      <th>2018-01-26</th>\n      <td>2018-01-26</td>\n      <td>09:56:05</td>\n      <td>java-ii/object-oriented-programming</td>\n      <td>1</td>\n      <td>8.0</td>\n      <td>97.105.19.61</td>\n      <td>Hampton</td>\n      <td>2015-09-22</td>\n      <td>2016-02-06</td>\n      <td>PHP</td>\n    </tr>\n    <tr>\n      <th>2018-01-26</th>\n      <td>2018-01-26</td>\n      <td>09:56:06</td>\n      <td>slides/object_oriented_programming</td>\n      <td>1</td>\n      <td>8.0</td>\n      <td>97.105.19.61</td>\n      <td>Hampton</td>\n      <td>2015-09-22</td>\n      <td>2016-02-06</td>\n      <td>PHP</td>\n    </tr>\n    <tr>\n      <th>2018-01-26</th>\n      <td>2018-01-26</td>\n      <td>09:56:24</td>\n      <td>javascript-i/conditionals</td>\n      <td>2</td>\n      <td>22.0</td>\n      <td>97.105.19.61</td>\n      <td>Teddy</td>\n      <td>2018-01-08</td>\n      <td>2018-05-17</td>\n      <td>Java</td>\n    </tr>\n    <tr>\n      <th>...</th>\n      <td>...</td>\n      <td>...</td>\n      <td>...</td>\n      <td>...</td>\n      <td>...</td>\n      <td>...</td>\n      <td>...</td>\n      <td>...</td>\n      <td>...</td>\n      <td>...</td>\n    </tr>\n    <tr>\n      <th>2021-04-21</th>\n      <td>2021-04-21</td>\n      <td>16:41:51</td>\n      <td>jquery/personal-site</td>\n      <td>64</td>\n      <td>28.0</td>\n      <td>71.150.217.33</td>\n      <td>Staff</td>\n      <td>2014-02-04</td>\n      <td>2014-02-04</td>\n      <td>Java</td>\n    </tr>\n    <tr>\n      <th>2021-04-21</th>\n      <td>2021-04-21</td>\n      <td>16:42:02</td>\n      <td>jquery/mapbox-api</td>\n      <td>64</td>\n      <td>28.0</td>\n      <td>71.150.217.33</td>\n      <td>Staff</td>\n      <td>2014-02-04</td>\n      <td>2014-02-04</td>\n      <td>Java</td>\n    </tr>\n    <tr>\n      <th>2021-04-21</th>\n      <td>2021-04-21</td>\n      <td>16:42:09</td>\n      <td>jquery/ajax/weather-map</td>\n      <td>64</td>\n      <td>28.0</td>\n      <td>71.150.217.33</td>\n      <td>Staff</td>\n      <td>2014-02-04</td>\n      <td>2014-02-04</td>\n      <td>Java</td>\n    </tr>\n    <tr>\n      <th>2021-04-21</th>\n      <td>2021-04-21</td>\n      <td>16:44:37</td>\n      <td>anomaly-detection/discrete-probabilistic-methods</td>\n      <td>744</td>\n      <td>28.0</td>\n      <td>24.160.137.86</td>\n      <td>Staff</td>\n      <td>2014-02-04</td>\n      <td>2014-02-04</td>\n      <td>Java</td>\n    </tr>\n    <tr>\n      <th>2021-04-21</th>\n      <td>2021-04-21</td>\n      <td>16:44:39</td>\n      <td>jquery/mapbox-api</td>\n      <td>64</td>\n      <td>28.0</td>\n      <td>71.150.217.33</td>\n      <td>Staff</td>\n      <td>2014-02-04</td>\n      <td>2014-02-04</td>\n      <td>Java</td>\n    </tr>\n  </tbody>\n</table>\n<p>900223 rows × 10 columns</p>\n</div>"
     },
     "execution_count": 24,
     "metadata": {},
     "output_type": "execute_result"
    }
   ],
   "source": [
    "df"
   ],
   "metadata": {
    "collapsed": false
   }
  }
 ],
 "metadata": {
  "kernelspec": {
   "display_name": "Python 3",
   "language": "python",
   "name": "python3"
  },
  "language_info": {
   "codemirror_mode": {
    "name": "ipython",
    "version": 2
   },
   "file_extension": ".py",
   "mimetype": "text/x-python",
   "name": "python",
   "nbconvert_exporter": "python",
   "pygments_lexer": "ipython2",
   "version": "2.7.6"
  }
 },
 "nbformat": 4,
 "nbformat_minor": 0
}
