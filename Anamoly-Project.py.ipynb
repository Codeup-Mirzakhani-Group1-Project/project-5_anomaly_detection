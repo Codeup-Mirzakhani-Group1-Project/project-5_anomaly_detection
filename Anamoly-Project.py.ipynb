{
 "cells": [
  {
   "cell_type": "code",
   "execution_count": 2,
   "metadata": {},
   "outputs": [],
   "source": [
    "import wrangle as w\n",
    "import numpy as np\n",
    "import pandas as pd"
   ]
  },
  {
   "cell_type": "code",
   "execution_count": 3,
   "metadata": {},
   "outputs": [],
   "source": [
    "df = w.acquire_anonymized_curriculum_access_data()"
   ]
  },
  {
   "cell_type": "code",
   "execution_count": 4,
   "metadata": {},
   "outputs": [],
   "source": [
    "df = w.clean_the_data(df)"
   ]
  },
  {
   "cell_type": "code",
   "execution_count": 5,
   "metadata": {},
   "outputs": [
    {
     "data": {
      "text/html": [
       "<div>\n",
       "<style scoped>\n",
       "    .dataframe tbody tr th:only-of-type {\n",
       "        vertical-align: middle;\n",
       "    }\n",
       "\n",
       "    .dataframe tbody tr th {\n",
       "        vertical-align: top;\n",
       "    }\n",
       "\n",
       "    .dataframe thead th {\n",
       "        text-align: right;\n",
       "    }\n",
       "</style>\n",
       "<table border=\"1\" class=\"dataframe\">\n",
       "  <thead>\n",
       "    <tr style=\"text-align: right;\">\n",
       "      <th></th>\n",
       "      <th>date</th>\n",
       "      <th>time</th>\n",
       "      <th>page</th>\n",
       "      <th>user_id</th>\n",
       "      <th>cohort_id</th>\n",
       "      <th>ip</th>\n",
       "      <th>name</th>\n",
       "      <th>start_date</th>\n",
       "      <th>end_date</th>\n",
       "      <th>program_id</th>\n",
       "    </tr>\n",
       "    <tr>\n",
       "      <th>date</th>\n",
       "      <th></th>\n",
       "      <th></th>\n",
       "      <th></th>\n",
       "      <th></th>\n",
       "      <th></th>\n",
       "      <th></th>\n",
       "      <th></th>\n",
       "      <th></th>\n",
       "      <th></th>\n",
       "      <th></th>\n",
       "    </tr>\n",
       "  </thead>\n",
       "  <tbody>\n",
       "    <tr>\n",
       "      <th>2018-01-26</th>\n",
       "      <td>2018-01-26</td>\n",
       "      <td>09:55:03</td>\n",
       "      <td>/</td>\n",
       "      <td>1</td>\n",
       "      <td>8.0</td>\n",
       "      <td>97.105.19.61</td>\n",
       "      <td>Hampton</td>\n",
       "      <td>2015-09-22</td>\n",
       "      <td>2016-02-06</td>\n",
       "      <td>PHP</td>\n",
       "    </tr>\n",
       "    <tr>\n",
       "      <th>2018-01-26</th>\n",
       "      <td>2018-01-26</td>\n",
       "      <td>09:56:02</td>\n",
       "      <td>java-ii</td>\n",
       "      <td>1</td>\n",
       "      <td>8.0</td>\n",
       "      <td>97.105.19.61</td>\n",
       "      <td>Hampton</td>\n",
       "      <td>2015-09-22</td>\n",
       "      <td>2016-02-06</td>\n",
       "      <td>PHP</td>\n",
       "    </tr>\n",
       "    <tr>\n",
       "      <th>2018-01-26</th>\n",
       "      <td>2018-01-26</td>\n",
       "      <td>09:56:05</td>\n",
       "      <td>java-ii/object-oriented-programming</td>\n",
       "      <td>1</td>\n",
       "      <td>8.0</td>\n",
       "      <td>97.105.19.61</td>\n",
       "      <td>Hampton</td>\n",
       "      <td>2015-09-22</td>\n",
       "      <td>2016-02-06</td>\n",
       "      <td>PHP</td>\n",
       "    </tr>\n",
       "    <tr>\n",
       "      <th>2018-01-26</th>\n",
       "      <td>2018-01-26</td>\n",
       "      <td>09:56:06</td>\n",
       "      <td>slides/object_oriented_programming</td>\n",
       "      <td>1</td>\n",
       "      <td>8.0</td>\n",
       "      <td>97.105.19.61</td>\n",
       "      <td>Hampton</td>\n",
       "      <td>2015-09-22</td>\n",
       "      <td>2016-02-06</td>\n",
       "      <td>PHP</td>\n",
       "    </tr>\n",
       "    <tr>\n",
       "      <th>2018-01-26</th>\n",
       "      <td>2018-01-26</td>\n",
       "      <td>09:56:24</td>\n",
       "      <td>javascript-i/conditionals</td>\n",
       "      <td>2</td>\n",
       "      <td>22.0</td>\n",
       "      <td>97.105.19.61</td>\n",
       "      <td>Teddy</td>\n",
       "      <td>2018-01-08</td>\n",
       "      <td>2018-05-17</td>\n",
       "      <td>Java</td>\n",
       "    </tr>\n",
       "    <tr>\n",
       "      <th>...</th>\n",
       "      <td>...</td>\n",
       "      <td>...</td>\n",
       "      <td>...</td>\n",
       "      <td>...</td>\n",
       "      <td>...</td>\n",
       "      <td>...</td>\n",
       "      <td>...</td>\n",
       "      <td>...</td>\n",
       "      <td>...</td>\n",
       "      <td>...</td>\n",
       "    </tr>\n",
       "    <tr>\n",
       "      <th>2021-04-21</th>\n",
       "      <td>2021-04-21</td>\n",
       "      <td>16:41:51</td>\n",
       "      <td>jquery/personal-site</td>\n",
       "      <td>64</td>\n",
       "      <td>28.0</td>\n",
       "      <td>71.150.217.33</td>\n",
       "      <td>Staff</td>\n",
       "      <td>2014-02-04</td>\n",
       "      <td>2014-02-04</td>\n",
       "      <td>Java</td>\n",
       "    </tr>\n",
       "    <tr>\n",
       "      <th>2021-04-21</th>\n",
       "      <td>2021-04-21</td>\n",
       "      <td>16:42:02</td>\n",
       "      <td>jquery/mapbox-api</td>\n",
       "      <td>64</td>\n",
       "      <td>28.0</td>\n",
       "      <td>71.150.217.33</td>\n",
       "      <td>Staff</td>\n",
       "      <td>2014-02-04</td>\n",
       "      <td>2014-02-04</td>\n",
       "      <td>Java</td>\n",
       "    </tr>\n",
       "    <tr>\n",
       "      <th>2021-04-21</th>\n",
       "      <td>2021-04-21</td>\n",
       "      <td>16:42:09</td>\n",
       "      <td>jquery/ajax/weather-map</td>\n",
       "      <td>64</td>\n",
       "      <td>28.0</td>\n",
       "      <td>71.150.217.33</td>\n",
       "      <td>Staff</td>\n",
       "      <td>2014-02-04</td>\n",
       "      <td>2014-02-04</td>\n",
       "      <td>Java</td>\n",
       "    </tr>\n",
       "    <tr>\n",
       "      <th>2021-04-21</th>\n",
       "      <td>2021-04-21</td>\n",
       "      <td>16:44:37</td>\n",
       "      <td>anomaly-detection/discrete-probabilistic-methods</td>\n",
       "      <td>744</td>\n",
       "      <td>28.0</td>\n",
       "      <td>24.160.137.86</td>\n",
       "      <td>Staff</td>\n",
       "      <td>2014-02-04</td>\n",
       "      <td>2014-02-04</td>\n",
       "      <td>Java</td>\n",
       "    </tr>\n",
       "    <tr>\n",
       "      <th>2021-04-21</th>\n",
       "      <td>2021-04-21</td>\n",
       "      <td>16:44:39</td>\n",
       "      <td>jquery/mapbox-api</td>\n",
       "      <td>64</td>\n",
       "      <td>28.0</td>\n",
       "      <td>71.150.217.33</td>\n",
       "      <td>Staff</td>\n",
       "      <td>2014-02-04</td>\n",
       "      <td>2014-02-04</td>\n",
       "      <td>Java</td>\n",
       "    </tr>\n",
       "  </tbody>\n",
       "</table>\n",
       "<p>900223 rows × 10 columns</p>\n",
       "</div>"
      ],
      "text/plain": [
       "                 date      time  \\\n",
       "date                              \n",
       "2018-01-26 2018-01-26  09:55:03   \n",
       "2018-01-26 2018-01-26  09:56:02   \n",
       "2018-01-26 2018-01-26  09:56:05   \n",
       "2018-01-26 2018-01-26  09:56:06   \n",
       "2018-01-26 2018-01-26  09:56:24   \n",
       "...               ...       ...   \n",
       "2021-04-21 2021-04-21  16:41:51   \n",
       "2021-04-21 2021-04-21  16:42:02   \n",
       "2021-04-21 2021-04-21  16:42:09   \n",
       "2021-04-21 2021-04-21  16:44:37   \n",
       "2021-04-21 2021-04-21  16:44:39   \n",
       "\n",
       "                                                        page  user_id  \\\n",
       "date                                                                    \n",
       "2018-01-26                                                 /        1   \n",
       "2018-01-26                                           java-ii        1   \n",
       "2018-01-26               java-ii/object-oriented-programming        1   \n",
       "2018-01-26                slides/object_oriented_programming        1   \n",
       "2018-01-26                         javascript-i/conditionals        2   \n",
       "...                                                      ...      ...   \n",
       "2021-04-21                              jquery/personal-site       64   \n",
       "2021-04-21                                 jquery/mapbox-api       64   \n",
       "2021-04-21                           jquery/ajax/weather-map       64   \n",
       "2021-04-21  anomaly-detection/discrete-probabilistic-methods      744   \n",
       "2021-04-21                                 jquery/mapbox-api       64   \n",
       "\n",
       "            cohort_id             ip     name start_date   end_date program_id  \n",
       "date                                                                            \n",
       "2018-01-26        8.0   97.105.19.61  Hampton 2015-09-22 2016-02-06        PHP  \n",
       "2018-01-26        8.0   97.105.19.61  Hampton 2015-09-22 2016-02-06        PHP  \n",
       "2018-01-26        8.0   97.105.19.61  Hampton 2015-09-22 2016-02-06        PHP  \n",
       "2018-01-26        8.0   97.105.19.61  Hampton 2015-09-22 2016-02-06        PHP  \n",
       "2018-01-26       22.0   97.105.19.61    Teddy 2018-01-08 2018-05-17       Java  \n",
       "...               ...            ...      ...        ...        ...        ...  \n",
       "2021-04-21       28.0  71.150.217.33    Staff 2014-02-04 2014-02-04       Java  \n",
       "2021-04-21       28.0  71.150.217.33    Staff 2014-02-04 2014-02-04       Java  \n",
       "2021-04-21       28.0  71.150.217.33    Staff 2014-02-04 2014-02-04       Java  \n",
       "2021-04-21       28.0  24.160.137.86    Staff 2014-02-04 2014-02-04       Java  \n",
       "2021-04-21       28.0  71.150.217.33    Staff 2014-02-04 2014-02-04       Java  \n",
       "\n",
       "[900223 rows x 10 columns]"
      ]
     },
     "execution_count": 5,
     "metadata": {},
     "output_type": "execute_result"
    }
   ],
   "source": [
    "df"
   ]
  },
  {
   "cell_type": "code",
   "execution_count": 6,
   "metadata": {},
   "outputs": [
    {
     "data": {
      "text/plain": [
       "Java            713365\n",
       "Data Science    103412\n",
       "nan              52893\n",
       "PHP              30548\n",
       "Front End            5\n",
       "Name: program_id, dtype: int64"
      ]
     },
     "execution_count": 6,
     "metadata": {},
     "output_type": "execute_result"
    }
   ],
   "source": [
    "df.program_id.value_counts()\n",
    "\n"
   ]
  },
  {
   "cell_type": "code",
   "execution_count": 7,
   "metadata": {},
   "outputs": [
    {
     "data": {
      "text/plain": [
       "Staff         84031\n",
       "Ceres         40730\n",
       "Zion          38096\n",
       "Jupiter       37109\n",
       "Fortuna       36902\n",
       "Voyageurs     35636\n",
       "Ganymede      33844\n",
       "Apex          33568\n",
       "Deimos        32888\n",
       "Darden        32015\n",
       "Teddy         30926\n",
       "Hyperion      29855\n",
       "Betelgeuse    29356\n",
       "Ulysses       28534\n",
       "Europa        28033\n",
       "Xanadu        27749\n",
       "Bayes         26538\n",
       "Wrangell      25586\n",
       "Andromeda     25359\n",
       "Kalypso       23691\n",
       "Curie         21582\n",
       "Yosemite      20743\n",
       "Bash          17713\n",
       "Luna          16623\n",
       "Marco         16397\n",
       "Easley        14715\n",
       "Lassen         9587\n",
       "Arches         8890\n",
       "Florence       8562\n",
       "Sequoia        7444\n",
       "Neptune        7276\n",
       "Olympic        4954\n",
       "Kings          2845\n",
       "Pinnacles      2158\n",
       "Hampton        1712\n",
       "Oberon         1672\n",
       "Quincy         1237\n",
       "Niagara         755\n",
       "Mammoth         691\n",
       "Glacier         598\n",
       "Joshua          302\n",
       "Ike             253\n",
       "Badlands         93\n",
       "Franklin         72\n",
       "Apollo            5\n",
       "Denali            4\n",
       "Everglades        1\n",
       "Name: name, dtype: int64"
      ]
     },
     "execution_count": 7,
     "metadata": {},
     "output_type": "execute_result"
    }
   ],
   "source": [
    "df.name.value_counts()"
   ]
  },
  {
   "cell_type": "code",
   "execution_count": 8,
   "metadata": {},
   "outputs": [],
   "source": [
    "DS = df[df.program_id == 'Data Science']"
   ]
  },
  {
   "cell_type": "code",
   "execution_count": 9,
   "metadata": {},
   "outputs": [],
   "source": [
    "WebDev = df[(df.program_id == 'PHP') | (df.program_id == 'Java') | (df.program_id == 'Front End') ]"
   ]
  },
  {
   "cell_type": "code",
   "execution_count": 10,
   "metadata": {},
   "outputs": [
    {
     "data": {
      "text/html": [
       "<div>\n",
       "<style scoped>\n",
       "    .dataframe tbody tr th:only-of-type {\n",
       "        vertical-align: middle;\n",
       "    }\n",
       "\n",
       "    .dataframe tbody tr th {\n",
       "        vertical-align: top;\n",
       "    }\n",
       "\n",
       "    .dataframe thead th {\n",
       "        text-align: right;\n",
       "    }\n",
       "</style>\n",
       "<table border=\"1\" class=\"dataframe\">\n",
       "  <thead>\n",
       "    <tr style=\"text-align: right;\">\n",
       "      <th></th>\n",
       "      <th>date</th>\n",
       "      <th>time</th>\n",
       "      <th>page</th>\n",
       "      <th>user_id</th>\n",
       "      <th>cohort_id</th>\n",
       "      <th>ip</th>\n",
       "      <th>name</th>\n",
       "      <th>start_date</th>\n",
       "      <th>end_date</th>\n",
       "      <th>program_id</th>\n",
       "    </tr>\n",
       "    <tr>\n",
       "      <th>date</th>\n",
       "      <th></th>\n",
       "      <th></th>\n",
       "      <th></th>\n",
       "      <th></th>\n",
       "      <th></th>\n",
       "      <th></th>\n",
       "      <th></th>\n",
       "      <th></th>\n",
       "      <th></th>\n",
       "      <th></th>\n",
       "    </tr>\n",
       "  </thead>\n",
       "  <tbody>\n",
       "    <tr>\n",
       "      <th>2019-08-20</th>\n",
       "      <td>2019-08-20</td>\n",
       "      <td>09:39:58</td>\n",
       "      <td>/</td>\n",
       "      <td>466</td>\n",
       "      <td>34.0</td>\n",
       "      <td>97.105.19.58</td>\n",
       "      <td>Bayes</td>\n",
       "      <td>2019-08-19</td>\n",
       "      <td>2020-01-30</td>\n",
       "      <td>Data Science</td>\n",
       "    </tr>\n",
       "    <tr>\n",
       "      <th>2019-08-20</th>\n",
       "      <td>2019-08-20</td>\n",
       "      <td>09:39:59</td>\n",
       "      <td>/</td>\n",
       "      <td>467</td>\n",
       "      <td>34.0</td>\n",
       "      <td>97.105.19.58</td>\n",
       "      <td>Bayes</td>\n",
       "      <td>2019-08-19</td>\n",
       "      <td>2020-01-30</td>\n",
       "      <td>Data Science</td>\n",
       "    </tr>\n",
       "    <tr>\n",
       "      <th>2019-08-20</th>\n",
       "      <td>2019-08-20</td>\n",
       "      <td>09:39:59</td>\n",
       "      <td>/</td>\n",
       "      <td>468</td>\n",
       "      <td>34.0</td>\n",
       "      <td>97.105.19.58</td>\n",
       "      <td>Bayes</td>\n",
       "      <td>2019-08-19</td>\n",
       "      <td>2020-01-30</td>\n",
       "      <td>Data Science</td>\n",
       "    </tr>\n",
       "    <tr>\n",
       "      <th>2019-08-20</th>\n",
       "      <td>2019-08-20</td>\n",
       "      <td>09:40:02</td>\n",
       "      <td>/</td>\n",
       "      <td>469</td>\n",
       "      <td>34.0</td>\n",
       "      <td>97.105.19.58</td>\n",
       "      <td>Bayes</td>\n",
       "      <td>2019-08-19</td>\n",
       "      <td>2020-01-30</td>\n",
       "      <td>Data Science</td>\n",
       "    </tr>\n",
       "    <tr>\n",
       "      <th>2019-08-20</th>\n",
       "      <td>2019-08-20</td>\n",
       "      <td>09:40:08</td>\n",
       "      <td>/</td>\n",
       "      <td>470</td>\n",
       "      <td>34.0</td>\n",
       "      <td>97.105.19.58</td>\n",
       "      <td>Bayes</td>\n",
       "      <td>2019-08-19</td>\n",
       "      <td>2020-01-30</td>\n",
       "      <td>Data Science</td>\n",
       "    </tr>\n",
       "    <tr>\n",
       "      <th>...</th>\n",
       "      <td>...</td>\n",
       "      <td>...</td>\n",
       "      <td>...</td>\n",
       "      <td>...</td>\n",
       "      <td>...</td>\n",
       "      <td>...</td>\n",
       "      <td>...</td>\n",
       "      <td>...</td>\n",
       "      <td>...</td>\n",
       "      <td>...</td>\n",
       "    </tr>\n",
       "    <tr>\n",
       "      <th>2021-04-21</th>\n",
       "      <td>2021-04-21</td>\n",
       "      <td>16:14:16</td>\n",
       "      <td>regression/project</td>\n",
       "      <td>841</td>\n",
       "      <td>133.0</td>\n",
       "      <td>99.162.244.233</td>\n",
       "      <td>Easley</td>\n",
       "      <td>2020-12-07</td>\n",
       "      <td>2021-06-08</td>\n",
       "      <td>Data Science</td>\n",
       "    </tr>\n",
       "    <tr>\n",
       "      <th>2021-04-21</th>\n",
       "      <td>2021-04-21</td>\n",
       "      <td>16:15:51</td>\n",
       "      <td>regression/project</td>\n",
       "      <td>841</td>\n",
       "      <td>133.0</td>\n",
       "      <td>99.162.244.233</td>\n",
       "      <td>Easley</td>\n",
       "      <td>2020-12-07</td>\n",
       "      <td>2021-06-08</td>\n",
       "      <td>Data Science</td>\n",
       "    </tr>\n",
       "    <tr>\n",
       "      <th>2021-04-21</th>\n",
       "      <td>2021-04-21</td>\n",
       "      <td>16:23:53</td>\n",
       "      <td>/</td>\n",
       "      <td>143</td>\n",
       "      <td>133.0</td>\n",
       "      <td>173.174.194.60</td>\n",
       "      <td>Easley</td>\n",
       "      <td>2020-12-07</td>\n",
       "      <td>2021-06-08</td>\n",
       "      <td>Data Science</td>\n",
       "    </tr>\n",
       "    <tr>\n",
       "      <th>2021-04-21</th>\n",
       "      <td>2021-04-21</td>\n",
       "      <td>16:23:57</td>\n",
       "      <td>clustering/project</td>\n",
       "      <td>841</td>\n",
       "      <td>133.0</td>\n",
       "      <td>99.162.244.233</td>\n",
       "      <td>Easley</td>\n",
       "      <td>2020-12-07</td>\n",
       "      <td>2021-06-08</td>\n",
       "      <td>Data Science</td>\n",
       "    </tr>\n",
       "    <tr>\n",
       "      <th>2021-04-21</th>\n",
       "      <td>2021-04-21</td>\n",
       "      <td>16:32:50</td>\n",
       "      <td>clustering/project</td>\n",
       "      <td>841</td>\n",
       "      <td>133.0</td>\n",
       "      <td>99.162.244.233</td>\n",
       "      <td>Easley</td>\n",
       "      <td>2020-12-07</td>\n",
       "      <td>2021-06-08</td>\n",
       "      <td>Data Science</td>\n",
       "    </tr>\n",
       "  </tbody>\n",
       "</table>\n",
       "<p>103412 rows × 10 columns</p>\n",
       "</div>"
      ],
      "text/plain": [
       "                 date      time                page  user_id  cohort_id  \\\n",
       "date                                                                      \n",
       "2019-08-20 2019-08-20  09:39:58                   /      466       34.0   \n",
       "2019-08-20 2019-08-20  09:39:59                   /      467       34.0   \n",
       "2019-08-20 2019-08-20  09:39:59                   /      468       34.0   \n",
       "2019-08-20 2019-08-20  09:40:02                   /      469       34.0   \n",
       "2019-08-20 2019-08-20  09:40:08                   /      470       34.0   \n",
       "...               ...       ...                 ...      ...        ...   \n",
       "2021-04-21 2021-04-21  16:14:16  regression/project      841      133.0   \n",
       "2021-04-21 2021-04-21  16:15:51  regression/project      841      133.0   \n",
       "2021-04-21 2021-04-21  16:23:53                   /      143      133.0   \n",
       "2021-04-21 2021-04-21  16:23:57  clustering/project      841      133.0   \n",
       "2021-04-21 2021-04-21  16:32:50  clustering/project      841      133.0   \n",
       "\n",
       "                        ip    name start_date   end_date    program_id  \n",
       "date                                                                    \n",
       "2019-08-20    97.105.19.58   Bayes 2019-08-19 2020-01-30  Data Science  \n",
       "2019-08-20    97.105.19.58   Bayes 2019-08-19 2020-01-30  Data Science  \n",
       "2019-08-20    97.105.19.58   Bayes 2019-08-19 2020-01-30  Data Science  \n",
       "2019-08-20    97.105.19.58   Bayes 2019-08-19 2020-01-30  Data Science  \n",
       "2019-08-20    97.105.19.58   Bayes 2019-08-19 2020-01-30  Data Science  \n",
       "...                    ...     ...        ...        ...           ...  \n",
       "2021-04-21  99.162.244.233  Easley 2020-12-07 2021-06-08  Data Science  \n",
       "2021-04-21  99.162.244.233  Easley 2020-12-07 2021-06-08  Data Science  \n",
       "2021-04-21  173.174.194.60  Easley 2020-12-07 2021-06-08  Data Science  \n",
       "2021-04-21  99.162.244.233  Easley 2020-12-07 2021-06-08  Data Science  \n",
       "2021-04-21  99.162.244.233  Easley 2020-12-07 2021-06-08  Data Science  \n",
       "\n",
       "[103412 rows x 10 columns]"
      ]
     },
     "execution_count": 10,
     "metadata": {},
     "output_type": "execute_result"
    }
   ],
   "source": [
    "DS"
   ]
  },
  {
   "cell_type": "code",
   "execution_count": 11,
   "metadata": {},
   "outputs": [
    {
     "data": {
      "text/html": [
       "<div>\n",
       "<style scoped>\n",
       "    .dataframe tbody tr th:only-of-type {\n",
       "        vertical-align: middle;\n",
       "    }\n",
       "\n",
       "    .dataframe tbody tr th {\n",
       "        vertical-align: top;\n",
       "    }\n",
       "\n",
       "    .dataframe thead th {\n",
       "        text-align: right;\n",
       "    }\n",
       "</style>\n",
       "<table border=\"1\" class=\"dataframe\">\n",
       "  <thead>\n",
       "    <tr style=\"text-align: right;\">\n",
       "      <th></th>\n",
       "      <th>date</th>\n",
       "      <th>time</th>\n",
       "      <th>page</th>\n",
       "      <th>user_id</th>\n",
       "      <th>cohort_id</th>\n",
       "      <th>ip</th>\n",
       "      <th>name</th>\n",
       "      <th>start_date</th>\n",
       "      <th>end_date</th>\n",
       "      <th>program_id</th>\n",
       "    </tr>\n",
       "    <tr>\n",
       "      <th>date</th>\n",
       "      <th></th>\n",
       "      <th></th>\n",
       "      <th></th>\n",
       "      <th></th>\n",
       "      <th></th>\n",
       "      <th></th>\n",
       "      <th></th>\n",
       "      <th></th>\n",
       "      <th></th>\n",
       "      <th></th>\n",
       "    </tr>\n",
       "  </thead>\n",
       "  <tbody>\n",
       "    <tr>\n",
       "      <th>2018-01-26</th>\n",
       "      <td>2018-01-26</td>\n",
       "      <td>09:55:03</td>\n",
       "      <td>/</td>\n",
       "      <td>1</td>\n",
       "      <td>8.0</td>\n",
       "      <td>97.105.19.61</td>\n",
       "      <td>Hampton</td>\n",
       "      <td>2015-09-22</td>\n",
       "      <td>2016-02-06</td>\n",
       "      <td>PHP</td>\n",
       "    </tr>\n",
       "    <tr>\n",
       "      <th>2018-01-26</th>\n",
       "      <td>2018-01-26</td>\n",
       "      <td>09:56:02</td>\n",
       "      <td>java-ii</td>\n",
       "      <td>1</td>\n",
       "      <td>8.0</td>\n",
       "      <td>97.105.19.61</td>\n",
       "      <td>Hampton</td>\n",
       "      <td>2015-09-22</td>\n",
       "      <td>2016-02-06</td>\n",
       "      <td>PHP</td>\n",
       "    </tr>\n",
       "    <tr>\n",
       "      <th>2018-01-26</th>\n",
       "      <td>2018-01-26</td>\n",
       "      <td>09:56:05</td>\n",
       "      <td>java-ii/object-oriented-programming</td>\n",
       "      <td>1</td>\n",
       "      <td>8.0</td>\n",
       "      <td>97.105.19.61</td>\n",
       "      <td>Hampton</td>\n",
       "      <td>2015-09-22</td>\n",
       "      <td>2016-02-06</td>\n",
       "      <td>PHP</td>\n",
       "    </tr>\n",
       "    <tr>\n",
       "      <th>2018-01-26</th>\n",
       "      <td>2018-01-26</td>\n",
       "      <td>09:56:06</td>\n",
       "      <td>slides/object_oriented_programming</td>\n",
       "      <td>1</td>\n",
       "      <td>8.0</td>\n",
       "      <td>97.105.19.61</td>\n",
       "      <td>Hampton</td>\n",
       "      <td>2015-09-22</td>\n",
       "      <td>2016-02-06</td>\n",
       "      <td>PHP</td>\n",
       "    </tr>\n",
       "    <tr>\n",
       "      <th>2018-01-26</th>\n",
       "      <td>2018-01-26</td>\n",
       "      <td>09:56:24</td>\n",
       "      <td>javascript-i/conditionals</td>\n",
       "      <td>2</td>\n",
       "      <td>22.0</td>\n",
       "      <td>97.105.19.61</td>\n",
       "      <td>Teddy</td>\n",
       "      <td>2018-01-08</td>\n",
       "      <td>2018-05-17</td>\n",
       "      <td>Java</td>\n",
       "    </tr>\n",
       "    <tr>\n",
       "      <th>...</th>\n",
       "      <td>...</td>\n",
       "      <td>...</td>\n",
       "      <td>...</td>\n",
       "      <td>...</td>\n",
       "      <td>...</td>\n",
       "      <td>...</td>\n",
       "      <td>...</td>\n",
       "      <td>...</td>\n",
       "      <td>...</td>\n",
       "      <td>...</td>\n",
       "    </tr>\n",
       "    <tr>\n",
       "      <th>2021-04-21</th>\n",
       "      <td>2021-04-21</td>\n",
       "      <td>16:41:51</td>\n",
       "      <td>jquery/personal-site</td>\n",
       "      <td>64</td>\n",
       "      <td>28.0</td>\n",
       "      <td>71.150.217.33</td>\n",
       "      <td>Staff</td>\n",
       "      <td>2014-02-04</td>\n",
       "      <td>2014-02-04</td>\n",
       "      <td>Java</td>\n",
       "    </tr>\n",
       "    <tr>\n",
       "      <th>2021-04-21</th>\n",
       "      <td>2021-04-21</td>\n",
       "      <td>16:42:02</td>\n",
       "      <td>jquery/mapbox-api</td>\n",
       "      <td>64</td>\n",
       "      <td>28.0</td>\n",
       "      <td>71.150.217.33</td>\n",
       "      <td>Staff</td>\n",
       "      <td>2014-02-04</td>\n",
       "      <td>2014-02-04</td>\n",
       "      <td>Java</td>\n",
       "    </tr>\n",
       "    <tr>\n",
       "      <th>2021-04-21</th>\n",
       "      <td>2021-04-21</td>\n",
       "      <td>16:42:09</td>\n",
       "      <td>jquery/ajax/weather-map</td>\n",
       "      <td>64</td>\n",
       "      <td>28.0</td>\n",
       "      <td>71.150.217.33</td>\n",
       "      <td>Staff</td>\n",
       "      <td>2014-02-04</td>\n",
       "      <td>2014-02-04</td>\n",
       "      <td>Java</td>\n",
       "    </tr>\n",
       "    <tr>\n",
       "      <th>2021-04-21</th>\n",
       "      <td>2021-04-21</td>\n",
       "      <td>16:44:37</td>\n",
       "      <td>anomaly-detection/discrete-probabilistic-methods</td>\n",
       "      <td>744</td>\n",
       "      <td>28.0</td>\n",
       "      <td>24.160.137.86</td>\n",
       "      <td>Staff</td>\n",
       "      <td>2014-02-04</td>\n",
       "      <td>2014-02-04</td>\n",
       "      <td>Java</td>\n",
       "    </tr>\n",
       "    <tr>\n",
       "      <th>2021-04-21</th>\n",
       "      <td>2021-04-21</td>\n",
       "      <td>16:44:39</td>\n",
       "      <td>jquery/mapbox-api</td>\n",
       "      <td>64</td>\n",
       "      <td>28.0</td>\n",
       "      <td>71.150.217.33</td>\n",
       "      <td>Staff</td>\n",
       "      <td>2014-02-04</td>\n",
       "      <td>2014-02-04</td>\n",
       "      <td>Java</td>\n",
       "    </tr>\n",
       "  </tbody>\n",
       "</table>\n",
       "<p>743918 rows × 10 columns</p>\n",
       "</div>"
      ],
      "text/plain": [
       "                 date      time  \\\n",
       "date                              \n",
       "2018-01-26 2018-01-26  09:55:03   \n",
       "2018-01-26 2018-01-26  09:56:02   \n",
       "2018-01-26 2018-01-26  09:56:05   \n",
       "2018-01-26 2018-01-26  09:56:06   \n",
       "2018-01-26 2018-01-26  09:56:24   \n",
       "...               ...       ...   \n",
       "2021-04-21 2021-04-21  16:41:51   \n",
       "2021-04-21 2021-04-21  16:42:02   \n",
       "2021-04-21 2021-04-21  16:42:09   \n",
       "2021-04-21 2021-04-21  16:44:37   \n",
       "2021-04-21 2021-04-21  16:44:39   \n",
       "\n",
       "                                                        page  user_id  \\\n",
       "date                                                                    \n",
       "2018-01-26                                                 /        1   \n",
       "2018-01-26                                           java-ii        1   \n",
       "2018-01-26               java-ii/object-oriented-programming        1   \n",
       "2018-01-26                slides/object_oriented_programming        1   \n",
       "2018-01-26                         javascript-i/conditionals        2   \n",
       "...                                                      ...      ...   \n",
       "2021-04-21                              jquery/personal-site       64   \n",
       "2021-04-21                                 jquery/mapbox-api       64   \n",
       "2021-04-21                           jquery/ajax/weather-map       64   \n",
       "2021-04-21  anomaly-detection/discrete-probabilistic-methods      744   \n",
       "2021-04-21                                 jquery/mapbox-api       64   \n",
       "\n",
       "            cohort_id             ip     name start_date   end_date program_id  \n",
       "date                                                                            \n",
       "2018-01-26        8.0   97.105.19.61  Hampton 2015-09-22 2016-02-06        PHP  \n",
       "2018-01-26        8.0   97.105.19.61  Hampton 2015-09-22 2016-02-06        PHP  \n",
       "2018-01-26        8.0   97.105.19.61  Hampton 2015-09-22 2016-02-06        PHP  \n",
       "2018-01-26        8.0   97.105.19.61  Hampton 2015-09-22 2016-02-06        PHP  \n",
       "2018-01-26       22.0   97.105.19.61    Teddy 2018-01-08 2018-05-17       Java  \n",
       "...               ...            ...      ...        ...        ...        ...  \n",
       "2021-04-21       28.0  71.150.217.33    Staff 2014-02-04 2014-02-04       Java  \n",
       "2021-04-21       28.0  71.150.217.33    Staff 2014-02-04 2014-02-04       Java  \n",
       "2021-04-21       28.0  71.150.217.33    Staff 2014-02-04 2014-02-04       Java  \n",
       "2021-04-21       28.0  24.160.137.86    Staff 2014-02-04 2014-02-04       Java  \n",
       "2021-04-21       28.0  71.150.217.33    Staff 2014-02-04 2014-02-04       Java  \n",
       "\n",
       "[743918 rows x 10 columns]"
      ]
     },
     "execution_count": 11,
     "metadata": {},
     "output_type": "execute_result"
    }
   ],
   "source": [
    "WebDev"
   ]
  },
  {
   "cell_type": "code",
   "execution_count": 12,
   "metadata": {},
   "outputs": [],
   "source": [
    "DS_Cohorts = DS.groupby('page')['name'].count().sort_values()"
   ]
  },
  {
   "cell_type": "code",
   "execution_count": 13,
   "metadata": {},
   "outputs": [],
   "source": [
    "WebDev_Cohorts = WebDev.groupby('page')['name'].count().sort_values()"
   ]
  },
  {
   "cell_type": "code",
   "execution_count": 14,
   "metadata": {},
   "outputs": [
    {
     "data": {
      "text/plain": [
       "page\n",
       "'                               1\n",
       "cli-02-listing-files            1\n",
       "cli-03-file-paths               1\n",
       "cli-07-more-topics              1\n",
       "codeup-exercises                1\n",
       "                            ...  \n",
       "java-iii                    13162\n",
       "search/search_index.json    15331\n",
       "toc                         17580\n",
       "javascript-i                18193\n",
       "/                           37496\n",
       "Name: name, Length: 2054, dtype: int64"
      ]
     },
     "execution_count": 14,
     "metadata": {},
     "output_type": "execute_result"
    }
   ],
   "source": [
    "WebDev_Cohorts"
   ]
  },
  {
   "cell_type": "code",
   "execution_count": 15,
   "metadata": {},
   "outputs": [
    {
     "data": {
      "text/plain": [
       "page\n",
       "%20https://github.com/RaulCPena                      1\n",
       "appendix/open_data/www.census.gov                    1\n",
       "appendix/open_data/www.flickr.com/services/api       1\n",
       "appendix/open_data/www.openstreetmap.org             1\n",
       "appendix/univariate_regression_in_excel              1\n",
       "                                                  ... \n",
       "1-fundamentals/AI-ML-DL-timeline.jpg              1651\n",
       "1-fundamentals/modern-data-scientist.jpg          1655\n",
       "classification/overview                           1785\n",
       "search/search_index.json                          2203\n",
       "/                                                 8358\n",
       "Name: name, Length: 682, dtype: int64"
      ]
     },
     "execution_count": 15,
     "metadata": {},
     "output_type": "execute_result"
    }
   ],
   "source": [
    "DS_Cohorts"
   ]
  },
  {
   "cell_type": "code",
   "execution_count": 16,
   "metadata": {},
   "outputs": [
    {
     "data": {
      "text/plain": [
       "array(['Hampton', 'Teddy', 'Sequoia', 'Arches', 'Niagara', 'Pinnacles',\n",
       "       'Quincy', nan, 'Kings', 'Lassen', 'Mammoth', 'Glacier', 'Denali',\n",
       "       'Joshua', 'Olympic', 'Ulysses', 'Badlands', 'Apollo', 'Ike',\n",
       "       'Voyageurs', 'Wrangell', 'Xanadu', 'Franklin', 'Yosemite', 'Staff',\n",
       "       'Zion', 'Andromeda', 'Betelgeuse', 'Ceres', 'Bayes', 'Deimos',\n",
       "       'Europa', 'Fortuna', 'Curie', 'Apex', 'Ganymede', 'Everglades',\n",
       "       'Hyperion', 'Darden', 'Bash', 'Jupiter', 'Kalypso', 'Luna',\n",
       "       'Easley', 'Marco', 'Neptune', 'Florence', 'Oberon'], dtype=object)"
      ]
     },
     "execution_count": 16,
     "metadata": {},
     "output_type": "execute_result"
    }
   ],
   "source": [
    "df.name.unique()"
   ]
  },
  {
   "cell_type": "code",
   "execution_count": 17,
   "metadata": {},
   "outputs": [],
   "source": [
    "WebDevDict = {}\n",
    "for x in WebDev.name.unique():\n",
    "    WebDevDict[x] = pd.DataFrame(df[df.name == x])\n",
    "\n"
   ]
  },
  {
   "cell_type": "code",
   "execution_count": 18,
   "metadata": {},
   "outputs": [],
   "source": [
    "DSDict = {}\n",
    "for x in DS.name.unique():\n",
    "    DSDict[x] = pd.DataFrame(df[df.name == x])\n",
    "\n"
   ]
  },
  {
   "cell_type": "code",
   "execution_count": 19,
   "metadata": {},
   "outputs": [
    {
     "data": {
      "text/plain": [
       "{'Bayes':                  date      time  \\\n",
       " date                              \n",
       " 2019-08-20 2019-08-20  09:39:58   \n",
       " 2019-08-20 2019-08-20  09:39:59   \n",
       " 2019-08-20 2019-08-20  09:39:59   \n",
       " 2019-08-20 2019-08-20  09:40:02   \n",
       " 2019-08-20 2019-08-20  09:40:08   \n",
       " ...               ...       ...   \n",
       " 2021-04-20 2021-04-20  21:25:09   \n",
       " 2021-04-20 2021-04-20  21:25:19   \n",
       " 2021-04-20 2021-04-20  21:31:00   \n",
       " 2021-04-21 2021-04-21  10:59:17   \n",
       " 2021-04-21 2021-04-21  11:00:06   \n",
       " \n",
       "                                                       page  user_id  \\\n",
       " date                                                                  \n",
       " 2019-08-20                                               /      466   \n",
       " 2019-08-20                                               /      467   \n",
       " 2019-08-20                                               /      468   \n",
       " 2019-08-20                                               /      469   \n",
       " 2019-08-20                                               /      470   \n",
       " ...                                                    ...      ...   \n",
       " 2021-04-20  anomaly-detection/AnomalyDetectionCartoon.jpeg      478   \n",
       " 2021-04-20                             capstones/capstones      478   \n",
       " 2021-04-20                              sql/mysql-overview      478   \n",
       " 2021-04-21                                               /      485   \n",
       " 2021-04-21                      python/advanced-dataframes      485   \n",
       " \n",
       "             cohort_id              ip   name start_date   end_date  \\\n",
       " date                                                                 \n",
       " 2019-08-20       34.0    97.105.19.58  Bayes 2019-08-19 2020-01-30   \n",
       " 2019-08-20       34.0    97.105.19.58  Bayes 2019-08-19 2020-01-30   \n",
       " 2019-08-20       34.0    97.105.19.58  Bayes 2019-08-19 2020-01-30   \n",
       " 2019-08-20       34.0    97.105.19.58  Bayes 2019-08-19 2020-01-30   \n",
       " 2019-08-20       34.0    97.105.19.58  Bayes 2019-08-19 2020-01-30   \n",
       " ...               ...             ...    ...        ...        ...   \n",
       " 2021-04-20       34.0    67.11.138.10  Bayes 2019-08-19 2020-01-30   \n",
       " 2021-04-20       34.0    67.11.138.10  Bayes 2019-08-19 2020-01-30   \n",
       " 2021-04-20       34.0    67.11.138.10  Bayes 2019-08-19 2020-01-30   \n",
       " 2021-04-21       34.0  173.174.142.84  Bayes 2019-08-19 2020-01-30   \n",
       " 2021-04-21       34.0  173.174.142.84  Bayes 2019-08-19 2020-01-30   \n",
       " \n",
       "               program_id  \n",
       " date                      \n",
       " 2019-08-20  Data Science  \n",
       " 2019-08-20  Data Science  \n",
       " 2019-08-20  Data Science  \n",
       " 2019-08-20  Data Science  \n",
       " 2019-08-20  Data Science  \n",
       " ...                  ...  \n",
       " 2021-04-20  Data Science  \n",
       " 2021-04-20  Data Science  \n",
       " 2021-04-20  Data Science  \n",
       " 2021-04-21  Data Science  \n",
       " 2021-04-21  Data Science  \n",
       " \n",
       " [26538 rows x 10 columns],\n",
       " 'Curie':                  date      time  \\\n",
       " date                              \n",
       " 2020-02-03 2020-02-03  15:39:34   \n",
       " 2020-02-03 2020-02-03  15:39:35   \n",
       " 2020-02-03 2020-02-03  15:39:37   \n",
       " 2020-02-03 2020-02-03  15:39:37   \n",
       " 2020-02-03 2020-02-03  15:39:43   \n",
       " ...               ...       ...   \n",
       " 2021-04-20 2021-04-20  14:44:36   \n",
       " 2021-04-20 2021-04-20  14:45:12   \n",
       " 2021-04-20 2021-04-20  14:45:43   \n",
       " 2021-04-20 2021-04-20  19:06:48   \n",
       " 2021-04-20 2021-04-20  19:06:59   \n",
       " \n",
       "                                                          page  user_id  \\\n",
       " date                                                                     \n",
       " 2020-02-03                                              login      575   \n",
       " 2020-02-03                                                  /      576   \n",
       " 2020-02-03                                                  /      577   \n",
       " 2020-02-03                                              login      575   \n",
       " 2020-02-03                                                  /      578   \n",
       " ...                                                       ...      ...   \n",
       " 2021-04-20                             sql/mysql-introduction      580   \n",
       " 2021-04-20                             python/pandas-overview      580   \n",
       " 2021-04-20                                      python/series      580   \n",
       " 2021-04-20                                  appendix/postwork      580   \n",
       " 2021-04-20  appendix/professional-development/t-block-less...      580   \n",
       " \n",
       "             cohort_id              ip   name start_date   end_date  \\\n",
       " date                                                                 \n",
       " 2020-02-03       55.0    97.105.19.58  Curie 2020-02-03 2020-07-07   \n",
       " 2020-02-03       55.0    97.105.19.58  Curie 2020-02-03 2020-07-07   \n",
       " 2020-02-03       55.0    97.105.19.58  Curie 2020-02-03 2020-07-07   \n",
       " 2020-02-03       55.0    97.105.19.58  Curie 2020-02-03 2020-07-07   \n",
       " 2020-02-03       55.0    97.105.19.58  Curie 2020-02-03 2020-07-07   \n",
       " ...               ...             ...    ...        ...        ...   \n",
       " 2021-04-20       55.0  185.247.70.173  Curie 2020-02-03 2020-07-07   \n",
       " 2021-04-20       55.0  185.247.70.173  Curie 2020-02-03 2020-07-07   \n",
       " 2021-04-20       55.0  185.247.70.173  Curie 2020-02-03 2020-07-07   \n",
       " 2021-04-20       55.0  185.247.70.173  Curie 2020-02-03 2020-07-07   \n",
       " 2021-04-20       55.0  185.247.70.173  Curie 2020-02-03 2020-07-07   \n",
       " \n",
       "               program_id  \n",
       " date                      \n",
       " 2020-02-03  Data Science  \n",
       " 2020-02-03  Data Science  \n",
       " 2020-02-03  Data Science  \n",
       " 2020-02-03  Data Science  \n",
       " 2020-02-03  Data Science  \n",
       " ...                  ...  \n",
       " 2021-04-20  Data Science  \n",
       " 2021-04-20  Data Science  \n",
       " 2021-04-20  Data Science  \n",
       " 2021-04-20  Data Science  \n",
       " 2021-04-20  Data Science  \n",
       " \n",
       " [21582 rows x 10 columns],\n",
       " 'Darden':                  date      time  \\\n",
       " date                              \n",
       " 2020-07-13 2020-07-13  14:34:44   \n",
       " 2020-07-13 2020-07-13  14:37:22   \n",
       " 2020-07-13 2020-07-13  14:38:28   \n",
       " 2020-07-13 2020-07-13  14:39:21   \n",
       " 2020-07-13 2020-07-13  14:39:36   \n",
       " ...               ...       ...   \n",
       " 2021-04-21 2021-04-21  15:20:12   \n",
       " 2021-04-21 2021-04-21  15:20:12   \n",
       " 2021-04-21 2021-04-21  15:20:12   \n",
       " 2021-04-21 2021-04-21  15:20:14   \n",
       " 2021-04-21 2021-04-21  15:20:18   \n",
       " \n",
       "                                                          page  user_id  \\\n",
       " date                                                                     \n",
       " 2020-07-13                                                  /      678   \n",
       " 2020-07-13                                                  /      679   \n",
       " 2020-07-13                                                  /      680   \n",
       " 2020-07-13                     13-advanced-topics/1-tidy-data      679   \n",
       " 2020-07-13           1-fundamentals/1.1-intro-to-data-science      679   \n",
       " ...                                                       ...      ...   \n",
       " 2021-04-21                            classification/overview      692   \n",
       " 2021-04-21  classification/classical_programming_vs_machin...      692   \n",
       " 2021-04-21           classification/scale_features_or_not.svg      692   \n",
       " 2021-04-21                             classification/project      692   \n",
       " 2021-04-21                             classification/acquire      692   \n",
       " \n",
       "             cohort_id             ip    name start_date   end_date  \\\n",
       " date                                                                 \n",
       " 2020-07-13       59.0  76.201.20.193  Darden 2020-07-13 2021-01-12   \n",
       " 2020-07-13       59.0  24.28.146.155  Darden 2020-07-13 2021-01-12   \n",
       " 2020-07-13       59.0  136.50.56.155  Darden 2020-07-13 2021-01-12   \n",
       " 2020-07-13       59.0  24.28.146.155  Darden 2020-07-13 2021-01-12   \n",
       " 2020-07-13       59.0  24.28.146.155  Darden 2020-07-13 2021-01-12   \n",
       " ...               ...            ...     ...        ...        ...   \n",
       " 2021-04-21       59.0   96.8.130.134  Darden 2020-07-13 2021-01-12   \n",
       " 2021-04-21       59.0   96.8.130.134  Darden 2020-07-13 2021-01-12   \n",
       " 2021-04-21       59.0   96.8.130.134  Darden 2020-07-13 2021-01-12   \n",
       " 2021-04-21       59.0   96.8.130.134  Darden 2020-07-13 2021-01-12   \n",
       " 2021-04-21       59.0   96.8.130.134  Darden 2020-07-13 2021-01-12   \n",
       " \n",
       "               program_id  \n",
       " date                      \n",
       " 2020-07-13  Data Science  \n",
       " 2020-07-13  Data Science  \n",
       " 2020-07-13  Data Science  \n",
       " 2020-07-13  Data Science  \n",
       " 2020-07-13  Data Science  \n",
       " ...                  ...  \n",
       " 2021-04-21  Data Science  \n",
       " 2021-04-21  Data Science  \n",
       " 2021-04-21  Data Science  \n",
       " 2021-04-21  Data Science  \n",
       " 2021-04-21  Data Science  \n",
       " \n",
       " [32015 rows x 10 columns],\n",
       " 'Easley':                  date      time                page  user_id  cohort_id  \\\n",
       " date                                                                      \n",
       " 2020-12-08 2020-12-08  10:49:37                   /      835      133.0   \n",
       " 2020-12-08 2020-12-08  10:49:39                   /      836      133.0   \n",
       " 2020-12-08 2020-12-08  10:49:40                   /      837      133.0   \n",
       " 2020-12-08 2020-12-08  10:49:52                   /      838      133.0   \n",
       " 2020-12-08 2020-12-08  10:50:16                   /      839      133.0   \n",
       " ...               ...       ...                 ...      ...        ...   \n",
       " 2021-04-21 2021-04-21  16:14:16  regression/project      841      133.0   \n",
       " 2021-04-21 2021-04-21  16:15:51  regression/project      841      133.0   \n",
       " 2021-04-21 2021-04-21  16:23:53                   /      143      133.0   \n",
       " 2021-04-21 2021-04-21  16:23:57  clustering/project      841      133.0   \n",
       " 2021-04-21 2021-04-21  16:32:50  clustering/project      841      133.0   \n",
       " \n",
       "                         ip    name start_date   end_date    program_id  \n",
       " date                                                                    \n",
       " 2020-12-08   173.173.109.5  Easley 2020-12-07 2021-06-08  Data Science  \n",
       " 2020-12-08   99.43.137.186  Easley 2020-12-07 2021-06-08  Data Science  \n",
       " 2020-12-08     66.69.79.82  Easley 2020-12-07 2021-06-08  Data Science  \n",
       " 2020-12-08   99.158.249.67  Easley 2020-12-07 2021-06-08  Data Science  \n",
       " 2020-12-08    130.45.49.89  Easley 2020-12-07 2021-06-08  Data Science  \n",
       " ...                    ...     ...        ...        ...           ...  \n",
       " 2021-04-21  99.162.244.233  Easley 2020-12-07 2021-06-08  Data Science  \n",
       " 2021-04-21  99.162.244.233  Easley 2020-12-07 2021-06-08  Data Science  \n",
       " 2021-04-21  173.174.194.60  Easley 2020-12-07 2021-06-08  Data Science  \n",
       " 2021-04-21  99.162.244.233  Easley 2020-12-07 2021-06-08  Data Science  \n",
       " 2021-04-21  99.162.244.233  Easley 2020-12-07 2021-06-08  Data Science  \n",
       " \n",
       " [14715 rows x 10 columns],\n",
       " 'Florence':                  date      time                                page  user_id  \\\n",
       " date                                                                           \n",
       " 2021-03-15 2021-03-15  15:22:48                                   /      896   \n",
       " 2021-03-15 2021-03-15  15:23:17                                   /      897   \n",
       " 2021-03-15 2021-03-15  15:23:33                                   /      898   \n",
       " 2021-03-15 2021-03-15  15:23:48                                   /      899   \n",
       " 2021-03-15 2021-03-15  15:24:05  fundamentals/intro-to-data-science      898   \n",
       " ...               ...       ...                                 ...      ...   \n",
       " 2021-04-21 2021-04-21  12:10:26          python/advanced-dataframes      898   \n",
       " 2021-04-21 2021-04-21  12:47:06                                   /      903   \n",
       " 2021-04-21 2021-04-21  12:47:09                    fundamentals/git      903   \n",
       " 2021-04-21 2021-04-21  12:55:54                   python/dataframes      908   \n",
       " 2021-04-21 2021-04-21  13:23:06                        sql/group-by      903   \n",
       " \n",
       "             cohort_id               ip      name start_date   end_date  \\\n",
       " date                                                                     \n",
       " 2021-03-15      137.0   162.205.226.39  Florence 2021-03-15 2021-09-03   \n",
       " 2021-03-15      137.0    72.181.115.96  Florence 2021-03-15 2021-09-03   \n",
       " 2021-03-15      137.0    208.84.155.68  Florence 2021-03-15 2021-09-03   \n",
       " 2021-03-15      137.0  173.173.110.122  Florence 2021-03-15 2021-09-03   \n",
       " 2021-03-15      137.0    208.84.155.68  Florence 2021-03-15 2021-09-03   \n",
       " ...               ...              ...       ...        ...        ...   \n",
       " 2021-04-21      137.0   99.147.232.101  Florence 2021-03-15 2021-09-03   \n",
       " 2021-04-21      137.0     70.117.8.141  Florence 2021-03-15 2021-09-03   \n",
       " 2021-04-21      137.0     70.117.8.141  Florence 2021-03-15 2021-09-03   \n",
       " 2021-04-21      137.0    68.206.160.11  Florence 2021-03-15 2021-09-03   \n",
       " 2021-04-21      137.0     70.117.8.141  Florence 2021-03-15 2021-09-03   \n",
       " \n",
       "               program_id  \n",
       " date                      \n",
       " 2021-03-15  Data Science  \n",
       " 2021-03-15  Data Science  \n",
       " 2021-03-15  Data Science  \n",
       " 2021-03-15  Data Science  \n",
       " 2021-03-15  Data Science  \n",
       " ...                  ...  \n",
       " 2021-04-21  Data Science  \n",
       " 2021-04-21  Data Science  \n",
       " 2021-04-21  Data Science  \n",
       " 2021-04-21  Data Science  \n",
       " 2021-04-21  Data Science  \n",
       " \n",
       " [8562 rows x 10 columns]}"
      ]
     },
     "execution_count": 19,
     "metadata": {},
     "output_type": "execute_result"
    }
   ],
   "source": [
    "DSDict"
   ]
  },
  {
   "cell_type": "code",
   "execution_count": 45,
   "metadata": {},
   "outputs": [
    {
     "data": {
      "text/plain": [
       "'Hampton'"
      ]
     },
     "metadata": {},
     "output_type": "display_data"
    },
    {
     "data": {
      "text/plain": [
       "page\n",
       "java-iii/servlets     30\n",
       "mysql                 30\n",
       "javascript-ii         31\n",
       "javascript-i          36\n",
       "spring                43\n",
       "java-i                46\n",
       "java-ii               46\n",
       "appendix              55\n",
       "java-iii              57\n",
       "/                    210\n",
       "Name: name, dtype: int64"
      ]
     },
     "metadata": {},
     "output_type": "display_data"
    },
    {
     "data": {
      "text/plain": [
       "'Teddy'"
      ]
     },
     "metadata": {},
     "output_type": "display_data"
    },
    {
     "data": {
      "text/plain": [
       "page\n",
       "appendix                     505\n",
       "java-ii                      509\n",
       "jquery                       512\n",
       "java-i                       522\n",
       "mkdocs/search_index.json     595\n",
       "javascript-i                 615\n",
       "mysql                        638\n",
       "java-iii                     732\n",
       "spring                       744\n",
       "/                           1828\n",
       "Name: name, dtype: int64"
      ]
     },
     "metadata": {},
     "output_type": "display_data"
    },
    {
     "data": {
      "text/plain": [
       "'Sequoia'"
      ]
     },
     "metadata": {},
     "output_type": "display_data"
    },
    {
     "data": {
      "text/plain": [
       "page\n",
       "spring/fundamentals/form-model-binding    156\n",
       "mkdocs/search_index.json                  168\n",
       "html-css                                  168\n",
       "appendix                                  170\n",
       "spring/fundamentals/repositories          172\n",
       "spring/fundamentals/controllers           190\n",
       "javascript-i                              202\n",
       "spring/fundamentals/views                 207\n",
       "spring                                    364\n",
       "/                                         630\n",
       "Name: name, dtype: int64"
      ]
     },
     "metadata": {},
     "output_type": "display_data"
    },
    {
     "data": {
      "text/plain": [
       "'Arches'"
      ]
     },
     "metadata": {},
     "output_type": "display_data"
    },
    {
     "data": {
      "text/plain": [
       "page\n",
       "java-i           132\n",
       "jquery           133\n",
       "appendix         133\n",
       "java-iii         153\n",
       "java-ii          167\n",
       "spring           192\n",
       "javascript-ii    204\n",
       "html-css         215\n",
       "javascript-i     294\n",
       "/                626\n",
       "Name: name, dtype: int64"
      ]
     },
     "metadata": {},
     "output_type": "display_data"
    },
    {
     "data": {
      "text/plain": [
       "'Niagara'"
      ]
     },
     "metadata": {},
     "output_type": "display_data"
    },
    {
     "data": {
      "text/plain": [
       "page\n",
       "java-ii          17\n",
       "java-i           18\n",
       "appendix         20\n",
       "javascript-ii    21\n",
       "javascript-i     23\n",
       "mysql            24\n",
       "java-iii         29\n",
       "/                37\n",
       "index.html       63\n",
       "spring           65\n",
       "Name: name, dtype: int64"
      ]
     },
     "metadata": {},
     "output_type": "display_data"
    },
    {
     "data": {
      "text/plain": [
       "'Pinnacles'"
      ]
     },
     "metadata": {},
     "output_type": "display_data"
    },
    {
     "data": {
      "text/plain": [
       "page\n",
       "mysql                 39\n",
       "java-iii              45\n",
       "java-ii               50\n",
       "javascript-ii/npm     51\n",
       "java-i                54\n",
       "spring                56\n",
       "html-css              56\n",
       "javascript-ii         58\n",
       "javascript-i          69\n",
       "/                    149\n",
       "Name: name, dtype: int64"
      ]
     },
     "metadata": {},
     "output_type": "display_data"
    },
    {
     "data": {
      "text/plain": [
       "'Quincy'"
      ]
     },
     "metadata": {},
     "output_type": "display_data"
    },
    {
     "data": {
      "text/plain": [
       "page\n",
       "content/appendix                                     14\n",
       "content/php_iii/php-with-html                        15\n",
       "javascript-i/conditionals                            16\n",
       "content/php_iii                                      19\n",
       "content/mysql/intro-to-mysql                         19\n",
       "content/laravel/intro/application-structure.html     20\n",
       "content/laravel/intro/environment.html               31\n",
       "content/html-css                                     33\n",
       "content/laravel/intro                                38\n",
       "/                                                   151\n",
       "Name: name, dtype: int64"
      ]
     },
     "metadata": {},
     "output_type": "display_data"
    },
    {
     "data": {
      "text/plain": [
       "'Kings'"
      ]
     },
     "metadata": {},
     "output_type": "display_data"
    },
    {
     "data": {
      "text/plain": [
       "page\n",
       "content/laravel/quickstart/db-migrations.html        40\n",
       "content/php_ii                                       40\n",
       "content/php_iv                                       42\n",
       "content/html-css                                     45\n",
       "content/php_iii                                      47\n",
       "content/laravel/intro/gitbook/images/favicon.ico     56\n",
       "content/laravel/intro/application-structure.html     63\n",
       "content/laravel/intro                                83\n",
       "index.html                                           84\n",
       "/                                                   219\n",
       "Name: name, dtype: int64"
      ]
     },
     "metadata": {},
     "output_type": "display_data"
    },
    {
     "data": {
      "text/plain": [
       "'Lassen'"
      ]
     },
     "metadata": {},
     "output_type": "display_data"
    },
    {
     "data": {
      "text/plain": [
       "page\n",
       "spring/fundamentals/repositories    115\n",
       "/                                   125\n",
       "java-i                              138\n",
       "java-ii                             160\n",
       "appendix                            170\n",
       "html-css                            174\n",
       "spring                              222\n",
       "java-iii                            224\n",
       "javascript-i                        233\n",
       "index.html                          877\n",
       "Name: name, dtype: int64"
      ]
     },
     "metadata": {},
     "output_type": "display_data"
    },
    {
     "data": {
      "text/plain": [
       "'Mammoth'"
      ]
     },
     "metadata": {},
     "output_type": "display_data"
    },
    {
     "data": {
      "text/plain": [
       "page\n",
       "content/php_i/intro-via-interactive-shell     9\n",
       "appendix                                      9\n",
       "javascript-ii                                10\n",
       "java-ii                                      10\n",
       "spring/fundamentals/views                    11\n",
       "spring                                       12\n",
       "spring/fundamentals/controllers              12\n",
       "java-iii                                     13\n",
       "java-i                                       19\n",
       "/                                            33\n",
       "Name: name, dtype: int64"
      ]
     },
     "metadata": {},
     "output_type": "display_data"
    },
    {
     "data": {
      "text/plain": [
       "'Glacier'"
      ]
     },
     "metadata": {},
     "output_type": "display_data"
    },
    {
     "data": {
      "text/plain": [
       "page\n",
       "javascript-i/javascript-with-html                                            14\n",
       "javascript-i/conditionals                                                    16\n",
       "javascript-i/introduction/operators                                          18\n",
       "javascript-i/introduction/variables                                          19\n",
       "javascript-i/functions                                                       20\n",
       "content/html-css/introduction.html                                           20\n",
       "html-css                                                                     21\n",
       "javascript-i/introduction/working-with-data-types-operators-and-variables    24\n",
       "content/html-css                                                             29\n",
       "/                                                                            51\n",
       "Name: name, dtype: int64"
      ]
     },
     "metadata": {},
     "output_type": "display_data"
    },
    {
     "data": {
      "text/plain": [
       "'Denali'"
      ]
     },
     "metadata": {},
     "output_type": "display_data"
    },
    {
     "data": {
      "text/plain": [
       "page\n",
       "/                            1\n",
       "mkdocs/search_index.json     1\n",
       "prework/databases            1\n",
       "prework/versioning/github    1\n",
       "Name: name, dtype: int64"
      ]
     },
     "metadata": {},
     "output_type": "display_data"
    },
    {
     "data": {
      "text/plain": [
       "'Joshua'"
      ]
     },
     "metadata": {},
     "output_type": "display_data"
    },
    {
     "data": {
      "text/plain": [
       "page\n",
       "content/javascript/primitive-types.html     7\n",
       "content/php_iv                              7\n",
       "content/html-css/forms.html                 7\n",
       "index.html                                  8\n",
       "/                                           8\n",
       "content/html-css/elements.html              9\n",
       "content/mysql/intro-to-mysql               10\n",
       "content/javascript                         12\n",
       "content/html-css/introduction.html         14\n",
       "content/html-css                           19\n",
       "Name: name, dtype: int64"
      ]
     },
     "metadata": {},
     "output_type": "display_data"
    },
    {
     "data": {
      "text/plain": [
       "'Olympic'"
      ]
     },
     "metadata": {},
     "output_type": "display_data"
    },
    {
     "data": {
      "text/plain": [
       "page\n",
       "javascript-i/bom-and-dom/bom                                                  60\n",
       "java-i/console-io                                                             60\n",
       "javascript-i/javascript-with-html                                             63\n",
       "javascript-i/introduction/working-with-data-types-operators-and-variables     65\n",
       "html-css                                                                      69\n",
       "java-i/methods                                                                69\n",
       "jquery                                                                        71\n",
       "java-i                                                                        76\n",
       "javascript-i                                                                 128\n",
       "/                                                                            249\n",
       "Name: name, dtype: int64"
      ]
     },
     "metadata": {},
     "output_type": "display_data"
    },
    {
     "data": {
      "text/plain": [
       "'Ulysses'"
      ]
     },
     "metadata": {},
     "output_type": "display_data"
    },
    {
     "data": {
      "text/plain": [
       "page\n",
       "jquery                       364\n",
       "mysql                        367\n",
       "java-i                       377\n",
       "spring                       409\n",
       "java-iii                     412\n",
       "java-ii                      425\n",
       "javascript-i                 526\n",
       "html-css                     562\n",
       "mkdocs/search_index.json     721\n",
       "/                           1641\n",
       "Name: name, dtype: int64"
      ]
     },
     "metadata": {},
     "output_type": "display_data"
    },
    {
     "data": {
      "text/plain": [
       "'Badlands'"
      ]
     },
     "metadata": {},
     "output_type": "display_data"
    },
    {
     "data": {
      "text/plain": [
       "page\n",
       "content/php_i/intro-via-interactive-shell/hello-world-and-other-strings.html     2\n",
       "content/php_i/intro-to-operators                                                 2\n",
       "content/laravel/intro                                                            2\n",
       "content/php_i/intro-via-interactive-shell                                        3\n",
       "content/php_ii                                                                   4\n",
       "content/php_ii/command-line/io-streams.html                                      5\n",
       "content/php_i                                                                    5\n",
       "content/php_ii/control-structures-i                                              5\n",
       "content/php_ii/command-line                                                      6\n",
       "/                                                                               17\n",
       "Name: name, dtype: int64"
      ]
     },
     "metadata": {},
     "output_type": "display_data"
    },
    {
     "data": {
      "text/plain": [
       "'Apollo'"
      ]
     },
     "metadata": {},
     "output_type": "display_data"
    },
    {
     "data": {
      "text/plain": [
       "page\n",
       "/                                              1\n",
       "content/html-css/gitbook/images/favicon.ico    1\n",
       "content/html-css/introduction.html             1\n",
       "content/html-css                               2\n",
       "Name: name, dtype: int64"
      ]
     },
     "metadata": {},
     "output_type": "display_data"
    },
    {
     "data": {
      "text/plain": [
       "'Ike'"
      ]
     },
     "metadata": {},
     "output_type": "display_data"
    },
    {
     "data": {
      "text/plain": [
       "page\n",
       "toc                       6\n",
       "index.html                6\n",
       "html-css/css-i            6\n",
       "javascript-i              7\n",
       "html-css/forms            8\n",
       "content/html-css          9\n",
       "html-css/introduction    10\n",
       "html-css/elements        11\n",
       "html-css                 12\n",
       "/                        19\n",
       "Name: name, dtype: int64"
      ]
     },
     "metadata": {},
     "output_type": "display_data"
    },
    {
     "data": {
      "text/plain": [
       "'Voyageurs'"
      ]
     },
     "metadata": {},
     "output_type": "display_data"
    },
    {
     "data": {
      "text/plain": [
       "page\n",
       "html-css          528\n",
       "jquery            583\n",
       "javascript-ii     584\n",
       "java-i            641\n",
       "spring            650\n",
       "mysql             663\n",
       "java-ii           756\n",
       "java-iii          770\n",
       "javascript-i      884\n",
       "/                2101\n",
       "Name: name, dtype: int64"
      ]
     },
     "metadata": {},
     "output_type": "display_data"
    },
    {
     "data": {
      "text/plain": [
       "'Wrangell'"
      ]
     },
     "metadata": {},
     "output_type": "display_data"
    },
    {
     "data": {
      "text/plain": [
       "page\n",
       "html-css/css-ii/bootstrap-grid-system     313\n",
       "java-ii                                   325\n",
       "java-iii                                  337\n",
       "jquery                                    377\n",
       "java-i                                    406\n",
       "html-css                                  411\n",
       "search/search_index.json                  504\n",
       "javascript-i                              560\n",
       "toc                                       991\n",
       "/                                        1132\n",
       "Name: name, dtype: int64"
      ]
     },
     "metadata": {},
     "output_type": "display_data"
    },
    {
     "data": {
      "text/plain": [
       "'Xanadu'"
      ]
     },
     "metadata": {},
     "output_type": "display_data"
    },
    {
     "data": {
      "text/plain": [
       "page\n",
       "java-i                      484\n",
       "javascript-ii               496\n",
       "java-iii                    497\n",
       "java-ii                     502\n",
       "mysql                       509\n",
       "jquery                      544\n",
       "search/search_index.json    577\n",
       "html-css                    597\n",
       "javascript-i                722\n",
       "/                           924\n",
       "Name: name, dtype: int64"
      ]
     },
     "metadata": {},
     "output_type": "display_data"
    },
    {
     "data": {
      "text/plain": [
       "'Franklin'"
      ]
     },
     "metadata": {},
     "output_type": "display_data"
    },
    {
     "data": {
      "text/plain": [
       "page\n",
       "spring/setup                    2\n",
       "javascript-ii                   2\n",
       "javascript-i/coffee-project     2\n",
       "javascript-i                    2\n",
       "java-iii/user-input             3\n",
       "java-iii                        3\n",
       "java-ii                         3\n",
       "java-i                          3\n",
       "/                               4\n",
       "javascript-ii/es6              10\n",
       "Name: name, dtype: int64"
      ]
     },
     "metadata": {},
     "output_type": "display_data"
    },
    {
     "data": {
      "text/plain": [
       "'Yosemite'"
      ]
     },
     "metadata": {},
     "output_type": "display_data"
    },
    {
     "data": {
      "text/plain": [
       "page\n",
       "javascript-ii/map-filter-reduce    299\n",
       "mysql                              331\n",
       "javascript-ii                      337\n",
       "java-iii                           351\n",
       "search/search_index.json           361\n",
       "spring                             381\n",
       "html-css                           384\n",
       "javascript-i                       452\n",
       "toc                                697\n",
       "/                                  981\n",
       "Name: name, dtype: int64"
      ]
     },
     "metadata": {},
     "output_type": "display_data"
    },
    {
     "data": {
      "text/plain": [
       "'Staff'"
      ]
     },
     "metadata": {},
     "output_type": "display_data"
    },
    {
     "data": {
      "text/plain": [
       "page\n",
       "javascript-ii                993\n",
       "jquery/ajax/weather-map     1050\n",
       "java-ii                     1260\n",
       "html-css                    1284\n",
       "appendix                    1288\n",
       "search/search_index.json    1349\n",
       "java-iii                    1393\n",
       "spring                      1403\n",
       "javascript-i                1817\n",
       "/                           6340\n",
       "Name: name, dtype: int64"
      ]
     },
     "metadata": {},
     "output_type": "display_data"
    },
    {
     "data": {
      "text/plain": [
       "'Zion'"
      ]
     },
     "metadata": {},
     "output_type": "display_data"
    },
    {
     "data": {
      "text/plain": [
       "page\n",
       "java-i                       605\n",
       "java-ii                      624\n",
       "javascript-ii                647\n",
       "spring                       672\n",
       "html-css                     675\n",
       "search/search_index.json     700\n",
       "java-iii                     753\n",
       "javascript-i                 897\n",
       "toc                         1465\n",
       "/                           1798\n",
       "Name: name, dtype: int64"
      ]
     },
     "metadata": {},
     "output_type": "display_data"
    },
    {
     "data": {
      "text/plain": [
       "'Andromeda'"
      ]
     },
     "metadata": {},
     "output_type": "display_data"
    },
    {
     "data": {
      "text/plain": [
       "page\n",
       "java-i           338\n",
       "jquery           338\n",
       "mysql            355\n",
       "html-css         375\n",
       "java-ii          398\n",
       "java-iii         433\n",
       "spring           487\n",
       "javascript-i     516\n",
       "toc              638\n",
       "/               1174\n",
       "Name: name, dtype: int64"
      ]
     },
     "metadata": {},
     "output_type": "display_data"
    },
    {
     "data": {
      "text/plain": [
       "'Betelgeuse'"
      ]
     },
     "metadata": {},
     "output_type": "display_data"
    },
    {
     "data": {
      "text/plain": [
       "page\n",
       "html-css                    457\n",
       "java-iii                    472\n",
       "java-ii                     481\n",
       "java-i                      482\n",
       "html-css/elements           495\n",
       "jquery                      542\n",
       "toc                         610\n",
       "javascript-i                717\n",
       "search/search_index.json    761\n",
       "/                           955\n",
       "Name: name, dtype: int64"
      ]
     },
     "metadata": {},
     "output_type": "display_data"
    },
    {
     "data": {
      "text/plain": [
       "'Ceres'"
      ]
     },
     "metadata": {},
     "output_type": "display_data"
    },
    {
     "data": {
      "text/plain": [
       "page\n",
       "spring                       562\n",
       "mysql                        622\n",
       "jquery                       637\n",
       "java-ii                      681\n",
       "java-iii                     682\n",
       "html-css                     766\n",
       "toc                          911\n",
       "javascript-i                1003\n",
       "search/search_index.json    1380\n",
       "/                           1653\n",
       "Name: name, dtype: int64"
      ]
     },
     "metadata": {},
     "output_type": "display_data"
    },
    {
     "data": {
      "text/plain": [
       "'Deimos'"
      ]
     },
     "metadata": {},
     "output_type": "display_data"
    },
    {
     "data": {
      "text/plain": [
       "page\n",
       "java-ii                      511\n",
       "mysql                        517\n",
       "java-iii                     523\n",
       "spring                       533\n",
       "jquery                       563\n",
       "search/search_index.json     746\n",
       "toc                          750\n",
       "html-css                     773\n",
       "javascript-i                 896\n",
       "/                           1467\n",
       "Name: name, dtype: int64"
      ]
     },
     "metadata": {},
     "output_type": "display_data"
    },
    {
     "data": {
      "text/plain": [
       "'Europa'"
      ]
     },
     "metadata": {},
     "output_type": "display_data"
    },
    {
     "data": {
      "text/plain": [
       "page\n",
       "html-css                     353\n",
       "jquery                       370\n",
       "mysql                        372\n",
       "java-ii                      375\n",
       "html-css/elements            430\n",
       "java-iii                     451\n",
       "javascript-i                 506\n",
       "search/search_index.json     742\n",
       "toc                          964\n",
       "/                           1295\n",
       "Name: name, dtype: int64"
      ]
     },
     "metadata": {},
     "output_type": "display_data"
    },
    {
     "data": {
      "text/plain": [
       "'Fortuna'"
      ]
     },
     "metadata": {},
     "output_type": "display_data"
    },
    {
     "data": {
      "text/plain": [
       "page\n",
       "java-i                       555\n",
       "html-css                     585\n",
       "mysql                        591\n",
       "spring                       636\n",
       "java-ii                      657\n",
       "javascript-i                 785\n",
       "java-iii                     786\n",
       "search/search_index.json    1020\n",
       "toc                         1293\n",
       "/                           2038\n",
       "Name: name, dtype: int64"
      ]
     },
     "metadata": {},
     "output_type": "display_data"
    },
    {
     "data": {
      "text/plain": [
       "'Apex'"
      ]
     },
     "metadata": {},
     "output_type": "display_data"
    },
    {
     "data": {
      "text/plain": [
       "page\n",
       "mysql                        483\n",
       "java-i                       590\n",
       "spring                       600\n",
       "java-iii                     663\n",
       "java-ii                      666\n",
       "javascript-i                 669\n",
       "html-css                     738\n",
       "toc                          810\n",
       "/                           1346\n",
       "search/search_index.json    1497\n",
       "Name: name, dtype: int64"
      ]
     },
     "metadata": {},
     "output_type": "display_data"
    },
    {
     "data": {
      "text/plain": [
       "'Ganymede'"
      ]
     },
     "metadata": {},
     "output_type": "display_data"
    },
    {
     "data": {
      "text/plain": [
       "page\n",
       "java-i                       515\n",
       "javascript-ii                525\n",
       "jquery                       536\n",
       "appendix                     561\n",
       "java-ii                      641\n",
       "java-iii                     651\n",
       "javascript-i                 760\n",
       "toc                          822\n",
       "search/search_index.json    1095\n",
       "/                           1727\n",
       "Name: name, dtype: int64"
      ]
     },
     "metadata": {},
     "output_type": "display_data"
    },
    {
     "data": {
      "text/plain": [
       "'Everglades'"
      ]
     },
     "metadata": {},
     "output_type": "display_data"
    },
    {
     "data": {
      "text/plain": [
       "page\n",
       "/    1\n",
       "Name: name, dtype: int64"
      ]
     },
     "metadata": {},
     "output_type": "display_data"
    },
    {
     "data": {
      "text/plain": [
       "'Hyperion'"
      ]
     },
     "metadata": {},
     "output_type": "display_data"
    },
    {
     "data": {
      "text/plain": [
       "page\n",
       "java-i                       489\n",
       "jquery                       497\n",
       "spring                       526\n",
       "mysql                        553\n",
       "search/search_index.json     670\n",
       "java-ii                      688\n",
       "java-iii                     701\n",
       "javascript-i                 910\n",
       "toc                         1022\n",
       "/                           1365\n",
       "Name: name, dtype: int64"
      ]
     },
     "metadata": {},
     "output_type": "display_data"
    },
    {
     "data": {
      "text/plain": [
       "'Bash'"
      ]
     },
     "metadata": {},
     "output_type": "display_data"
    },
    {
     "data": {
      "text/plain": [
       "page\n",
       "javascript-i/introduction    256\n",
       "jquery                       262\n",
       "html-css                     265\n",
       "java-ii                      268\n",
       "spring                       311\n",
       "java-iii                     324\n",
       "javascript-i                 374\n",
       "toc                          404\n",
       "search/search_index.json     660\n",
       "/                            772\n",
       "Name: name, dtype: int64"
      ]
     },
     "metadata": {},
     "output_type": "display_data"
    },
    {
     "data": {
      "text/plain": [
       "'Jupiter'"
      ]
     },
     "metadata": {},
     "output_type": "display_data"
    },
    {
     "data": {
      "text/plain": [
       "page\n",
       "java-i                       503\n",
       "mysql                        564\n",
       "spring                       621\n",
       "java-ii                      755\n",
       "html-css                     784\n",
       "java-iii                     795\n",
       "javascript-i                 926\n",
       "search/search_index.json     998\n",
       "/                           1696\n",
       "toc                         1866\n",
       "Name: name, dtype: int64"
      ]
     },
     "metadata": {},
     "output_type": "display_data"
    },
    {
     "data": {
      "text/plain": [
       "'Kalypso'"
      ]
     },
     "metadata": {},
     "output_type": "display_data"
    },
    {
     "data": {
      "text/plain": [
       "page\n",
       "java-i                      408\n",
       "java-ii                     417\n",
       "javascript-ii               440\n",
       "java-iii                    456\n",
       "search/search_index.json    467\n",
       "jquery                      470\n",
       "html-css                    495\n",
       "toc                         495\n",
       "javascript-i                631\n",
       "/                           939\n",
       "Name: name, dtype: int64"
      ]
     },
     "metadata": {},
     "output_type": "display_data"
    },
    {
     "data": {
      "text/plain": [
       "'Luna'"
      ]
     },
     "metadata": {},
     "output_type": "display_data"
    },
    {
     "data": {
      "text/plain": [
       "page\n",
       "javascript-ii                                                                247\n",
       "java-ii                                                                      255\n",
       "java-iii                                                                     259\n",
       "jquery                                                                       301\n",
       "html-css                                                                     307\n",
       "javascript-i/introduction/working-with-data-types-operators-and-variables    315\n",
       "toc                                                                          373\n",
       "search/search_index.json                                                     405\n",
       "/                                                                            491\n",
       "javascript-i                                                                 676\n",
       "Name: name, dtype: int64"
      ]
     },
     "metadata": {},
     "output_type": "display_data"
    },
    {
     "data": {
      "text/plain": [
       "'Marco'"
      ]
     },
     "metadata": {},
     "output_type": "display_data"
    },
    {
     "data": {
      "text/plain": [
       "page\n",
       "javascript-i/conditionals                                                    292\n",
       "javascript-i/loops                                                           312\n",
       "javascript-i/functions                                                       382\n",
       "jquery                                                                       405\n",
       "javascript-i/javascript-with-html                                            411\n",
       "html-css                                                                     479\n",
       "javascript-i/introduction/working-with-data-types-operators-and-variables    505\n",
       "/                                                                            699\n",
       "javascript-i                                                                 907\n",
       "toc                                                                          910\n",
       "Name: name, dtype: int64"
      ]
     },
     "metadata": {},
     "output_type": "display_data"
    },
    {
     "data": {
      "text/plain": [
       "'Neptune'"
      ]
     },
     "metadata": {},
     "output_type": "display_data"
    },
    {
     "data": {
      "text/plain": [
       "page\n",
       "javascript-i/functions                                                       217\n",
       "javascript-i/loops                                                           226\n",
       "html-css/css-ii/bootstrap-introduction                                       227\n",
       "html-css/css-ii/bootstrap-grid-system                                        256\n",
       "javascript-i                                                                 272\n",
       "javascript-i/javascript-with-html                                            311\n",
       "html-css                                                                     313\n",
       "javascript-i/introduction/working-with-data-types-operators-and-variables    329\n",
       "toc                                                                          451\n",
       "/                                                                            472\n",
       "Name: name, dtype: int64"
      ]
     },
     "metadata": {},
     "output_type": "display_data"
    },
    {
     "data": {
      "text/plain": [
       "'Oberon'"
      ]
     },
     "metadata": {},
     "output_type": "display_data"
    },
    {
     "data": {
      "text/plain": [
       "page\n",
       "javascript-i/introduction/variables                                           95\n",
       "toc                                                                          101\n",
       "javascript-i/javascript-with-html                                            125\n",
       "/                                                                            131\n",
       "javascript-i                                                                 136\n",
       "javascript-i/conditionals                                                    144\n",
       "javascript-i/introduction/working-with-data-types-operators-and-variables    146\n",
       "javascript-i/functions                                                       171\n",
       "javascript-i/introduction/primitive-types                                    177\n",
       "javascript-i/introduction/operators                                          179\n",
       "Name: name, dtype: int64"
      ]
     },
     "metadata": {},
     "output_type": "display_data"
    }
   ],
   "source": [
    "#cohorts Kings, quincy, and joshua all look at PHP in their top 10 most visited lessons. they also have differently marked pathways to their content which could suggest that they made significant changes before or after these cohorts.\n",
    "for x in WebDevDict:\n",
    "    display(x, WebDevDict[x].groupby('page')['name'].count().sort_values().tail(10))\n"
   ]
  },
  {
   "cell_type": "code",
   "execution_count": 46,
   "metadata": {},
   "outputs": [
    {
     "data": {
      "text/plain": [
       "'Bayes'"
      ]
     },
     "metadata": {},
     "output_type": "display_data"
    },
    {
     "data": {
      "text/plain": [
       "page\n",
       "10-anomaly-detection/AnomalyDetectionCartoon.jpeg     387\n",
       "6-regression/1-overview                               521\n",
       "search/search_index.json                              588\n",
       "1-fundamentals/1.1-intro-to-data-science              640\n",
       "1-fundamentals/AI-ML-DL-timeline.jpg                  648\n",
       "1-fundamentals/modern-data-scientist.jpg              650\n",
       "/                                                    1967\n",
       "Name: name, dtype: int64"
      ]
     },
     "metadata": {},
     "output_type": "display_data"
    },
    {
     "data": {
      "text/plain": [
       "'Curie'"
      ]
     },
     "metadata": {},
     "output_type": "display_data"
    },
    {
     "data": {
      "text/plain": [
       "page\n",
       "3-sql/1-mysql-overview                       441\n",
       "1-fundamentals/1.1-intro-to-data-science     461\n",
       "1-fundamentals/AI-ML-DL-timeline.jpg         465\n",
       "1-fundamentals/modern-data-scientist.jpg     467\n",
       "search/search_index.json                     538\n",
       "6-regression/1-overview                      595\n",
       "/                                           1712\n",
       "Name: name, dtype: int64"
      ]
     },
     "metadata": {},
     "output_type": "display_data"
    },
    {
     "data": {
      "text/plain": [
       "'Darden'"
      ]
     },
     "metadata": {},
     "output_type": "display_data"
    },
    {
     "data": {
      "text/plain": [
       "page\n",
       "anomaly-detection/overview                         592\n",
       "anomaly-detection/AnomalyDetectionCartoon.jpeg     612\n",
       "search/search_index.json                           664\n",
       "sql/mysql-overview                                 774\n",
       "classification/scale_features_or_not.svg           943\n",
       "classification/overview                           1109\n",
       "/                                                 2980\n",
       "Name: name, dtype: int64"
      ]
     },
     "metadata": {},
     "output_type": "display_data"
    },
    {
     "data": {
      "text/plain": [
       "'Easley'"
      ]
     },
     "metadata": {},
     "output_type": "display_data"
    },
    {
     "data": {
      "text/plain": [
       "page\n",
       "fundamentals/intro-to-data-science                                372\n",
       "fundamentals/modern-data-scientist.jpg                            379\n",
       "fundamentals/AI-ML-DL-timeline.jpg                                381\n",
       "classification/classical_programming_vs_machine_learning.jpeg     432\n",
       "classification/overview                                           445\n",
       "classification/scale_features_or_not.svg                          463\n",
       "/                                                                1115\n",
       "Name: name, dtype: int64"
      ]
     },
     "metadata": {},
     "output_type": "display_data"
    },
    {
     "data": {
      "text/plain": [
       "'Florence'"
      ]
     },
     "metadata": {},
     "output_type": "display_data"
    },
    {
     "data": {
      "text/plain": [
       "page\n",
       "sql/mysql-overview                        203\n",
       "fundamentals/DataToAction_v2.jpg          208\n",
       "python/data-types-and-variables           258\n",
       "/                                         584\n",
       "fundamentals/intro-to-data-science        615\n",
       "fundamentals/AI-ML-DL-timeline.jpg        624\n",
       "fundamentals/modern-data-scientist.jpg    627\n",
       "Name: name, dtype: int64"
      ]
     },
     "metadata": {},
     "output_type": "display_data"
    }
   ],
   "source": [
    "# Regression lesson in most viewed for Curie  with ab 600 clicks where as it barely shows up one other time in the top 6 lessons for other data science cohorts\n",
    "for x in DSDict:\n",
    "    display(x, DSDict[x].groupby('page')['name'].count().sort_values().tail(7))\n"
   ]
  },
  {
   "cell_type": "code",
   "execution_count": 42,
   "metadata": {},
   "outputs": [],
   "source": [
    "newdf = df.groupby(['program_id','page'])['page'].count().nlargest(5)"
   ]
  },
  {
   "cell_type": "code",
   "execution_count": 43,
   "metadata": {},
   "outputs": [
    {
     "data": {
      "text/plain": [
       "program_id  page                    \n",
       "Java        /                           35814\n",
       "            javascript-i                17457\n",
       "            toc                         17428\n",
       "            search/search_index.json    15212\n",
       "            java-iii                    12683\n",
       "Name: page, dtype: int64"
      ]
     },
     "execution_count": 43,
     "metadata": {},
     "output_type": "execute_result"
    }
   ],
   "source": [
    "newdf"
   ]
  },
  {
   "cell_type": "code",
   "execution_count": 24,
   "metadata": {},
   "outputs": [
    {
     "data": {
      "text/html": [
       "<div>\n",
       "<style scoped>\n",
       "    .dataframe tbody tr th:only-of-type {\n",
       "        vertical-align: middle;\n",
       "    }\n",
       "\n",
       "    .dataframe tbody tr th {\n",
       "        vertical-align: top;\n",
       "    }\n",
       "\n",
       "    .dataframe thead th {\n",
       "        text-align: right;\n",
       "    }\n",
       "</style>\n",
       "<table border=\"1\" class=\"dataframe\">\n",
       "  <thead>\n",
       "    <tr style=\"text-align: right;\">\n",
       "      <th></th>\n",
       "      <th>date</th>\n",
       "      <th>time</th>\n",
       "      <th>page</th>\n",
       "      <th>user_id</th>\n",
       "      <th>cohort_id</th>\n",
       "      <th>ip</th>\n",
       "      <th>name</th>\n",
       "      <th>start_date</th>\n",
       "      <th>end_date</th>\n",
       "      <th>program_id</th>\n",
       "    </tr>\n",
       "    <tr>\n",
       "      <th>date</th>\n",
       "      <th></th>\n",
       "      <th></th>\n",
       "      <th></th>\n",
       "      <th></th>\n",
       "      <th></th>\n",
       "      <th></th>\n",
       "      <th></th>\n",
       "      <th></th>\n",
       "      <th></th>\n",
       "      <th></th>\n",
       "    </tr>\n",
       "  </thead>\n",
       "  <tbody>\n",
       "    <tr>\n",
       "      <th>2018-01-26</th>\n",
       "      <td>2018-01-26</td>\n",
       "      <td>09:55:03</td>\n",
       "      <td>/</td>\n",
       "      <td>1</td>\n",
       "      <td>8.0</td>\n",
       "      <td>97.105.19.61</td>\n",
       "      <td>Hampton</td>\n",
       "      <td>2015-09-22</td>\n",
       "      <td>2016-02-06</td>\n",
       "      <td>PHP</td>\n",
       "    </tr>\n",
       "    <tr>\n",
       "      <th>2018-01-26</th>\n",
       "      <td>2018-01-26</td>\n",
       "      <td>09:56:02</td>\n",
       "      <td>java-ii</td>\n",
       "      <td>1</td>\n",
       "      <td>8.0</td>\n",
       "      <td>97.105.19.61</td>\n",
       "      <td>Hampton</td>\n",
       "      <td>2015-09-22</td>\n",
       "      <td>2016-02-06</td>\n",
       "      <td>PHP</td>\n",
       "    </tr>\n",
       "    <tr>\n",
       "      <th>2018-01-26</th>\n",
       "      <td>2018-01-26</td>\n",
       "      <td>09:56:05</td>\n",
       "      <td>java-ii/object-oriented-programming</td>\n",
       "      <td>1</td>\n",
       "      <td>8.0</td>\n",
       "      <td>97.105.19.61</td>\n",
       "      <td>Hampton</td>\n",
       "      <td>2015-09-22</td>\n",
       "      <td>2016-02-06</td>\n",
       "      <td>PHP</td>\n",
       "    </tr>\n",
       "    <tr>\n",
       "      <th>2018-01-26</th>\n",
       "      <td>2018-01-26</td>\n",
       "      <td>09:56:06</td>\n",
       "      <td>slides/object_oriented_programming</td>\n",
       "      <td>1</td>\n",
       "      <td>8.0</td>\n",
       "      <td>97.105.19.61</td>\n",
       "      <td>Hampton</td>\n",
       "      <td>2015-09-22</td>\n",
       "      <td>2016-02-06</td>\n",
       "      <td>PHP</td>\n",
       "    </tr>\n",
       "    <tr>\n",
       "      <th>2018-01-26</th>\n",
       "      <td>2018-01-26</td>\n",
       "      <td>09:56:24</td>\n",
       "      <td>javascript-i/conditionals</td>\n",
       "      <td>2</td>\n",
       "      <td>22.0</td>\n",
       "      <td>97.105.19.61</td>\n",
       "      <td>Teddy</td>\n",
       "      <td>2018-01-08</td>\n",
       "      <td>2018-05-17</td>\n",
       "      <td>Java</td>\n",
       "    </tr>\n",
       "    <tr>\n",
       "      <th>...</th>\n",
       "      <td>...</td>\n",
       "      <td>...</td>\n",
       "      <td>...</td>\n",
       "      <td>...</td>\n",
       "      <td>...</td>\n",
       "      <td>...</td>\n",
       "      <td>...</td>\n",
       "      <td>...</td>\n",
       "      <td>...</td>\n",
       "      <td>...</td>\n",
       "    </tr>\n",
       "    <tr>\n",
       "      <th>2021-04-21</th>\n",
       "      <td>2021-04-21</td>\n",
       "      <td>16:41:51</td>\n",
       "      <td>jquery/personal-site</td>\n",
       "      <td>64</td>\n",
       "      <td>28.0</td>\n",
       "      <td>71.150.217.33</td>\n",
       "      <td>Staff</td>\n",
       "      <td>2014-02-04</td>\n",
       "      <td>2014-02-04</td>\n",
       "      <td>Java</td>\n",
       "    </tr>\n",
       "    <tr>\n",
       "      <th>2021-04-21</th>\n",
       "      <td>2021-04-21</td>\n",
       "      <td>16:42:02</td>\n",
       "      <td>jquery/mapbox-api</td>\n",
       "      <td>64</td>\n",
       "      <td>28.0</td>\n",
       "      <td>71.150.217.33</td>\n",
       "      <td>Staff</td>\n",
       "      <td>2014-02-04</td>\n",
       "      <td>2014-02-04</td>\n",
       "      <td>Java</td>\n",
       "    </tr>\n",
       "    <tr>\n",
       "      <th>2021-04-21</th>\n",
       "      <td>2021-04-21</td>\n",
       "      <td>16:42:09</td>\n",
       "      <td>jquery/ajax/weather-map</td>\n",
       "      <td>64</td>\n",
       "      <td>28.0</td>\n",
       "      <td>71.150.217.33</td>\n",
       "      <td>Staff</td>\n",
       "      <td>2014-02-04</td>\n",
       "      <td>2014-02-04</td>\n",
       "      <td>Java</td>\n",
       "    </tr>\n",
       "    <tr>\n",
       "      <th>2021-04-21</th>\n",
       "      <td>2021-04-21</td>\n",
       "      <td>16:44:37</td>\n",
       "      <td>anomaly-detection/discrete-probabilistic-methods</td>\n",
       "      <td>744</td>\n",
       "      <td>28.0</td>\n",
       "      <td>24.160.137.86</td>\n",
       "      <td>Staff</td>\n",
       "      <td>2014-02-04</td>\n",
       "      <td>2014-02-04</td>\n",
       "      <td>Java</td>\n",
       "    </tr>\n",
       "    <tr>\n",
       "      <th>2021-04-21</th>\n",
       "      <td>2021-04-21</td>\n",
       "      <td>16:44:39</td>\n",
       "      <td>jquery/mapbox-api</td>\n",
       "      <td>64</td>\n",
       "      <td>28.0</td>\n",
       "      <td>71.150.217.33</td>\n",
       "      <td>Staff</td>\n",
       "      <td>2014-02-04</td>\n",
       "      <td>2014-02-04</td>\n",
       "      <td>Java</td>\n",
       "    </tr>\n",
       "  </tbody>\n",
       "</table>\n",
       "<p>900223 rows × 10 columns</p>\n",
       "</div>"
      ],
      "text/plain": [
       "                 date      time  \\\n",
       "date                              \n",
       "2018-01-26 2018-01-26  09:55:03   \n",
       "2018-01-26 2018-01-26  09:56:02   \n",
       "2018-01-26 2018-01-26  09:56:05   \n",
       "2018-01-26 2018-01-26  09:56:06   \n",
       "2018-01-26 2018-01-26  09:56:24   \n",
       "...               ...       ...   \n",
       "2021-04-21 2021-04-21  16:41:51   \n",
       "2021-04-21 2021-04-21  16:42:02   \n",
       "2021-04-21 2021-04-21  16:42:09   \n",
       "2021-04-21 2021-04-21  16:44:37   \n",
       "2021-04-21 2021-04-21  16:44:39   \n",
       "\n",
       "                                                        page  user_id  \\\n",
       "date                                                                    \n",
       "2018-01-26                                                 /        1   \n",
       "2018-01-26                                           java-ii        1   \n",
       "2018-01-26               java-ii/object-oriented-programming        1   \n",
       "2018-01-26                slides/object_oriented_programming        1   \n",
       "2018-01-26                         javascript-i/conditionals        2   \n",
       "...                                                      ...      ...   \n",
       "2021-04-21                              jquery/personal-site       64   \n",
       "2021-04-21                                 jquery/mapbox-api       64   \n",
       "2021-04-21                           jquery/ajax/weather-map       64   \n",
       "2021-04-21  anomaly-detection/discrete-probabilistic-methods      744   \n",
       "2021-04-21                                 jquery/mapbox-api       64   \n",
       "\n",
       "            cohort_id             ip     name start_date   end_date program_id  \n",
       "date                                                                            \n",
       "2018-01-26        8.0   97.105.19.61  Hampton 2015-09-22 2016-02-06        PHP  \n",
       "2018-01-26        8.0   97.105.19.61  Hampton 2015-09-22 2016-02-06        PHP  \n",
       "2018-01-26        8.0   97.105.19.61  Hampton 2015-09-22 2016-02-06        PHP  \n",
       "2018-01-26        8.0   97.105.19.61  Hampton 2015-09-22 2016-02-06        PHP  \n",
       "2018-01-26       22.0   97.105.19.61    Teddy 2018-01-08 2018-05-17       Java  \n",
       "...               ...            ...      ...        ...        ...        ...  \n",
       "2021-04-21       28.0  71.150.217.33    Staff 2014-02-04 2014-02-04       Java  \n",
       "2021-04-21       28.0  71.150.217.33    Staff 2014-02-04 2014-02-04       Java  \n",
       "2021-04-21       28.0  71.150.217.33    Staff 2014-02-04 2014-02-04       Java  \n",
       "2021-04-21       28.0  24.160.137.86    Staff 2014-02-04 2014-02-04       Java  \n",
       "2021-04-21       28.0  71.150.217.33    Staff 2014-02-04 2014-02-04       Java  \n",
       "\n",
       "[900223 rows x 10 columns]"
      ]
     },
     "execution_count": 24,
     "metadata": {},
     "output_type": "execute_result"
    }
   ],
   "source": [
    "df"
   ]
  }
 ],
 "metadata": {
  "kernelspec": {
   "display_name": "Python 3 (ipykernel)",
   "language": "python",
   "name": "python3"
  },
  "language_info": {
   "codemirror_mode": {
    "name": "ipython",
    "version": 3
   },
   "file_extension": ".py",
   "mimetype": "text/x-python",
   "name": "python",
   "nbconvert_exporter": "python",
   "pygments_lexer": "ipython3",
   "version": "3.9.12"
  }
 },
 "nbformat": 4,
 "nbformat_minor": 1
}
